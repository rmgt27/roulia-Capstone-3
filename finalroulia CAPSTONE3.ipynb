{
 "cells": [
  {
   "cell_type": "code",
   "execution_count": 347,
   "metadata": {},
   "outputs": [],
   "source": [
    "# Bank Analytics: Bank Marketing Campaign\n",
    "### Created By : Roulia Martha Gabriella Tambunan"
   ]
  },
  {
   "cell_type": "markdown",
   "metadata": {},
   "source": [
    "## Business Problem Understanding"
   ]
  },
  {
   "cell_type": "markdown",
   "metadata": {},
   "source": [
    "**Context**  \n",
    "Jenis produk keuangan yang digunakan masyarakat semakin bervariasi. Salah satu produk keuangan yang banyak dikenal masyarakat adalah deposito berjangka. Mekanisme deposito berjangka adalah nasabah menyetorkan sejumlah uangnya ke bank atau lembaga keuangan, dan uang tersebut baru dapat ditarik setelah jangka waktu tertentu. Sebagai imbalannya, nasabah akan diberikan bunga tetap sesuai dengan jumlah nominal uang yang disetorkan.\n",
    "\n",
    "Meski demikian, sebagai badan usaha yang memiliki produk keuangan dan nasabah masing-masing, bank tetap harus bersaing agar tidak kehilangan nasabah. Salah satu cara untuk mendapatkan pelanggan baru adalah dengan melakukan kampanye pemasaran. \n",
    "Industri perbankan ingin mengetahui nasabah mana yang benar-benar menyetorkan sejumlah uangnya ke bank atau lembaga keuangan untuk menghimpun dana dari nasabah dalam bentuk simpanan deposito berjangka atau mencari nasabah baru karena membantu meningkatkan jumlah nasabah yang akan bergabung dan waktu serta kualitas atau perencanaan menabung dan kategorisasi nasabah. Informasi terkait demografi, pekerjaan, status pinjaman, status kepemilikan rumah dari daftar nasabah.\n",
    "\n",
    "Target :\n",
    "\n",
    "0 : Tidak mencari perubahan bank atau lembaga keuangan untuk produk keuangan deposito berjangka\n",
    "\n",
    "1 : Mencari perubahan bank atau lembaga keuangan untuk produk keuangan deposito berjangka"
   ]
  },
  {
   "cell_type": "markdown",
   "metadata": {},
   "source": [
    "**Problem Statement :**\n",
    "\n",
    "Proses penseleksian bisa makan waktu dan sumber daya jika industri perbankan menargetkan semua kandidat tanpa melakukan penyaringan terlebih dahulu. Bank atau lembaga keuangan ingin meningkatkan jumlah nasabah dengan mengetahui nasabah mana yang memmencari produk keuangan dalam bentuk deposito berjangka sehingga mereka dapat menyetorkan sejumlah uang ke bank dengan persyaratan pengambilan dalam jangka waktu tertentu dengan imbalan bunga tetap sesuai jumlah nominal uang yang disetorkan dan akan jadi salahsatu nasabah dari bank atau lembaga keuangan tersebut\n",
    "\n",
    "\n",
    "Dan jika deposito berjangka ditawarkan kepada kepada semua nasabah bank atau lembaga keuangan tersebut, maka nasabah akan berkurang karena tidak semua kebutuhan dan produk keuangan yang dibutuhkan dan dicari setiap nasabah sama.\n",
    "\n",
    "**Goals :**\n",
    "\n",
    "Maka berdasarkan permasalahan tersebut, bank atau lembaga keuangan ingin memiliki kemampuan untuk memprediksi kemungkinan seorang kandidat akan/ingin membeli produk keuangan deposito berjangka pada bank atau lembaga keuangan tersebut atau tidak, sehingga dapat memfokuskan penawaran produk pada kandidat yang bersedia membeli produk deposito berjangka pada bank atau lembaga keuangan tersebut.\n",
    "\n",
    "Dan juga, bank atau lembaga keuangan ingin mengetahui apa/faktor/variabel apa yang membuat seorang kandidat nasabah mau membeli produk deposito jangka panjang atau tidak, sehingga mereka dapat membuat rencana yang lebih baik dalam mendekati nasabah potensial (calon nasabah yang ingin melakukan deposito di bank atau lembaga keuangan tersebut) .\n",
    "\n",
    "**Analytic Approach :**\n",
    "\n",
    "![image.png](attachment:image.png)\n",
    "\n",
    "- True Positive: Calon nasabah melakukan deposito dan berhak menerima bunga sesuai jumlah nominal yang disetorkan\n",
    "- False Positive: Calon nasabah tidak melakukan deposito namun, berhak menerima bunga sesuai jumlah nominal yang disetorkan\n",
    "- False Negative: Calon nasabah melakukan deposito namun, tidak berhak menerima bunga sesuai jumlah nominal yang disetorkan\n",
    "- True Negative: Calon nasabah tidak melakukan deposito dan tidak berhak menerima bunga sesuai jumlah nominal yang disetorkan\n",
    "Calon nasabah melakukan deposito namun, tidak berhak menerima bunga sesuai jumlah nominal yang disetorkan\n",
    "\n",
    "Error type 1 (False Positive):\n",
    "Konsekuensi: Biaya pemasaran dan sumber daya perusahaan terbuang percuma.\n",
    "\n",
    "Error type 2 (False Negative):\n",
    "Konsekuensi: Kehilangan calon potensial.\n",
    "\n",
    "Berdasarkan konsekuensi dari setiap jenis kesalahan, fokus utama adalah untuk meminimalkan Error type 2. Ini sangat penting karena error tipe 2 ini jenis kesalahan ini berpotensi penurunan kepuasan nasabah dan potensi kerusakan reputasi lembaga keuangan, yang dapat berujung pada kehilangan nasabah dan pendapatan.\n",
    "\n",
    "Metrik Utama: Recall score\n",
    "\n",
    "Recall akan menjadi metrik utama untuk evaluasi model. Metrik ini diutamakan karena perusahaan ingin memastikan bahwa semua deposito yang seharusnya menerima bunga sesuai jumlah yang disetorkan. Hal ini untuk meningkatkan efisiensi lembaga keuangan dalam memproses perhitungan jatuh tempo deposito dari nasabah apakah di selesaikan dengan cara dicaitkan atau dilakukan Automatic Roll Over (ARO) dari deposito yang nasabah miliki dan mencerminkan komitmen lembaga keuangan terhadap pelayanan terhadap nasabah yang berkualitas dan tanggung jawab dalam memenuhi pencairan dana dan penjaminan dana yang telah didepositokan secara sah.\n",
    "\n",
    "Jadi yang akan kita lakukan adalah menganalisis data untuk menemukan pola yang membedakan nasabah yang mau deposito berjangka di bank atau lembaga keuangan yang ditawarkan atau justru ke bank atau lembaga keuangan lain.\n",
    "\n",
    "Kemudian kita akan membangun model klasifikasi yang akan membantu bank atau lembaga keuangan untuk dapat memprediksi probabilitas seorang nasabah akan/ingin depositokan uang mereka di bank atau lembaga keuangan tersebut atau tidak."
   ]
  },
  {
   "cell_type": "code",
   "execution_count": 348,
   "metadata": {},
   "outputs": [],
   "source": [
    "data_bank_marketing_campaign = pd.read_csv('data_bank_marketing_campaign.csv')"
   ]
  },
  {
   "cell_type": "code",
   "execution_count": 349,
   "metadata": {},
   "outputs": [],
   "source": [
    "data_bank_marketing_campaign = pd.read_csv('data_bank_marketing_campaign.csv', sep=';')\n"
   ]
  },
  {
   "cell_type": "markdown",
   "metadata": {},
   "source": [
    "## Data Understanding"
   ]
  },
  {
   "cell_type": "markdown",
   "metadata": {},
   "source": [
    "Note : \n",
    "- Dataset tidak seimbang\n",
    "- Sebagian besar fitur bersifat kategori (Nominal, Ordinal, Binary), beberapa dengan kardinalitas tinggi\n",
    "- Setiap baris data merepresentasikan informasi seorang kandidat yang ditawarkan bekerja dimasa lalu"
   ]
  },
  {
   "cell_type": "markdown",
   "metadata": {},
   "source": [
    "### Attribute Information\n",
    "\n",
    "| Attribute | Data Type, Length | Description |\n",
    "| --- | --- | --- |\n",
    "| Age | Integer | Unique ID For Candidate |\n",
    "| Job | Text | Job Description |\n",
    "| Housing | Integer | Housing Status |\n",
    "| Loan | Text | Loan Status |\n",
    "| Contact | Text | Contact communication type  |\n",
    "| Mounth | Text | Last contact month of the year|\n",
    "| Campaign  | Integer | Number of contacts performed during this campaign and for this client|\n",
    "| Pdays | Integer |  Number of days after the client was contacted from the previous campaign. |\n",
    "| Poutcome | Text | Outcome of the previous marketing campaign |\n",
    "| Deposit | Text | Whether the customer deposits or not |\n"
   ]
  },
  {
   "cell_type": "code",
   "execution_count": 350,
   "metadata": {},
   "outputs": [
    {
     "name": "stdout",
     "output_type": "stream",
     "text": [
      "       age;job;balance;housing;loan;contact;month;campaign;pdays;poutcome;deposit\n",
      "count                                                7813                        \n",
      "unique                                               7805                        \n",
      "top     34;management;0;no;no;cellular;aug;2;-1;unknow...                        \n",
      "freq                                                    2                        \n",
      "age;job;balance;housing;loan;contact;month;campaign;pdays;poutcome;deposit    0\n",
      "dtype: int64\n"
     ]
    }
   ],
   "source": [
    "# Display basic statistics of the numerical columns\n",
    "print(df.describe())\n",
    "\n",
    "# Check for missing values\n",
    "print(df.isnull().sum())\n"
   ]
  },
  {
   "cell_type": "code",
   "execution_count": 351,
   "metadata": {},
   "outputs": [
    {
     "name": "stdout",
     "output_type": "stream",
     "text": [
      "  age;job;balance;housing;loan;contact;month;campaign;pdays;poutcome;deposit\n",
      "0  55;admin.;1662;no;no;cellular;jun;2;-1;unknown...                        \n",
      "1  39;self-employed;-3058;yes;yes;cellular;apr;3;...                        \n",
      "2  51;admin.;3025;no;no;cellular;may;1;352;other;yes                        \n",
      "3  38;services;-87;yes;no;cellular;may;1;-1;unkno...                        \n",
      "4  36;housemaid;205;yes;no;telephone;nov;4;-1;unk...                        \n"
     ]
    }
   ],
   "source": [
    "import pandas as pd\n",
    "\n",
    "# Replace 'your_file_path.csv' with the actual path to your dataset file\n",
    "file_path = 'data_bank_marketing_campaign.csv'\n",
    "\n",
    "# Load the dataset into a DataFrame\n",
    "df = pd.read_csv(file_path)\n",
    "\n",
    "# Display the first few rows of the DataFrame to get an overview\n",
    "print(df.head())\n"
   ]
  },
  {
   "cell_type": "code",
   "execution_count": null,
   "metadata": {},
   "outputs": [],
   "source": []
  },
  {
   "cell_type": "code",
   "execution_count": 352,
   "metadata": {},
   "outputs": [
    {
     "name": "stdout",
     "output_type": "stream",
     "text": [
      "   age            job  balance  housing  loan   contact  month  campaign  \\\n",
      "0  age            job  balance  housing  loan   contact  month  campaign   \n",
      "1   55         admin.     1662       no    no  cellular    jun         2   \n",
      "2   39  self-employed    -3058      yes   yes  cellular    apr         3   \n",
      "3   51         admin.     3025       no    no  cellular    may         1   \n",
      "4   38       services      -87      yes    no  cellular    may         1   \n",
      "\n",
      "   pdays  poutcome  deposit  \n",
      "0  pdays  poutcome  deposit  \n",
      "1     -1   unknown      yes  \n",
      "2     -1   unknown      yes  \n",
      "3    352     other      yes  \n",
      "4     -1   unknown       no  \n"
     ]
    }
   ],
   "source": [
    "import pandas as pd\n",
    "\n",
    "# Replace 'your_file_path.csv' with the actual path to your dataset file\n",
    "file_path = 'data_bank_marketing_campaign.csv'\n",
    "\n",
    "# Load the dataset into a DataFrame with the correct delimiter and column names\n",
    "df = pd.read_csv(file_path, delimiter=';', names=['age', 'job', 'balance', 'housing', 'loan', 'contact', 'month', 'campaign', 'pdays', 'poutcome', 'deposit'])\n",
    "\n",
    "# Display the first few rows of the DataFrame to check the changes\n",
    "print(df.head())\n"
   ]
  },
  {
   "cell_type": "code",
   "execution_count": 353,
   "metadata": {},
   "outputs": [
    {
     "name": "stdout",
     "output_type": "stream",
     "text": [
      "         age         job balance housing  loan   contact month campaign pdays  \\\n",
      "count   7814        7814    7814    7814  7814      7814  7814     7814  7814   \n",
      "unique    76          13    3154       3     3         4    13       33   423   \n",
      "top       31  management       0      no    no  cellular   may        1    -1   \n",
      "freq     351        1792     546    4140  6789      5628  1976     3354  5817   \n",
      "\n",
      "       poutcome deposit  \n",
      "count      7814    7814  \n",
      "unique        5       3  \n",
      "top     unknown      no  \n",
      "freq       5819    4081  \n",
      "age         0\n",
      "job         0\n",
      "balance     0\n",
      "housing     0\n",
      "loan        0\n",
      "contact     0\n",
      "month       0\n",
      "campaign    0\n",
      "pdays       0\n",
      "poutcome    0\n",
      "deposit     0\n",
      "dtype: int64\n"
     ]
    }
   ],
   "source": [
    "# Display basic statistics of the numerical columns\n",
    "print(df.describe())\n",
    "\n",
    "# Check for missing values\n",
    "print(df.isnull().sum())\n"
   ]
  },
  {
   "cell_type": "code",
   "execution_count": 354,
   "metadata": {},
   "outputs": [
    {
     "data": {
      "image/png": "[encoded data removed]",
      "text/plain": [
       "<Figure size 1000x600 with 1 Axes>"
      ]
     },
     "metadata": {},
     "output_type": "display_data"
    },
    {
     "data": {
      "image/png": "[encoded data removed]",
      "text/plain": [
       "<Figure size 800x500 with 1 Axes>"
      ]
     },
     "metadata": {},
     "output_type": "display_data"
    }
   ],
   "source": [
    "import matplotlib.pyplot as plt\n",
    "import seaborn as sns\n",
    "\n",
    "# Histogram for age\n",
    "plt.figure(figsize=(10, 6))\n",
    "sns.histplot(df['age'], bins=30, kde=True, color='skyblue')\n",
    "plt.title('Distribution of Age')\n",
    "plt.xlabel('Age')\n",
    "plt.ylabel('Count')\n",
    "plt.show()\n",
    "\n",
    "# Bar plot for deposit\n",
    "plt.figure(figsize=(8, 5))\n",
    "sns.countplot(x='deposit', data=df, palette='Set2')\n",
    "plt.title('Distribution of Deposit (Target)')\n",
    "plt.xlabel('Deposit')\n",
    "plt.ylabel('Count')\n",
    "plt.show()\n"
   ]
  },
  {
   "cell_type": "markdown",
   "metadata": {},
   "source": [
    "*Data Preprocessing*"
   ]
  },
  {
   "cell_type": "code",
   "execution_count": 355,
   "metadata": {},
   "outputs": [
    {
     "name": "stdout",
     "output_type": "stream",
     "text": [
      "   age  balance  campaign  pdays  deposit  job_blue-collar  job_entrepreneur  \\\n",
      "0  age  balance  campaign  pdays      NaN                0                 0   \n",
      "1   55     1662         2     -1      1.0                0                 0   \n",
      "2   39    -3058         3     -1      1.0                0                 0   \n",
      "3   51     3025         1    352      1.0                0                 0   \n",
      "4   38      -87         1     -1      0.0                0                 0   \n",
      "\n",
      "   job_housemaid  job_job  job_management  ...  month_mar  month_may  \\\n",
      "0              0        1               0  ...          0          0   \n",
      "1              0        0               0  ...          0          0   \n",
      "2              0        0               0  ...          0          0   \n",
      "3              0        0               0  ...          0          1   \n",
      "4              0        0               0  ...          0          1   \n",
      "\n",
      "   month_month  month_nov  month_oct  month_sep  poutcome_other  \\\n",
      "0            1          0          0          0               0   \n",
      "1            0          0          0          0               0   \n",
      "2            0          0          0          0               0   \n",
      "3            0          0          0          0               1   \n",
      "4            0          0          0          0               0   \n",
      "\n",
      "   poutcome_poutcome  poutcome_success  poutcome_unknown  \n",
      "0                  1                 0                 0  \n",
      "1                  0                 0                 1  \n",
      "2                  0                 0                 1  \n",
      "3                  0                 0                 0  \n",
      "4                  0                 0                 1  \n",
      "\n",
      "[5 rows x 40 columns]\n"
     ]
    }
   ],
   "source": [
    "# Convert categorical variables to numerical representations using one-hot encoding\n",
    "df_encoded = pd.get_dummies(df, columns=['job', 'housing', 'loan', 'contact', 'month', 'poutcome'], drop_first=True)\n",
    "\n",
    "# Convert the 'deposit' column to numerical values (0 and 1)\n",
    "df_encoded['deposit'] = df_encoded['deposit'].map({'no': 0, 'yes': 1})\n",
    "\n",
    "# Display the first few rows of the encoded DataFrame\n",
    "print(df_encoded.head())\n"
   ]
  },
  {
   "cell_type": "markdown",
   "metadata": {},
   "source": [
    "Kode ini menggunakan pengkodean one-hot untuk mengubah variabel kategori menjadi representasi numerik. Itu juga memetakan kolom 'deposit' ke 0 dan 1.\n",
    "\n",
    "Sekarang, mari kita beralih ke pemisahan data menjadi fitur (X) dan variabel target (y), lalu membaginya lebih lanjut menjadi set pelatihan dan pengujian:"
   ]
  },
  {
   "cell_type": "code",
   "execution_count": 356,
   "metadata": {},
   "outputs": [
    {
     "name": "stdout",
     "output_type": "stream",
     "text": [
      "Training set shapes - X: (6251, 39), y: (6251,)\n",
      "Testing set shapes - X: (1563, 39), y: (1563,)\n"
     ]
    }
   ],
   "source": [
    "from sklearn.model_selection import train_test_split\n",
    "\n",
    "# Features (X) and target variable (y)\n",
    "X = df_encoded.drop('deposit', axis=1)\n",
    "y = df_encoded['deposit']\n",
    "\n",
    "# Split the data into training and testing sets (80% training, 20% testing)\n",
    "X_train, X_test, y_train, y_test = train_test_split(X, y, test_size=0.2, random_state=42)\n",
    "\n",
    "# Display the shapes of the training and testing sets\n",
    "print(\"Training set shapes - X: {}, y: {}\".format(X_train.shape, y_train.shape))\n",
    "print(\"Testing set shapes - X: {}, y: {}\".format(X_test.shape, y_test.shape))\n"
   ]
  },
  {
   "cell_type": "markdown",
   "metadata": {},
   "source": [
    "Kode ini membagi kumpulan data menjadi fitur (X) dan variabel target (y), lalu membaginya lebih lanjut menjadi kumpulan pelatihan dan pengujian. Parameter test_size di train_test_split menentukan proporsi kumpulan data yang digunakan untuk pengujian (di sini, 20%)."
   ]
  },
  {
   "cell_type": "markdown",
   "metadata": {},
   "source": [
    "Sekarang setelah data kita diproses dan dipisahkan, mari beralih ke memilih model dan melatihnya. Untuk masalah klasifikasi biner seperti ini, regresi logistik adalah titik awal yang baik. Ini adalah algoritma yang sederhana namun efektif."
   ]
  },
  {
   "cell_type": "markdown",
   "metadata": {},
   "source": [
    "Kode ini menginisialisasi model regresi logistik, melatihnya pada data pelatihan, membuat prediksi pada data pengujian, lalu mengevaluasi model menggunakan akurasi, matriks konfusi, dan laporan klasifikasi."
   ]
  },
  {
   "cell_type": "markdown",
   "metadata": {},
   "source": [
    "Sepertinya ada masalah dengan tipe data di kolom 'usia'. Kesalahan menunjukkan bahwa kolom 'usia' berisi nilai string yang tidak dapat dikonversi menjadi float selama pelatihan model regresi logistik.\n",
    "\n",
    "Mari kita kembali dan memeriksa tipe data kolom 'usia'. Kita mungkin perlu mengubahnya menjadi tipe numerik. Selain itu, ada baiknya untuk mengonfirmasi bahwa kolom numerik lainnya berada dalam tipe data yang benar."
   ]
  },
  {
   "cell_type": "code",
   "execution_count": 357,
   "metadata": {},
   "outputs": [
    {
     "name": "stdout",
     "output_type": "stream",
     "text": [
      "age                   object\n",
      "balance               object\n",
      "campaign              object\n",
      "pdays                 object\n",
      "deposit              float64\n",
      "job_blue-collar        uint8\n",
      "job_entrepreneur       uint8\n",
      "job_housemaid          uint8\n",
      "job_job                uint8\n",
      "job_management         uint8\n",
      "job_retired            uint8\n",
      "job_self-employed      uint8\n",
      "job_services           uint8\n",
      "job_student            uint8\n",
      "job_technician         uint8\n",
      "job_unemployed         uint8\n",
      "job_unknown            uint8\n",
      "housing_no             uint8\n",
      "housing_yes            uint8\n",
      "loan_no                uint8\n",
      "loan_yes               uint8\n",
      "contact_contact        uint8\n",
      "contact_telephone      uint8\n",
      "contact_unknown        uint8\n",
      "month_aug              uint8\n",
      "month_dec              uint8\n",
      "month_feb              uint8\n",
      "month_jan              uint8\n",
      "month_jul              uint8\n",
      "month_jun              uint8\n",
      "month_mar              uint8\n",
      "month_may              uint8\n",
      "month_month            uint8\n",
      "month_nov              uint8\n",
      "month_oct              uint8\n",
      "month_sep              uint8\n",
      "poutcome_other         uint8\n",
      "poutcome_poutcome      uint8\n",
      "poutcome_success       uint8\n",
      "poutcome_unknown       uint8\n",
      "dtype: object\n"
     ]
    }
   ],
   "source": [
    "# Check the data types of each column\n",
    "print(df_encoded.dtypes)\n"
   ]
  },
  {
   "cell_type": "markdown",
   "metadata": {},
   "source": [
    "Sepertinya kolom 'usia' saat ini bertipe 'objek'. Kita perlu mengubahnya menjadi tipe numerik (baik 'int' atau 'float')"
   ]
  },
  {
   "cell_type": "code",
   "execution_count": 358,
   "metadata": {},
   "outputs": [
    {
     "name": "stdout",
     "output_type": "stream",
     "text": [
      "age                  float64\n",
      "balance               object\n",
      "campaign              object\n",
      "pdays                 object\n",
      "deposit              float64\n",
      "job_blue-collar        uint8\n",
      "job_entrepreneur       uint8\n",
      "job_housemaid          uint8\n",
      "job_job                uint8\n",
      "job_management         uint8\n",
      "job_retired            uint8\n",
      "job_self-employed      uint8\n",
      "job_services           uint8\n",
      "job_student            uint8\n",
      "job_technician         uint8\n",
      "job_unemployed         uint8\n",
      "job_unknown            uint8\n",
      "housing_no             uint8\n",
      "housing_yes            uint8\n",
      "loan_no                uint8\n",
      "loan_yes               uint8\n",
      "contact_contact        uint8\n",
      "contact_telephone      uint8\n",
      "contact_unknown        uint8\n",
      "month_aug              uint8\n",
      "month_dec              uint8\n",
      "month_feb              uint8\n",
      "month_jan              uint8\n",
      "month_jul              uint8\n",
      "month_jun              uint8\n",
      "month_mar              uint8\n",
      "month_may              uint8\n",
      "month_month            uint8\n",
      "month_nov              uint8\n",
      "month_oct              uint8\n",
      "month_sep              uint8\n",
      "poutcome_other         uint8\n",
      "poutcome_poutcome      uint8\n",
      "poutcome_success       uint8\n",
      "poutcome_unknown       uint8\n",
      "dtype: object\n"
     ]
    }
   ],
   "source": [
    "# Convert 'age' column to numeric\n",
    "df_encoded['age'] = pd.to_numeric(df_encoded['age'], errors='coerce')\n",
    "\n",
    "# Check the data types again\n",
    "print(df_encoded.dtypes)\n"
   ]
  },
  {
   "cell_type": "markdown",
   "metadata": {},
   "source": [
    "Kode ini menggunakan pd.to_numeric untuk mengubah kolom 'usia' menjadi nilai numerik. Parameter error='coerce' akan menggantikan nilai yang tidak dapat dikonversi dengan NaN."
   ]
  },
  {
   "cell_type": "markdown",
   "metadata": {},
   "source": [
    "Kolom 'usia' sekarang bertipe 'float64'. Sekarang, mari kita lanjutkan dengan melatih model regresi logistik"
   ]
  },
  {
   "cell_type": "code",
   "execution_count": 359,
   "metadata": {},
   "outputs": [
    {
     "name": "stdout",
     "output_type": "stream",
     "text": [
      "Index(['age', 'balance', 'campaign', 'pdays', 'deposit', 'job_blue-collar',\n",
      "       'job_entrepreneur', 'job_housemaid', 'job_job', 'job_management',\n",
      "       'job_retired', 'job_self-employed', 'job_services', 'job_student',\n",
      "       'job_technician', 'job_unemployed', 'job_unknown', 'housing_no',\n",
      "       'housing_yes', 'loan_no', 'loan_yes', 'contact_contact',\n",
      "       'contact_telephone', 'contact_unknown', 'month_aug', 'month_dec',\n",
      "       'month_feb', 'month_jan', 'month_jul', 'month_jun', 'month_mar',\n",
      "       'month_may', 'month_month', 'month_nov', 'month_oct', 'month_sep',\n",
      "       'poutcome_other', 'poutcome_poutcome', 'poutcome_success',\n",
      "       'poutcome_unknown'],\n",
      "      dtype='object')\n"
     ]
    }
   ],
   "source": [
    "print(df_encoded.columns)\n"
   ]
  },
  {
   "cell_type": "code",
   "execution_count": 360,
   "metadata": {},
   "outputs": [],
   "source": [
    "# Check if 'deposit' is in the columns before dropping\n",
    "if 'deposit' in df_encoded.columns:\n",
    "    X = df_encoded.drop('deposit', axis=1)\n",
    "    y = df_encoded['deposit']\n",
    "else:\n",
    "    # Handle the absence of 'deposit' column, maybe by printing a message or taking alternative actions\n",
    "    print(\"The 'deposit' column is not present in the DataFrame.\")"
   ]
  },
  {
   "cell_type": "code",
   "execution_count": 361,
   "metadata": {},
   "outputs": [],
   "source": [
    "# Features\n",
    "X = df_encoded\n",
    "\n",
    "# Target variable\n",
    "y = df['deposit']  # Assuming 'deposit' is the original target column in the unencoded DataFrame\n"
   ]
  },
  {
   "cell_type": "code",
   "execution_count": 362,
   "metadata": {},
   "outputs": [
    {
     "name": "stdout",
     "output_type": "stream",
     "text": [
      "(7814, 40)\n",
      "(7814,)\n"
     ]
    }
   ],
   "source": [
    "print(X.shape)\n",
    "print(y.shape)\n"
   ]
  },
  {
   "cell_type": "code",
   "execution_count": 363,
   "metadata": {},
   "outputs": [],
   "source": [
    "# Example to reset index if using pandas DataFrame\n",
    "X.reset_index(drop=True, inplace=True)\n",
    "y.reset_index(drop=True, inplace=True)\n"
   ]
  },
  {
   "cell_type": "code",
   "execution_count": 364,
   "metadata": {},
   "outputs": [
    {
     "name": "stdout",
     "output_type": "stream",
     "text": [
      "Index(['age', 'balance', 'campaign', 'pdays', 'deposit', 'job_blue-collar',\n",
      "       'job_entrepreneur', 'job_housemaid', 'job_job', 'job_management',\n",
      "       'job_retired', 'job_self-employed', 'job_services', 'job_student',\n",
      "       'job_technician', 'job_unemployed', 'job_unknown', 'housing_no',\n",
      "       'housing_yes', 'loan_no', 'loan_yes', 'contact_contact',\n",
      "       'contact_telephone', 'contact_unknown', 'month_aug', 'month_dec',\n",
      "       'month_feb', 'month_jan', 'month_jul', 'month_jun', 'month_mar',\n",
      "       'month_may', 'month_month', 'month_nov', 'month_oct', 'month_sep',\n",
      "       'poutcome_other', 'poutcome_poutcome', 'poutcome_success',\n",
      "       'poutcome_unknown'],\n",
      "      dtype='object')\n"
     ]
    }
   ],
   "source": [
    "print(df_encoded.columns)\n"
   ]
  },
  {
   "cell_type": "code",
   "execution_count": 365,
   "metadata": {},
   "outputs": [],
   "source": [
    "# Features\n",
    "X = df_encoded\n",
    "\n",
    "# Target variable\n",
    "y = df['deposit']  # Assuming 'deposit' is the original target column in the unencoded DataFrame\n"
   ]
  },
  {
   "cell_type": "markdown",
   "metadata": {},
   "source": [
    "Sepertinya kolom 'saldo' masih berisi nilai string yang tidak dapat diubah menjadi float. Mari kita kembali dan mengatasi masalah ini dengan mengubah kolom 'saldo' menjadi nilai numerik."
   ]
  },
  {
   "cell_type": "code",
   "execution_count": 366,
   "metadata": {},
   "outputs": [
    {
     "name": "stdout",
     "output_type": "stream",
     "text": [
      "age                  float64\n",
      "balance              float64\n",
      "campaign              object\n",
      "pdays                 object\n",
      "deposit              float64\n",
      "job_blue-collar        uint8\n",
      "job_entrepreneur       uint8\n",
      "job_housemaid          uint8\n",
      "job_job                uint8\n",
      "job_management         uint8\n",
      "job_retired            uint8\n",
      "job_self-employed      uint8\n",
      "job_services           uint8\n",
      "job_student            uint8\n",
      "job_technician         uint8\n",
      "job_unemployed         uint8\n",
      "job_unknown            uint8\n",
      "housing_no             uint8\n",
      "housing_yes            uint8\n",
      "loan_no                uint8\n",
      "loan_yes               uint8\n",
      "contact_contact        uint8\n",
      "contact_telephone      uint8\n",
      "contact_unknown        uint8\n",
      "month_aug              uint8\n",
      "month_dec              uint8\n",
      "month_feb              uint8\n",
      "month_jan              uint8\n",
      "month_jul              uint8\n",
      "month_jun              uint8\n",
      "month_mar              uint8\n",
      "month_may              uint8\n",
      "month_month            uint8\n",
      "month_nov              uint8\n",
      "month_oct              uint8\n",
      "month_sep              uint8\n",
      "poutcome_other         uint8\n",
      "poutcome_poutcome      uint8\n",
      "poutcome_success       uint8\n",
      "poutcome_unknown       uint8\n",
      "dtype: object\n"
     ]
    }
   ],
   "source": [
    "# Convert 'balance' column to numeric\n",
    "df_encoded['balance'] = pd.to_numeric(df_encoded['balance'], errors='coerce')\n",
    "\n",
    "# Check the data types again\n",
    "print(df_encoded.dtypes)\n"
   ]
  },
  {
   "cell_type": "markdown",
   "metadata": {},
   "source": [
    "Kode ini menggunakan pd.to_numeric untuk mengubah kolom 'saldo' menjadi nilai numerik. Parameter error='coerce' akan menggantikan nilai yang tidak dapat dikonversi dengan NaN."
   ]
  },
  {
   "cell_type": "markdown",
   "metadata": {},
   "source": [
    "Kolom 'saldo' sekarang bertipe 'float64', dan sepertinya kami telah mengatasi masalah tersebut. Sekarang, Anda dapat melanjutkan dengan melatih model regresi logistik"
   ]
  },
  {
   "cell_type": "markdown",
   "metadata": {},
   "source": [
    "Saya masih mengalami masalah dengan kolom 'kampanye', yang berisi nilai string yang tidak dapat dikonversi menjadi float. Mari kita lanjutkan dan ubah kolom 'kampanye' menjadi nilai numerik serupa dengan yang kita lakukan pada kolom 'usia' dan 'keseimbangan'."
   ]
  },
  {
   "cell_type": "code",
   "execution_count": 367,
   "metadata": {},
   "outputs": [
    {
     "name": "stdout",
     "output_type": "stream",
     "text": [
      "age                  float64\n",
      "balance              float64\n",
      "campaign             float64\n",
      "pdays                 object\n",
      "deposit              float64\n",
      "job_blue-collar        uint8\n",
      "job_entrepreneur       uint8\n",
      "job_housemaid          uint8\n",
      "job_job                uint8\n",
      "job_management         uint8\n",
      "job_retired            uint8\n",
      "job_self-employed      uint8\n",
      "job_services           uint8\n",
      "job_student            uint8\n",
      "job_technician         uint8\n",
      "job_unemployed         uint8\n",
      "job_unknown            uint8\n",
      "housing_no             uint8\n",
      "housing_yes            uint8\n",
      "loan_no                uint8\n",
      "loan_yes               uint8\n",
      "contact_contact        uint8\n",
      "contact_telephone      uint8\n",
      "contact_unknown        uint8\n",
      "month_aug              uint8\n",
      "month_dec              uint8\n",
      "month_feb              uint8\n",
      "month_jan              uint8\n",
      "month_jul              uint8\n",
      "month_jun              uint8\n",
      "month_mar              uint8\n",
      "month_may              uint8\n",
      "month_month            uint8\n",
      "month_nov              uint8\n",
      "month_oct              uint8\n",
      "month_sep              uint8\n",
      "poutcome_other         uint8\n",
      "poutcome_poutcome      uint8\n",
      "poutcome_success       uint8\n",
      "poutcome_unknown       uint8\n",
      "dtype: object\n"
     ]
    }
   ],
   "source": [
    "# Convert 'campaign' column to numeric\n",
    "df_encoded['campaign'] = pd.to_numeric(df_encoded['campaign'], errors='coerce')\n",
    "\n",
    "# Check the data types again\n",
    "print(df_encoded.dtypes)\n"
   ]
  },
  {
   "cell_type": "markdown",
   "metadata": {},
   "source": [
    "Kode ini menggunakan pd.to_numeric untuk mengonversi kolom 'kampanye' menjadi nilai numerik. Parameter error='coerce' akan menggantikan nilai yang tidak dapat dikonversi dengan NaN."
   ]
  },
  {
   "cell_type": "markdown",
   "metadata": {},
   "source": []
  },
  {
   "cell_type": "markdown",
   "metadata": {},
   "source": []
  },
  {
   "cell_type": "code",
   "execution_count": 368,
   "metadata": {},
   "outputs": [
    {
     "name": "stdout",
     "output_type": "stream",
     "text": [
      "age                  float64\n",
      "balance              float64\n",
      "campaign             float64\n",
      "pdays                float64\n",
      "deposit              float64\n",
      "job_blue-collar        uint8\n",
      "job_entrepreneur       uint8\n",
      "job_housemaid          uint8\n",
      "job_job                uint8\n",
      "job_management         uint8\n",
      "job_retired            uint8\n",
      "job_self-employed      uint8\n",
      "job_services           uint8\n",
      "job_student            uint8\n",
      "job_technician         uint8\n",
      "job_unemployed         uint8\n",
      "job_unknown            uint8\n",
      "housing_no             uint8\n",
      "housing_yes            uint8\n",
      "loan_no                uint8\n",
      "loan_yes               uint8\n",
      "contact_contact        uint8\n",
      "contact_telephone      uint8\n",
      "contact_unknown        uint8\n",
      "month_aug              uint8\n",
      "month_dec              uint8\n",
      "month_feb              uint8\n",
      "month_jan              uint8\n",
      "month_jul              uint8\n",
      "month_jun              uint8\n",
      "month_mar              uint8\n",
      "month_may              uint8\n",
      "month_month            uint8\n",
      "month_nov              uint8\n",
      "month_oct              uint8\n",
      "month_sep              uint8\n",
      "poutcome_other         uint8\n",
      "poutcome_poutcome      uint8\n",
      "poutcome_success       uint8\n",
      "poutcome_unknown       uint8\n",
      "dtype: object\n"
     ]
    }
   ],
   "source": [
    "# Convert 'pdays' column to numeric\n",
    "df_encoded['pdays'] = pd.to_numeric(df_encoded['pdays'], errors='coerce')\n",
    "\n",
    "# Check the data types again\n",
    "print(df_encoded.dtypes)\n"
   ]
  },
  {
   "cell_type": "markdown",
   "metadata": {},
   "source": [
    "Peringatan tersebut menunjukkan bahwa model regresi logistik gagal menyatu dalam jumlah iterasi yang ditentukan. Hal ini dapat terjadi ketika algoritma optimasi mencapai jumlah iterasi maksimum sebelum menemukan solusi optimal.\n",
    "\n",
    "saya akan mencoba beberapa pendekatan untuk mengatasi hal ini:"
   ]
  },
  {
   "cell_type": "markdown",
   "metadata": {},
   "source": [
    "*Menambah jumlah iterasi: Anda dapat meningkatkan parameter max_iter dalam model regresi logistik. Misalnya, dapat menyetel max_iter=1000 atau lebih tinggi*"
   ]
  },
  {
   "cell_type": "code",
   "execution_count": 369,
   "metadata": {},
   "outputs": [],
   "source": [
    "from sklearn.linear_model import LogisticRegression\n",
    "\n",
    "# Instantiate the logistic regression model with a higher max_iter\n",
    "model = LogisticRegression(max_iter=1000)\n",
    "\n",
    "# Train the model and make predictions as before\n"
   ]
  },
  {
   "cell_type": "markdown",
   "metadata": {},
   "source": [
    "Feature Scalling "
   ]
  },
  {
   "cell_type": "code",
   "execution_count": null,
   "metadata": {},
   "outputs": [],
   "source": [
    "from sklearn.preprocessing import MinMaxScaler\n",
    "\n",
    "# Instantiate the MinMax scaler\n",
    "scaler = MinMaxScaler()\n",
    "\n",
    "# Fit and transform the scaler on the training data\n",
    "X_train_scaled = scaler.fit_transform(X_train_imputed)\n",
    "\n",
    "# Transform the test data using the same scaler\n",
    "X_test_scaled = scaler.transform(X_test_imputed)\n",
    "\n",
    "# Now, train the model on the scaled training data\n",
    "model.fit(X_train_scaled, y_train)\n",
    "\n",
    "# Make predictions on the scaled testing data\n",
    "y_pred = model.predict(X_test_scaled)\n"
   ]
  },
  {
   "cell_type": "markdown",
   "metadata": {},
   "source": [
    "Regularization"
   ]
  },
  {
   "cell_type": "markdown",
   "metadata": {},
   "source": [
    "Model regresi logistik sering kali mendapat manfaat dari regularisasi. Kita dapat bereksperimen dengan kekuatan regularisasi yang berbeda menggunakan parameter C. Nilai C yang lebih tinggi berarti lebih sedikit regularisasi."
   ]
  },
  {
   "cell_type": "code",
   "execution_count": null,
   "metadata": {},
   "outputs": [],
   "source": [
    "# Instantiate the logistic regression model with regularization\n",
    "model = LogisticRegression(max_iter=1000, C=1.0)  # You can adjust C\n",
    "\n",
    "# Train the model and make predictions as before\n"
   ]
  },
  {
   "cell_type": "code",
   "execution_count": null,
   "metadata": {},
   "outputs": [
    {
     "name": "stdout",
     "output_type": "stream",
     "text": [
      "age         [age, 55, 39, 51, 38, 36, 41, 37, 35, 57, 23, ...\n",
      "job         [job, admin., self-employed, services, housema...\n",
      "balance     [balance, 1662, -3058, 3025, -87, 205, -76, 48...\n",
      "housing                                    [housing, no, yes]\n",
      "loan                                          [loan, no, yes]\n",
      "contact               [contact, cellular, telephone, unknown]\n",
      "month       [month, jun, apr, may, nov, jan, sep, feb, mar...\n",
      "campaign    [campaign, 2, 3, 1, 4, 5, 6, 7, 30, 8, 9, 11, ...\n",
      "pdays       [pdays, -1, 352, 21, 91, 186, 263, 96, 355, 29...\n",
      "poutcome         [poutcome, unknown, other, failure, success]\n",
      "dtype: object\n"
     ]
    }
   ],
   "source": [
    "print(df[categorical_columns].apply(lambda x: x.unique()))\n"
   ]
  },
  {
   "cell_type": "code",
   "execution_count": null,
   "metadata": {},
   "outputs": [],
   "source": [
    "# Assuming df is your DataFrame\n",
    "X = df.iloc[1:, 1:]  # Skip the first row and the first column\n",
    "\n",
    "# Rest of your preprocessing code...\n"
   ]
  },
  {
   "cell_type": "code",
   "execution_count": null,
   "metadata": {},
   "outputs": [],
   "source": [
    "# Assuming df is your DataFrame\n",
    "X = df.iloc[1:, :]  # Skip the first row\n",
    "\n",
    "# Rest of your preprocessing code...\n"
   ]
  },
  {
   "cell_type": "code",
   "execution_count": null,
   "metadata": {},
   "outputs": [],
   "source": [
    "# Assuming df is your DataFrame read from the CSV file\n",
    "df = df.iloc[1:, :]\n",
    "\n",
    "# Rest of your preprocessing code...\n"
   ]
  },
  {
   "cell_type": "markdown",
   "metadata": {},
   "source": [
    "## Data Cleaning"
   ]
  },
  {
   "cell_type": "markdown",
   "metadata": {},
   "source": [
    "Handle Missing Values"
   ]
  },
  {
   "cell_type": "code",
   "execution_count": 373,
   "metadata": {},
   "outputs": [
    {
     "name": "stderr",
     "output_type": "stream",
     "text": [
      "/var/folders/dg/1t9c6vm1173b_9sgsw2bt26c0000gn/T/ipykernel_12599/3983612361.py:5: FutureWarning: Dropping of nuisance columns in DataFrame reductions (with 'numeric_only=None') is deprecated; in a future version this will raise TypeError.  Select only valid columns before calling the reduction.\n",
      "  df.fillna(df.mean(), inplace=True)\n"
     ]
    }
   ],
   "source": [
    "# Check for missing values\n",
    "missing_values = df.isnull().sum()\n",
    "# If there are missing values, decide how to handle them (imputation, removal, etc.)\n",
    "# Example: Impute numerical columns with mean, and categorical columns with mode\n",
    "df.fillna(df.mean(), inplace=True)\n",
    "df.fillna(df.mode().iloc[0], inplace=True)\n"
   ]
  },
  {
   "cell_type": "markdown",
   "metadata": {},
   "source": [
    "Remove Outliers"
   ]
  },
  {
   "cell_type": "code",
   "execution_count": null,
   "metadata": {},
   "outputs": [],
   "source": [
    "# Explore and handle outliers (you can adjust the method based on your data distribution)\n",
    "from scipy.stats import zscore\n",
    "z_scores = zscore(df.select_dtypes(include=['float64']))\n",
    "abs_z_scores = np.abs(z_scores)\n",
    "filtered_entries = (abs_z_scores < 3).all(axis=1)\n",
    "df = df[filtered_entries]\n"
   ]
  },
  {
   "cell_type": "code",
   "execution_count": 371,
   "metadata": {},
   "outputs": [
    {
     "name": "stdout",
     "output_type": "stream",
     "text": [
      "age;job;balance;housing;loan;contact;month;campaign;pdays;poutcome;deposit    0\n",
      "dtype: int64\n"
     ]
    }
   ],
   "source": [
    "# Check for missing values\n",
    "print(data.isnull().sum())\n",
    "\n",
    "# Handle missing values (for example, by imputing or dropping)\n",
    "# data = data.dropna()  # Example of dropping missing values\n"
   ]
  },
  {
   "cell_type": "markdown",
   "metadata": {},
   "source": [
    "## Feature Engineering"
   ]
  },
  {
   "cell_type": "markdown",
   "metadata": {},
   "source": [
    "Create New Features"
   ]
  },
  {
   "cell_type": "code",
   "execution_count": null,
   "metadata": {},
   "outputs": [],
   "source": [
    "# Example: Combine 'day' and 'month' columns into a new 'date' column\n",
    "df['job'] = df['age'].astype(str) + '-' + df['deposit']\n"
   ]
  },
  {
   "cell_type": "markdown",
   "metadata": {},
   "source": [
    "Encode Categorical Variables"
   ]
  },
  {
   "cell_type": "code",
   "execution_count": null,
   "metadata": {},
   "outputs": [],
   "source": [
    "# If not done already, encode categorical variables\n",
    "from sklearn.preprocessing import OneHotEncoder\n",
    "encoder = OneHotEncoder()\n",
    "df_encoded = encoder.fit_transform(df[['housing', 'loan', 'contact', 'month', 'poutcome']]).toarray()\n",
    "df_encoded = pd.DataFrame(df_encoded, columns=encoder.get_feature_names_out(['housing', 'loan', 'contact', 'month', 'poutcome']))\n",
    "df = pd.concat([df, df_encoded], axis=1)\n"
   ]
  },
  {
   "cell_type": "markdown",
   "metadata": {},
   "source": [
    "## Exploratory Data Analysis (EDA)"
   ]
  },
  {
   "cell_type": "code",
   "execution_count": null,
   "metadata": {},
   "outputs": [
    {
     "data": {
      "image/png": "[encoded data removed]",
      "text/plain": [
       "<Figure size 640x480 with 1 Axes>"
      ]
     },
     "metadata": {},
     "output_type": "display_data"
    }
   ],
   "source": [
    "# Use visualization libraries (matplotlib, seaborn) to explore your data\n",
    "import matplotlib.pyplot as plt\n",
    "import seaborn as sns\n",
    "\n",
    "# Example: Visualize the distribution of 'balance' variable\n",
    "sns.histplot(df['balance'], bins=40, kde=True)\n",
    "plt.show()\n"
   ]
  },
  {
   "cell_type": "markdown",
   "metadata": {},
   "source": [
    "## Modeling Preparation"
   ]
  },
  {
   "cell_type": "markdown",
   "metadata": {},
   "source": [
    "Split Data"
   ]
  },
  {
   "cell_type": "code",
   "execution_count": null,
   "metadata": {},
   "outputs": [],
   "source": [
    "from sklearn.model_selection import train_test_split\n",
    "X = df.drop(['job'], axis=1)  # Replace 'target_variable' with your target variable\n",
    "y = df['deposit']\n",
    "X_train, X_test, y_train, y_test = train_test_split(X, y, test_size=0.2, random_state=42)\n"
   ]
  },
  {
   "cell_type": "code",
   "execution_count": 54,
   "metadata": {},
   "outputs": [],
   "source": [
    "import pandas as pd\n",
    "\n",
    "# Replace 'your_data.csv' with your actual data file\n",
    "df = pd.read_csv('data_bank_marketing_campaign.csv')\n"
   ]
  },
  {
   "cell_type": "code",
   "execution_count": 56,
   "metadata": {},
   "outputs": [
    {
     "name": "stdout",
     "output_type": "stream",
     "text": [
      "Index(['age;job;balance;housing;loan;contact;month;campaign;pdays;poutcome;deposit'], dtype='object')\n"
     ]
    }
   ],
   "source": [
    "print(df.columns)\n"
   ]
  },
  {
   "cell_type": "code",
   "execution_count": 57,
   "metadata": {},
   "outputs": [
    {
     "name": "stdout",
     "output_type": "stream",
     "text": [
      "RangeIndex(start=0, stop=11, step=1)\n"
     ]
    }
   ],
   "source": [
    "# Assuming df is your DataFrame\n",
    "df = df['age;job;balance;housing;loan;contact;month;campaign;pdays;poutcome;deposit'].str.split(';', expand=True)\n",
    "\n",
    "# Now you can see the columns\n",
    "print(df.columns)\n"
   ]
  },
  {
   "cell_type": "markdown",
   "metadata": {},
   "source": [
    "Scale Numerical Features (if needed)"
   ]
  },
  {
   "cell_type": "code",
   "execution_count": null,
   "metadata": {},
   "outputs": [],
   "source": [
    "from sklearn.preprocessing import StandardScaler\n",
    "scaler = StandardScaler()\n",
    "X_train_scaled = scaler.fit_transform(X_train.select_dtypes(include=['float64']))\n",
    "X_test_scaled = scaler.transform(X_test.select_dtypes(include=['float64']))\n"
   ]
  },
  {
   "cell_type": "markdown",
   "metadata": {},
   "source": [
    "## Model Selection"
   ]
  },
  {
   "cell_type": "code",
   "execution_count": 378,
   "metadata": {},
   "outputs": [],
   "source": [
    "from sklearn.linear_model import LogisticRegression\n",
    "\n",
    "model = LogisticRegression()\n"
   ]
  },
  {
   "cell_type": "markdown",
   "metadata": {},
   "source": [
    "## Model Training"
   ]
  },
  {
   "cell_type": "code",
   "execution_count": 380,
   "metadata": {},
   "outputs": [
    {
     "name": "stderr",
     "output_type": "stream",
     "text": [
      "/Users/tambunanrmgtgmail.com/anaconda3/envs/myenv/lib/python3.10/site-packages/sklearn/linear_model/_logistic.py:460: ConvergenceWarning: lbfgs failed to converge (status=1):\n",
      "STOP: TOTAL NO. of ITERATIONS REACHED LIMIT.\n",
      "\n",
      "Increase the number of iterations (max_iter) or scale the data as shown in:\n",
      "    https://scikit-learn.org/stable/modules/preprocessing.html\n",
      "Please also refer to the documentation for alternative solver options:\n",
      "    https://scikit-learn.org/stable/modules/linear_model.html#logistic-regression\n",
      "  n_iter_i = _check_optimize_result(\n"
     ]
    },
    {
     "data": {
      "text/html": [
       "<style>#sk-container-id-1 {color: black;}#sk-container-id-1 pre{padding: 0;}#sk-container-id-1 div.sk-toggleable {background-color: white;}#sk-container-id-1 label.sk-toggleable__label {cursor: pointer;display: block;width: 100%;margin-bottom: 0;padding: 0.3em;box-sizing: border-box;text-align: center;}#sk-container-id-1 label.sk-toggleable__label-arrow:before {content: \"▸\";float: left;margin-right: 0.25em;color: #696969;}#sk-container-id-1 label.sk-toggleable__label-arrow:hover:before {color: black;}#sk-container-id-1 div.sk-estimator:hover label.sk-toggleable__label-arrow:before {color: black;}#sk-container-id-1 div.sk-toggleable__content {max-height: 0;max-width: 0;overflow: hidden;text-align: left;background-color: #f0f8ff;}#sk-container-id-1 div.sk-toggleable__content pre {margin: 0.2em;color: black;border-radius: 0.25em;background-color: #f0f8ff;}#sk-container-id-1 input.sk-toggleable__control:checked~div.sk-toggleable__content {max-height: 200px;max-width: 100%;overflow: auto;}#sk-container-id-1 input.sk-toggleable__control:checked~label.sk-toggleable__label-arrow:before {content: \"▾\";}#sk-container-id-1 div.sk-estimator input.sk-toggleable__control:checked~label.sk-toggleable__label {background-color: #d4ebff;}#sk-container-id-1 div.sk-label input.sk-toggleable__control:checked~label.sk-toggleable__label {background-color: #d4ebff;}#sk-container-id-1 input.sk-hidden--visually {border: 0;clip: rect(1px 1px 1px 1px);clip: rect(1px, 1px, 1px, 1px);height: 1px;margin: -1px;overflow: hidden;padding: 0;position: absolute;width: 1px;}#sk-container-id-1 div.sk-estimator {font-family: monospace;background-color: #f0f8ff;border: 1px dotted black;border-radius: 0.25em;box-sizing: border-box;margin-bottom: 0.5em;}#sk-container-id-1 div.sk-estimator:hover {background-color: #d4ebff;}#sk-container-id-1 div.sk-parallel-item::after {content: \"\";width: 100%;border-bottom: 1px solid gray;flex-grow: 1;}#sk-container-id-1 div.sk-label:hover label.sk-toggleable__label {background-color: #d4ebff;}#sk-container-id-1 div.sk-serial::before {content: \"\";position: absolute;border-left: 1px solid gray;box-sizing: border-box;top: 0;bottom: 0;left: 50%;z-index: 0;}#sk-container-id-1 div.sk-serial {display: flex;flex-direction: column;align-items: center;background-color: white;padding-right: 0.2em;padding-left: 0.2em;position: relative;}#sk-container-id-1 div.sk-item {position: relative;z-index: 1;}#sk-container-id-1 div.sk-parallel {display: flex;align-items: stretch;justify-content: center;background-color: white;position: relative;}#sk-container-id-1 div.sk-item::before, #sk-container-id-1 div.sk-parallel-item::before {content: \"\";position: absolute;border-left: 1px solid gray;box-sizing: border-box;top: 0;bottom: 0;left: 50%;z-index: -1;}#sk-container-id-1 div.sk-parallel-item {display: flex;flex-direction: column;z-index: 1;position: relative;background-color: white;}#sk-container-id-1 div.sk-parallel-item:first-child::after {align-self: flex-end;width: 50%;}#sk-container-id-1 div.sk-parallel-item:last-child::after {align-self: flex-start;width: 50%;}#sk-container-id-1 div.sk-parallel-item:only-child::after {width: 0;}#sk-container-id-1 div.sk-dashed-wrapped {border: 1px dashed gray;margin: 0 0.4em 0.5em 0.4em;box-sizing: border-box;padding-bottom: 0.4em;background-color: white;}#sk-container-id-1 div.sk-label label {font-family: monospace;font-weight: bold;display: inline-block;line-height: 1.2em;}#sk-container-id-1 div.sk-label-container {text-align: center;}#sk-container-id-1 div.sk-container {/* jupyter's `normalize.less` sets `[hidden] { display: none; }` but bootstrap.min.css set `[hidden] { display: none !important; }` so we also need the `!important` here to be able to override the default hidden behavior on the sphinx rendered scikit-learn.org. See: https://github.com/scikit-learn/scikit-learn/issues/21755 */display: inline-block !important;position: relative;}#sk-container-id-1 div.sk-text-repr-fallback {display: none;}</style><div id=\"sk-container-id-1\" class=\"sk-top-container\"><div class=\"sk-text-repr-fallback\"><pre>LogisticRegression()</pre><b>In a Jupyter environment, please rerun this cell to show the HTML representation or trust the notebook. <br />On GitHub, the HTML representation is unable to render, please try loading this page with nbviewer.org.</b></div><div class=\"sk-container\" hidden><div class=\"sk-item\"><div class=\"sk-estimator sk-toggleable\"><input class=\"sk-toggleable__control sk-hidden--visually\" id=\"sk-estimator-id-1\" type=\"checkbox\" checked><label for=\"sk-estimator-id-1\" class=\"sk-toggleable__label sk-toggleable__label-arrow\">LogisticRegression</label><div class=\"sk-toggleable__content\"><pre>LogisticRegression()</pre></div></div></div></div></div>"
      ],
      "text/plain": [
       "LogisticRegression()"
      ]
     },
     "execution_count": 380,
     "metadata": {},
     "output_type": "execute_result"
    }
   ],
   "source": [
    "model.fit(X_train, y_train)\n"
   ]
  },
  {
   "cell_type": "code",
   "execution_count": 379,
   "metadata": {},
   "outputs": [],
   "source": [
    "from sklearn.linear_model import LogisticRegression\n",
    "from sklearn.ensemble import RandomForestClassifier, GradientBoostingClassifier, VotingClassifier\n",
    "from sklearn.model_selection import train_test_split\n",
    "\n",
    "# ... (your other import statements)\n",
    "\n",
    "# Define models\n",
    "model1 = LogisticRegression(max_iter=1000, C=1.0)\n",
    "model2 = RandomForestClassifier()\n",
    "model3 = GradientBoostingClassifier()\n",
    "ensemble_model = VotingClassifier(estimators=[('lr', model1), ('rf', model2), ('gb', model3)])\n",
    "\n",
    "# ... (rest of your code)\n"
   ]
  },
  {
   "cell_type": "markdown",
   "metadata": {},
   "source": [
    "##  Model Evaluation:\n"
   ]
  },
  {
   "cell_type": "code",
   "execution_count": null,
   "metadata": {},
   "outputs": [
    {
     "name": "stdout",
     "output_type": "stream",
     "text": [
      "Training Data Shape: (6251, 23)\n",
      "Testing Data Shape: (1563, 23)\n"
     ]
    }
   ],
   "source": [
    "print(\"Training Data Shape:\", X_train_scaled.shape)\n",
    "print(\"Testing Data Shape:\", X_test_scaled.shape)\n"
   ]
  },
  {
   "cell_type": "code",
   "execution_count": 390,
   "metadata": {},
   "outputs": [
    {
     "name": "stdout",
     "output_type": "stream",
     "text": [
      "Index(['age;job;balance;housing;loan;contact;month;campaign;pdays;poutcome;deposit'], dtype='object')\n"
     ]
    }
   ],
   "source": [
    "print(data.columns)\n"
   ]
  },
  {
   "cell_type": "code",
   "execution_count": 391,
   "metadata": {},
   "outputs": [],
   "source": [
    "# Assuming your dataset is loaded into 'data'\n",
    "data_split = data['age;job;balance;housing;loan;contact;month;campaign;pdays;poutcome;deposit'].str.split(';', expand=True)\n",
    "\n",
    "# Rename the columns to be more meaningful\n",
    "data_split.columns = ['age', 'job', 'balance', 'housing', 'loan', 'contact', 'month', 'campaign', 'pdays', 'poutcome', 'deposit']\n",
    "\n",
    "# Convert 'age' to numeric if it's not already\n",
    "data_split['age'] = pd.to_numeric(data_split['age'], errors='coerce')\n",
    "\n",
    "# Now, concatenate the original dataset with the new columns\n",
    "data = pd.concat([data, data_split], axis=1)\n",
    "\n",
    "# Drop the original single column\n",
    "data = data.drop(['age;job;balance;housing;loan;contact;month;campaign;pdays;poutcome;deposit'], axis=1, inplace=True)\n",
    "\n",
    "# Now you can proceed with the rest of your preprocessing and modeling steps\n"
   ]
  },
  {
   "cell_type": "code",
   "execution_count": 396,
   "metadata": {},
   "outputs": [],
   "source": [
    "# Load your dataset\n",
    "data = pd.read_csv(\"data_bank_marketing_campaign.csv\")\n",
    "\n",
    "# Assuming the dataset has a column with multiple values separated by semicolons\n",
    "data_split = data['age;job;balance;housing;loan;contact;month;campaign;pdays;poutcome;deposit'].str.split(';', expand=True)\n",
    "data_split.columns = ['age', 'job', 'balance', 'housing', 'loan', 'contact', 'month', 'campaign', 'pdays', 'poutcome', 'deposit']\n",
    "data_split['age'] = pd.to_numeric(data_split['age'], errors='coerce')\n",
    "\n",
    "# Concatenate the original dataset with the new columns\n",
    "data = pd.concat([data, data_split], axis=1)\n",
    "\n",
    "# Drop the original single column\n",
    "data = data.drop(['age;job;balance;housing;loan;contact;month;campaign;pdays;poutcome;deposit'], axis=1, inplace=True)\n"
   ]
  },
  {
   "cell_type": "markdown",
   "metadata": {},
   "source": [
    "*Data Loading*"
   ]
  },
  {
   "cell_type": "code",
   "execution_count": null,
   "metadata": {},
   "outputs": [
    {
     "data": {
      "text/html": [
       "<div>\n",
       "<style scoped>\n",
       "    .dataframe tbody tr th:only-of-type {\n",
       "        vertical-align: middle;\n",
       "    }\n",
       "\n",
       "    .dataframe tbody tr th {\n",
       "        vertical-align: top;\n",
       "    }\n",
       "\n",
       "    .dataframe thead th {\n",
       "        text-align: right;\n",
       "    }\n",
       "</style>\n",
       "<table border=\"1\" class=\"dataframe\">\n",
       "  <thead>\n",
       "    <tr style=\"text-align: right;\">\n",
       "      <th></th>\n",
       "      <th>age;job;balance;housing;loan;contact;month;campaign;pdays;poutcome;deposit</th>\n",
       "    </tr>\n",
       "  </thead>\n",
       "  <tbody>\n",
       "    <tr>\n",
       "      <th>0</th>\n",
       "      <td>55;admin.;1662;no;no;cellular;jun;2;-1;unknown...</td>\n",
       "    </tr>\n",
       "    <tr>\n",
       "      <th>1</th>\n",
       "      <td>39;self-employed;-3058;yes;yes;cellular;apr;3;...</td>\n",
       "    </tr>\n",
       "    <tr>\n",
       "      <th>2</th>\n",
       "      <td>51;admin.;3025;no;no;cellular;may;1;352;other;yes</td>\n",
       "    </tr>\n",
       "    <tr>\n",
       "      <th>3</th>\n",
       "      <td>38;services;-87;yes;no;cellular;may;1;-1;unkno...</td>\n",
       "    </tr>\n",
       "    <tr>\n",
       "      <th>4</th>\n",
       "      <td>36;housemaid;205;yes;no;telephone;nov;4;-1;unk...</td>\n",
       "    </tr>\n",
       "    <tr>\n",
       "      <th>...</th>\n",
       "      <td>...</td>\n",
       "    </tr>\n",
       "    <tr>\n",
       "      <th>7808</th>\n",
       "      <td>62;housemaid;2;no;no;cellular;nov;1;-1;unknown...</td>\n",
       "    </tr>\n",
       "    <tr>\n",
       "      <th>7809</th>\n",
       "      <td>48;housemaid;5473;no;no;cellular;feb;2;184;suc...</td>\n",
       "    </tr>\n",
       "    <tr>\n",
       "      <th>7810</th>\n",
       "      <td>36;unknown;179;no;no;cellular;aug;8;-1;unknown;no</td>\n",
       "    </tr>\n",
       "    <tr>\n",
       "      <th>7811</th>\n",
       "      <td>31;admin.;54;yes;no;cellular;nov;1;-1;unknown;no</td>\n",
       "    </tr>\n",
       "    <tr>\n",
       "      <th>7812</th>\n",
       "      <td>60;retired;1588;no;no;cellular;oct;1;-1;unknow...</td>\n",
       "    </tr>\n",
       "  </tbody>\n",
       "</table>\n",
       "<p>7813 rows × 1 columns</p>\n",
       "</div>"
      ],
      "text/plain": [
       "     age;job;balance;housing;loan;contact;month;campaign;pdays;poutcome;deposit\n",
       "0     55;admin.;1662;no;no;cellular;jun;2;-1;unknown...                        \n",
       "1     39;self-employed;-3058;yes;yes;cellular;apr;3;...                        \n",
       "2     51;admin.;3025;no;no;cellular;may;1;352;other;yes                        \n",
       "3     38;services;-87;yes;no;cellular;may;1;-1;unkno...                        \n",
       "4     36;housemaid;205;yes;no;telephone;nov;4;-1;unk...                        \n",
       "...                                                 ...                        \n",
       "7808  62;housemaid;2;no;no;cellular;nov;1;-1;unknown...                        \n",
       "7809  48;housemaid;5473;no;no;cellular;feb;2;184;suc...                        \n",
       "7810  36;unknown;179;no;no;cellular;aug;8;-1;unknown;no                        \n",
       "7811   31;admin.;54;yes;no;cellular;nov;1;-1;unknown;no                        \n",
       "7812  60;retired;1588;no;no;cellular;oct;1;-1;unknow...                        \n",
       "\n",
       "[7813 rows x 1 columns]"
      ]
     },
     "execution_count": 295,
     "metadata": {},
     "output_type": "execute_result"
    }
   ],
   "source": [
    "df = pd.read_csv('data_bank_marketing_campaign.csv')\n",
    "df"
   ]
  },
  {
   "cell_type": "markdown",
   "metadata": {},
   "source": [
    "#### Dendogram"
   ]
  },
  {
   "cell_type": "markdown",
   "metadata": {},
   "source": [
    "*Handling Missing Values*"
   ]
  },
  {
   "cell_type": "code",
   "execution_count": null,
   "metadata": {},
   "outputs": [
    {
     "name": "stdout",
     "output_type": "stream",
     "text": [
      "age         0\n",
      "job         0\n",
      "balance     0\n",
      "housing     0\n",
      "loan        0\n",
      "contact     0\n",
      "month       0\n",
      "campaign    0\n",
      "pdays       0\n",
      "poutcome    0\n",
      "deposit     0\n",
      "dtype: int64\n"
     ]
    }
   ],
   "source": [
    "# Check for missing values\n",
    "print(data_bank_marketing_campaign.isnull().sum())\n",
    "\n",
    "# Drop rows with missing values\n",
    "data_bank_marketing_campaign_cleaned = data_bank_marketing_campaign.dropna()\n"
   ]
  },
  {
   "cell_type": "markdown",
   "metadata": {},
   "source": [
    "*Handling Duplicate Rows*"
   ]
  },
  {
   "cell_type": "code",
   "execution_count": null,
   "metadata": {},
   "outputs": [
    {
     "name": "stdout",
     "output_type": "stream",
     "text": [
      "8\n"
     ]
    }
   ],
   "source": [
    "# Check for duplicates\n",
    "print(data_bank_marketing_campaign.duplicated().sum())\n",
    "\n",
    "# Remove duplicates\n",
    "data_bank_marketing_campaign_cleaned = data_bank_marketing_campaign.drop_duplicates()\n"
   ]
  },
  {
   "cell_type": "markdown",
   "metadata": {},
   "source": [
    "*Handling Inconsistent Data*"
   ]
  },
  {
   "cell_type": "code",
   "execution_count": null,
   "metadata": {},
   "outputs": [
    {
     "name": "stdout",
     "output_type": "stream",
     "text": [
      "['admin.' 'self-employed' 'services' 'housemaid' 'technician' 'management'\n",
      " 'student' 'blue-collar' 'entrepreneur' 'retired' 'unemployed' 'unknown']\n",
      "['cellular' 'telephone' 'unknown']\n"
     ]
    }
   ],
   "source": [
    "# Check unique values in categorical columns\n",
    "print(data_bank_marketing_campaign['job'].unique())\n",
    "print(data_bank_marketing_campaign['contact'].unique())\n",
    "# ... check other categorical columns\n",
    "\n",
    "# Perform necessary corrections\n"
   ]
  },
  {
   "cell_type": "markdown",
   "metadata": {},
   "source": [
    "*Convert Data Types*"
   ]
  },
  {
   "cell_type": "code",
   "execution_count": null,
   "metadata": {},
   "outputs": [
    {
     "name": "stderr",
     "output_type": "stream",
     "text": [
      "/var/folders/dg/1t9c6vm1173b_9sgsw2bt26c0000gn/T/ipykernel_12599/1573015156.py:2: SettingWithCopyWarning: \n",
      "A value is trying to be set on a copy of a slice from a DataFrame.\n",
      "Try using .loc[row_indexer,col_indexer] = value instead\n",
      "\n",
      "See the caveats in the documentation: https://pandas.pydata.org/pandas-docs/stable/user_guide/indexing.html#returning-a-view-versus-a-copy\n",
      "  data_bank_marketing_campaign_cleaned['age'] = data_bank_marketing_campaign_cleaned['age'].astype(int)\n"
     ]
    }
   ],
   "source": [
    "# Convert 'age' to integer\n",
    "data_bank_marketing_campaign_cleaned['age'] = data_bank_marketing_campaign_cleaned['age'].astype(int)\n"
   ]
  },
  {
   "cell_type": "markdown",
   "metadata": {},
   "source": [
    "*Handling Outliers*"
   ]
  },
  {
   "cell_type": "code",
   "execution_count": null,
   "metadata": {},
   "outputs": [],
   "source": [
    "# Identify and handle outliers\n",
    "from scipy import stats\n",
    "z_scores = stats.zscore(data_bank_marketing_campaign_cleaned.select_dtypes(include='number'))\n",
    "data_bank_marketing_campaign_cleaned = data_bank_marketing_campaign_cleaned[(z_scores < 3).all(axis=1)]\n"
   ]
  },
  {
   "cell_type": "markdown",
   "metadata": {},
   "source": [
    "*Remove Duplicate Rows:*"
   ]
  },
  {
   "cell_type": "code",
   "execution_count": 398,
   "metadata": {},
   "outputs": [],
   "source": [
    "# Remove duplicate rows\n",
    "data_bank_marketing_campaign_cleaned = data_bank_marketing_campaign_cleaned.drop_duplicates()\n"
   ]
  },
  {
   "cell_type": "markdown",
   "metadata": {},
   "source": [
    "*Check for Missing Values*"
   ]
  },
  {
   "cell_type": "code",
   "execution_count": 399,
   "metadata": {},
   "outputs": [
    {
     "name": "stdout",
     "output_type": "stream",
     "text": [
      "age         0\n",
      "job         0\n",
      "balance     0\n",
      "housing     0\n",
      "loan        0\n",
      "contact     0\n",
      "month       0\n",
      "campaign    0\n",
      "pdays       0\n",
      "poutcome    0\n",
      "deposit     0\n",
      "dtype: int64\n"
     ]
    }
   ],
   "source": [
    "# Display the count of missing values in each column\n",
    "print(data_bank_marketing_campaign.isnull().sum())\n"
   ]
  },
  {
   "cell_type": "markdown",
   "metadata": {},
   "source": [
    "*Correct Data Types*"
   ]
  },
  {
   "cell_type": "code",
   "execution_count": 400,
   "metadata": {},
   "outputs": [],
   "source": [
    "# Convert 'age' column to numeric\n",
    "data_bank_marketing_campaign['age'] = pd.to_numeric(data_bank_marketing_campaign['age'], errors='coerce')\n"
   ]
  },
  {
   "cell_type": "markdown",
   "metadata": {},
   "source": [
    "*Standardize/Normalize Data*"
   ]
  },
  {
   "cell_type": "code",
   "execution_count": 401,
   "metadata": {},
   "outputs": [],
   "source": [
    "from sklearn.preprocessing import StandardScaler\n",
    "\n",
    "scaler = StandardScaler()\n",
    "data_bank_marketing_campaign[['balance', 'campaign']] = scaler.fit_transform(data_bank_marketing_campaign[['balance', 'campaign']])\n"
   ]
  },
  {
   "cell_type": "markdown",
   "metadata": {},
   "source": [
    "*Convert Categorical Variables*"
   ]
  },
  {
   "cell_type": "code",
   "execution_count": null,
   "metadata": {},
   "outputs": [
    {
     "name": "stdout",
     "output_type": "stream",
     "text": [
      "Index(['age', 'job', 'balance', 'housing', 'loan', 'contact', 'month',\n",
      "       'campaign', 'pdays', 'poutcome', 'deposit'],\n",
      "      dtype='object')\n"
     ]
    }
   ],
   "source": [
    "print(data_bank_marketing_campaign.columns)\n"
   ]
  },
  {
   "cell_type": "markdown",
   "metadata": {},
   "source": [
    "*Handle Target Variable*"
   ]
  },
  {
   "cell_type": "code",
   "execution_count": null,
   "metadata": {},
   "outputs": [],
   "source": [
    "from sklearn.preprocessing import LabelEncoder\n",
    "\n",
    "le = LabelEncoder()\n",
    "data_bank_marketing_campaign['deposit'] = le.fit_transform(data_bank_marketing_campaign['deposit'])\n"
   ]
  },
  {
   "cell_type": "code",
   "execution_count": 403,
   "metadata": {},
   "outputs": [],
   "source": [
    "import pandas as pd\n",
    "import numpy as np\n",
    "\n",
    "# Sample data with missing values and inconsistencies\n",
    "data = {\n",
    "    'age': [25, np.nan, 35, 40, 45],\n",
    "    'job': ['manager', 'engineer', 'teacher', 'doctor', 'artist'],\n",
    "    'balance': [5000, 8000, '12,000', 15000, 10000],\n",
    "    'housing': ['yes', 'no', 'yes', 'no', 'yes'],\n",
    "    'loan': ['no', 'no', 'yes', 'no', 'no'],\n",
    "    'contact': ['phone', 'email', 'phone', 'email', 'phone'],\n",
    "    'month': ['jan', 'feb', 'mar', 'apr', 'may'],\n",
    "    'campaign': [1, 2, 3, 4, 5],\n",
    "    'pdays': [10, 20, 30, 40, np.nan],\n",
    "    'poutcome': ['success', 'failure', 'success', 'unknown', 'success'],\n",
    "    'deposit': ['yes', 'no', 'yes', 'no', 'yes']\n",
    "}\n",
    "\n",
    "# Create a DataFrame\n",
    "df = pd.DataFrame(data)\n",
    "\n",
    "# Data Cleaning\n",
    "# Handling missing values\n",
    "df['age'].fillna(df['age'].mean(), inplace=True)\n",
    "df['balance'] = df['balance'].str.replace(',', '').astype(float)\n",
    "df['pdays'].fillna(df['pdays'].max() + 1, inplace=True)  # Assuming a value greater than the max as an indicator\n",
    "\n",
    "# Save the cleaned DataFrame to a CSV file\n",
    "df.to_csv(\"cleaned_dataset.csv\", index=False)\n"
   ]
  },
  {
   "cell_type": "markdown",
   "metadata": {},
   "source": [
    "## Feature Engineering / Data Preparation"
   ]
  },
  {
   "cell_type": "code",
   "execution_count": 408,
   "metadata": {},
   "outputs": [],
   "source": [
    "import pandas as pd\n",
    "\n",
    "# Load the cleaned dataset\n",
    "data = pd.read_csv(\"cleaned_dataset.csv\")\n",
    "\n",
    "# Feature Engineering\n",
    "# Example 1: Creating Age Groups\n",
    "bins = [20, 30, 40, 50, 60, 70, 80]\n",
    "labels = ['20-30', '30-40', '40-50', '50-60', '60-70', '70-80']\n",
    "data['age_group'] = pd.cut(data['age'], bins=bins, labels=labels, right=False)\n",
    "\n",
    "# Example 2: Encoding Categorical Variables\n",
    "categorical_columns = ['job', 'housing', 'loan', 'contact', 'month', 'poutcome']\n",
    "data_encoded = pd.get_dummies(data, columns=categorical_columns, drop_first=True)\n",
    "\n",
    "# Example 3: Scaling Numerical Variables (if needed)\n",
    "from sklearn.preprocessing import StandardScaler\n",
    "scaler = StandardScaler()\n",
    "numerical_columns = ['balance', 'campaign', 'pdays']\n",
    "data_encoded[numerical_columns] = scaler.fit_transform(data_encoded[numerical_columns])\n",
    "\n",
    "# Save the engineered dataset to a new CSV file\n",
    "data_encoded.to_csv(\"engineered_dataset.csv\", index=False)\n"
   ]
  },
  {
   "cell_type": "code",
   "execution_count": 409,
   "metadata": {},
   "outputs": [],
   "source": [
    "from sklearn.model_selection import train_test_split\n",
    "\n",
    "X = data_encoded.drop('deposit', axis=1)\n",
    "y = data_encoded['deposit']\n",
    "\n",
    "X_train, X_test, y_train, y_test = train_test_split(X, y, test_size=0.2, random_state=42)\n"
   ]
  },
  {
   "cell_type": "markdown",
   "metadata": {},
   "source": [
    "Choose a Model"
   ]
  },
  {
   "cell_type": "markdown",
   "metadata": {},
   "source": [
    "Logistic Regression\n",
    "- Sederhana dan efektif untuk klasifikasi biner.\n",
    "- Cepat dan mudah ditafsirkan.\n",
    "- Mengasumsikan hubungan linier antara fitur dan log-odds dari respons."
   ]
  },
  {
   "cell_type": "code",
   "execution_count": 453,
   "metadata": {},
   "outputs": [],
   "source": [
    "from sklearn.linear_model import LogisticRegression\n",
    "model = LogisticRegression()\n"
   ]
  },
  {
   "cell_type": "markdown",
   "metadata": {},
   "source": [
    "Pohon Keputusan\n",
    "- Non-linier, dapat menangkap hubungan kompleks dalam data.\n",
    "- Intuitif dan mudah dimengerti.\n",
    "- Rawan overfitting, jadi penyetelan parameter sangat penting."
   ]
  },
  {
   "cell_type": "code",
   "execution_count": 452,
   "metadata": {},
   "outputs": [],
   "source": [
    "from sklearn.tree import DecisionTreeClassifier\n",
    "model = DecisionTreeClassifier()\n"
   ]
  },
  {
   "cell_type": "markdown",
   "metadata": {},
   "source": [
    "Random Forest\n",
    "- Kumpulan pohon keputusan, mengurangi overfitting dibandingkan dengan pohon keputusan tunggal.\n",
    "- Memberikan pentingnya fitur.\n",
    "- Kuat dan menangani outlier dengan baik."
   ]
  },
  {
   "cell_type": "code",
   "execution_count": 454,
   "metadata": {},
   "outputs": [],
   "source": [
    "from sklearn.ensemble import RandomForestClassifier\n",
    "model = RandomForestClassifier()\n"
   ]
  },
  {
   "cell_type": "markdown",
   "metadata": {},
   "source": [
    "Support Vector Machines (SVM)\n",
    "- Efektif untuk data berdimensi tinggi.\n",
    "- Kuat untuk batasan keputusan yang kompleks.\n",
    "- Bisa peka terhadap pilihan kernel."
   ]
  },
  {
   "cell_type": "code",
   "execution_count": 455,
   "metadata": {},
   "outputs": [],
   "source": [
    "from sklearn.svm import SVC\n",
    "model = SVC()\n"
   ]
  },
  {
   "cell_type": "markdown",
   "metadata": {},
   "source": [
    "K-Nearest Neighbors (KNN)\n",
    "- Non-parametrik dan sederhana.\n",
    "- Peka terhadap pilihan metrik jarak dan jumlah tetangga.\n",
    "- Berfungsi dengan baik untuk kumpulan data yang lebih kecil."
   ]
  },
  {
   "cell_type": "code",
   "execution_count": 456,
   "metadata": {},
   "outputs": [],
   "source": [
    "from sklearn.neighbors import KNeighborsClassifier\n",
    "model = KNeighborsClassifier()\n"
   ]
  },
  {
   "cell_type": "markdown",
   "metadata": {},
   "source": [
    "Gradient Boosting (e.g., XGBoost, LightGBM)\n",
    "- Membangun serangkaian pembelajar yang lemah untuk menciptakan pembelajar yang kuat.\n",
    "- Seringkali mencapai akurasi tinggi.\n",
    "- Membutuhkan penyetelan parameter yang cermat."
   ]
  },
  {
   "cell_type": "code",
   "execution_count": null,
   "metadata": {},
   "outputs": [],
   "source": [
    "from xgboost import XGBClassifier\n",
    "model = XGBClassifier()\n"
   ]
  },
  {
   "cell_type": "markdown",
   "metadata": {},
   "source": [
    "## Modelling & Evaluation"
   ]
  },
  {
   "cell_type": "code",
   "execution_count": 479,
   "metadata": {},
   "outputs": [],
   "source": [
    "logreg = LogisticRegression()\n",
    "knn = KNeighborsClassifier()\n",
    "dt = DecisionTreeClassifier()\n",
    "rf = RandomForestClassifier()\n"
   ]
  },
  {
   "cell_type": "code",
   "execution_count": 465,
   "metadata": {},
   "outputs": [],
   "source": [
    "from sklearn.ensemble import RandomForestClassifier\n",
    "\n",
    "model = RandomForestClassifier()\n"
   ]
  },
  {
   "cell_type": "markdown",
   "metadata": {},
   "source": [
    "Train the Model"
   ]
  },
  {
   "cell_type": "code",
   "execution_count": 459,
   "metadata": {},
   "outputs": [],
   "source": [
    "# Assuming X_train, y_train are your features and target variable\n",
    "# You can replace this with your actual data loading and preprocessing steps\n",
    "X_train, X_test, y_train, y_test = train_test_split(X, y, test_size=0.2, random_state=42)\n"
   ]
  },
  {
   "cell_type": "code",
   "execution_count": 463,
   "metadata": {},
   "outputs": [],
   "source": [
    "X_train['age'] = pd.to_numeric(X_train['age'], errors='coerce')\n"
   ]
  },
  {
   "cell_type": "code",
   "execution_count": 482,
   "metadata": {},
   "outputs": [
    {
     "name": "stdout",
     "output_type": "stream",
     "text": [
      "Column Names: Index(['age', 'job', 'balance', 'housing', 'loan', 'contact', 'month',\n",
      "       'campaign', 'pdays', 'poutcome', 'deposit'],\n",
      "      dtype='object')\n"
     ]
    }
   ],
   "source": [
    "print(\"Column Names:\", df.columns)\n"
   ]
  },
  {
   "cell_type": "code",
   "execution_count": 485,
   "metadata": {},
   "outputs": [
    {
     "name": "stdout",
     "output_type": "stream",
     "text": [
      "Index(['age', 'job', 'balance', 'housing', 'loan', 'contact', 'month',\n",
      "       'campaign', 'pdays', 'poutcome', 'deposit'],\n",
      "      dtype='object')\n"
     ]
    }
   ],
   "source": [
    "print(df.columns)\n"
   ]
  },
  {
   "cell_type": "code",
   "execution_count": 497,
   "metadata": {},
   "outputs": [
    {
     "ename": "SyntaxError",
     "evalue": "unmatched ')' (593293738.py, line 21)",
     "output_type": "error",
     "traceback": [
      "\u001b[0;36m  Cell \u001b[0;32mIn[497], line 21\u001b[0;36m\u001b[0m\n\u001b[0;31m    )\u001b[0m\n\u001b[0m    ^\u001b[0m\n\u001b[0;31mSyntaxError\u001b[0m\u001b[0;31m:\u001b[0m unmatched ')'\n"
     ]
    }
   ],
   "source": [
    "import pandas as pd\n",
    "from sklearn.model_selection import train_test_split\n",
    "from sklearn.ensemble import RandomForestClassifier\n",
    "from sklearn.impute import SimpleImputer\n",
    "from sklearn.preprocessing import LabelEncoder\n",
    "\n",
    "# Create a label encoder\n",
    "label_encoder = LabelEncoder()\n",
    "\n",
    "# Combine the labels from both training and test sets\n",
    "combined_labels = pd.concat([y_train, y_test])\n",
    "\n",
    "# Fit the label encoder on combined labels\n",
    "label_encoder.fit(combined_labels)\n",
    "\n",
    "# Transform the categorical columns in the training set\n",
    "X_train[categorical_cols] = X_train[categorical_cols].apply(lambda col: label_encoder.transform(col))\n",
    "\n",
    "# Transform the categorical columns in the test set\n",
    "X_test[categorical_cols] = X_test[categorical_cols].apply(lambda col: label_encoder.transform(col))\n",
    ")\n",
    "\n",
    "# Check unique values in y_train and y_test\n",
    "print(\"Unique values in y_train:\", y_train.unique())\n",
    "print(\"Unique values in y_test:\", y_test.unique())\n",
    "\n",
    "# Transform y_train and y_test\n",
    "y_train = label_encoder.transform(y_train)\n",
    "y_test = label_encoder.transform(y_test)\n",
    "\n",
    "# Assuming 'categorical_cols' is a list of the categorical column names\n",
    "label_encoder = LabelEncoder()\n",
    "\n",
    "# Fit and transform the categorical columns in the training set\n",
    "X_train[categorical_cols] = X_train[categorical_cols].apply(label_encoder.fit_transform)\n",
    "\n",
    "# Transform the categorical columns in the test set using the same label encoder\n",
    "# Handle unseen labels gracefully by using `transform` and replacing unseen labels with a default value\n",
    "X_test[categorical_cols] = X_test[categorical_cols].apply(lambda col: label_encoder.transform(col) if col.iloc[0] in label_encoder.classes_ else -1)\n",
    "\n",
    "\n",
    "# Split the data into training and testing sets\n",
    "X_train, X_test, y_train, y_test = train_test_split(X, y, test_size=0.2, random_state=42)\n",
    "\n",
    "# Impute missing values in numerical columns\n",
    "numerical_cols = X_train.select_dtypes(include=['number']).columns\n",
    "numerical_imputer = SimpleImputer(strategy='mean')\n",
    "X_train[numerical_cols] = numerical_imputer.fit_transform(X_train[numerical_cols])\n",
    "X_test[numerical_cols] = numerical_imputer.transform(X_test[numerical_cols])\n",
    "\n",
    "# Impute missing values in categorical columns\n",
    "categorical_cols = X_train.select_dtypes(include=['object']).columns\n",
    "categorical_imputer = SimpleImputer(strategy='most_frequent')\n",
    "X_train[categorical_cols] = categorical_imputer.fit_transform(X_train[categorical_cols])\n",
    "X_test[categorical_cols] = categorical_imputer.transform(X_test[categorical_cols])\n",
    "\n",
    "# Step 3: Convert Categorical Variables\n",
    "\n",
    "# Fit the label encoder on combined labels from both train and test sets\n",
    "label_encoder.fit(combined_labels)\n",
    "\n",
    "# Transform the categorical columns in the training set\n",
    "X_train[categorical_cols] = X_train[categorical_cols].apply(lambda col: label_encoder.transform(col))\n",
    "\n",
    "# Transform the categorical columns in the test set\n",
    "X_test[categorical_cols] = X_test[categorical_cols].apply(lambda col: label_encoder.transform(col))\n",
    "\n",
    "\n",
    "# Step 4: Train the Model\n",
    "model = RandomForestClassifier()\n",
    "model.fit(X_train, y_train)\n",
    "\n",
    "# Step 5: Make Predictions and Evaluate\n",
    "y_pred = model.predict(X_test)\n",
    "\n",
    "# Evaluate the model\n",
    "accuracy = accuracy_score(y_test, y_pred)\n",
    "classification_report_output = classification_report(y_test, y_pred)\n",
    "confusion_matrix_output = confusion_matrix(y_test, y_pred)\n",
    "\n",
    "print(f\"Accuracy: {accuracy}\")\n",
    "print(\"Classification Report:\\n\", classification_report_output)\n",
    "print(\"Confusion Matrix:\\n\", confusion_matrix_output)\n"
   ]
  },
  {
   "cell_type": "markdown",
   "metadata": {},
   "source": []
  },
  {
   "cell_type": "markdown",
   "metadata": {},
   "source": [
    "Encode 'age_group' as Numerical Values"
   ]
  },
  {
   "cell_type": "code",
   "execution_count": 412,
   "metadata": {},
   "outputs": [],
   "source": [
    "age_group_mapping = {'20-30': 1, '30-40': 2, '40-50': 3, '50-60': 4, '60-70': 5, '70-80': 6}\n",
    "data_encoded['age_group'] = data_encoded['age_group'].map(age_group_mapping)\n"
   ]
  },
  {
   "cell_type": "code",
   "execution_count": 417,
   "metadata": {},
   "outputs": [
    {
     "name": "stdout",
     "output_type": "stream",
     "text": [
      "'age_group' column not found in the DataFrame.\n"
     ]
    }
   ],
   "source": [
    "# Ensure 'age_group' column exists in data_encoded\n",
    "if 'age_group' in data_encoded.columns:\n",
    "    # One-hot encode 'age_group' column\n",
    "    data_encoded = pd.get_dummies(data_encoded, columns=['age_group'], drop_first=True)\n",
    "else:\n",
    "    print(\"'age_group' column not found in the DataFrame.\")\n"
   ]
  },
  {
   "cell_type": "markdown",
   "metadata": {},
   "source": [
    "Split the Data"
   ]
  },
  {
   "cell_type": "code",
   "execution_count": 419,
   "metadata": {},
   "outputs": [],
   "source": [
    "from sklearn.model_selection import train_test_split\n",
    "\n",
    "X_train, X_test, y_train, y_test = train_test_split(data_encoded.drop('deposit', axis=1), data_encoded['deposit'], test_size=0.2, random_state=42)\n"
   ]
  },
  {
   "cell_type": "markdown",
   "metadata": {},
   "source": []
  },
  {
   "cell_type": "code",
   "execution_count": 421,
   "metadata": {},
   "outputs": [],
   "source": [
    "from sklearn.impute import SimpleImputer\n",
    "\n",
    "# Create an imputer with a strategy (e.g., mean, median, or constant)\n",
    "imputer = SimpleImputer(strategy='mean')\n",
    "\n",
    "# Fit and transform the imputer on your training data\n",
    "X_train_imputed = imputer.fit_transform(X_train)\n",
    "\n",
    "# Transform the test data using the same imputer\n",
    "X_test_imputed = imputer.transform(X_test)\n"
   ]
  },
  {
   "cell_type": "code",
   "execution_count": 426,
   "metadata": {},
   "outputs": [],
   "source": [
    "from sklearn.impute import SimpleImputer\n",
    "\n",
    "# Example imputation\n",
    "imputer = SimpleImputer(strategy='mean')\n",
    "X_train_imputed = imputer.fit_transform(X_train)\n"
   ]
  },
  {
   "cell_type": "code",
   "execution_count": 427,
   "metadata": {},
   "outputs": [
    {
     "name": "stdout",
     "output_type": "stream",
     "text": [
      "age                 0\n",
      "balance             3\n",
      "campaign            0\n",
      "pdays               0\n",
      "job_doctor          0\n",
      "job_engineer        0\n",
      "job_manager         0\n",
      "job_teacher         0\n",
      "housing_yes         0\n",
      "loan_yes            0\n",
      "contact_phone       0\n",
      "month_feb           0\n",
      "month_jan           0\n",
      "month_mar           0\n",
      "month_may           0\n",
      "poutcome_success    0\n",
      "poutcome_unknown    0\n",
      "age_group_2         0\n",
      "age_group_3         0\n",
      "age_group_4         0\n",
      "age_group_5         0\n",
      "age_group_6         0\n",
      "dtype: int64\n"
     ]
    }
   ],
   "source": [
    "print(X_train.isnull().sum())\n"
   ]
  },
  {
   "cell_type": "code",
   "execution_count": 428,
   "metadata": {},
   "outputs": [
    {
     "data": {
      "text/html": [
       "<style>#sk-container-id-3 {color: black;}#sk-container-id-3 pre{padding: 0;}#sk-container-id-3 div.sk-toggleable {background-color: white;}#sk-container-id-3 label.sk-toggleable__label {cursor: pointer;display: block;width: 100%;margin-bottom: 0;padding: 0.3em;box-sizing: border-box;text-align: center;}#sk-container-id-3 label.sk-toggleable__label-arrow:before {content: \"▸\";float: left;margin-right: 0.25em;color: #696969;}#sk-container-id-3 label.sk-toggleable__label-arrow:hover:before {color: black;}#sk-container-id-3 div.sk-estimator:hover label.sk-toggleable__label-arrow:before {color: black;}#sk-container-id-3 div.sk-toggleable__content {max-height: 0;max-width: 0;overflow: hidden;text-align: left;background-color: #f0f8ff;}#sk-container-id-3 div.sk-toggleable__content pre {margin: 0.2em;color: black;border-radius: 0.25em;background-color: #f0f8ff;}#sk-container-id-3 input.sk-toggleable__control:checked~div.sk-toggleable__content {max-height: 200px;max-width: 100%;overflow: auto;}#sk-container-id-3 input.sk-toggleable__control:checked~label.sk-toggleable__label-arrow:before {content: \"▾\";}#sk-container-id-3 div.sk-estimator input.sk-toggleable__control:checked~label.sk-toggleable__label {background-color: #d4ebff;}#sk-container-id-3 div.sk-label input.sk-toggleable__control:checked~label.sk-toggleable__label {background-color: #d4ebff;}#sk-container-id-3 input.sk-hidden--visually {border: 0;clip: rect(1px 1px 1px 1px);clip: rect(1px, 1px, 1px, 1px);height: 1px;margin: -1px;overflow: hidden;padding: 0;position: absolute;width: 1px;}#sk-container-id-3 div.sk-estimator {font-family: monospace;background-color: #f0f8ff;border: 1px dotted black;border-radius: 0.25em;box-sizing: border-box;margin-bottom: 0.5em;}#sk-container-id-3 div.sk-estimator:hover {background-color: #d4ebff;}#sk-container-id-3 div.sk-parallel-item::after {content: \"\";width: 100%;border-bottom: 1px solid gray;flex-grow: 1;}#sk-container-id-3 div.sk-label:hover label.sk-toggleable__label {background-color: #d4ebff;}#sk-container-id-3 div.sk-serial::before {content: \"\";position: absolute;border-left: 1px solid gray;box-sizing: border-box;top: 0;bottom: 0;left: 50%;z-index: 0;}#sk-container-id-3 div.sk-serial {display: flex;flex-direction: column;align-items: center;background-color: white;padding-right: 0.2em;padding-left: 0.2em;position: relative;}#sk-container-id-3 div.sk-item {position: relative;z-index: 1;}#sk-container-id-3 div.sk-parallel {display: flex;align-items: stretch;justify-content: center;background-color: white;position: relative;}#sk-container-id-3 div.sk-item::before, #sk-container-id-3 div.sk-parallel-item::before {content: \"\";position: absolute;border-left: 1px solid gray;box-sizing: border-box;top: 0;bottom: 0;left: 50%;z-index: -1;}#sk-container-id-3 div.sk-parallel-item {display: flex;flex-direction: column;z-index: 1;position: relative;background-color: white;}#sk-container-id-3 div.sk-parallel-item:first-child::after {align-self: flex-end;width: 50%;}#sk-container-id-3 div.sk-parallel-item:last-child::after {align-self: flex-start;width: 50%;}#sk-container-id-3 div.sk-parallel-item:only-child::after {width: 0;}#sk-container-id-3 div.sk-dashed-wrapped {border: 1px dashed gray;margin: 0 0.4em 0.5em 0.4em;box-sizing: border-box;padding-bottom: 0.4em;background-color: white;}#sk-container-id-3 div.sk-label label {font-family: monospace;font-weight: bold;display: inline-block;line-height: 1.2em;}#sk-container-id-3 div.sk-label-container {text-align: center;}#sk-container-id-3 div.sk-container {/* jupyter's `normalize.less` sets `[hidden] { display: none; }` but bootstrap.min.css set `[hidden] { display: none !important; }` so we also need the `!important` here to be able to override the default hidden behavior on the sphinx rendered scikit-learn.org. See: https://github.com/scikit-learn/scikit-learn/issues/21755 */display: inline-block !important;position: relative;}#sk-container-id-3 div.sk-text-repr-fallback {display: none;}</style><div id=\"sk-container-id-3\" class=\"sk-top-container\"><div class=\"sk-text-repr-fallback\"><pre>RandomForestClassifier()</pre><b>In a Jupyter environment, please rerun this cell to show the HTML representation or trust the notebook. <br />On GitHub, the HTML representation is unable to render, please try loading this page with nbviewer.org.</b></div><div class=\"sk-container\" hidden><div class=\"sk-item\"><div class=\"sk-estimator sk-toggleable\"><input class=\"sk-toggleable__control sk-hidden--visually\" id=\"sk-estimator-id-3\" type=\"checkbox\" checked><label for=\"sk-estimator-id-3\" class=\"sk-toggleable__label sk-toggleable__label-arrow\">RandomForestClassifier</label><div class=\"sk-toggleable__content\"><pre>RandomForestClassifier()</pre></div></div></div></div></div>"
      ],
      "text/plain": [
       "RandomForestClassifier()"
      ]
     },
     "execution_count": 428,
     "metadata": {},
     "output_type": "execute_result"
    }
   ],
   "source": [
    "from sklearn.ensemble import RandomForestClassifier\n",
    "\n",
    "model = RandomForestClassifier()\n",
    "model.fit(X_train_imputed, y_train)\n"
   ]
  },
  {
   "cell_type": "code",
   "execution_count": 423,
   "metadata": {},
   "outputs": [
    {
     "data": {
      "text/html": [
       "<style>#sk-container-id-2 {color: black;}#sk-container-id-2 pre{padding: 0;}#sk-container-id-2 div.sk-toggleable {background-color: white;}#sk-container-id-2 label.sk-toggleable__label {cursor: pointer;display: block;width: 100%;margin-bottom: 0;padding: 0.3em;box-sizing: border-box;text-align: center;}#sk-container-id-2 label.sk-toggleable__label-arrow:before {content: \"▸\";float: left;margin-right: 0.25em;color: #696969;}#sk-container-id-2 label.sk-toggleable__label-arrow:hover:before {color: black;}#sk-container-id-2 div.sk-estimator:hover label.sk-toggleable__label-arrow:before {color: black;}#sk-container-id-2 div.sk-toggleable__content {max-height: 0;max-width: 0;overflow: hidden;text-align: left;background-color: #f0f8ff;}#sk-container-id-2 div.sk-toggleable__content pre {margin: 0.2em;color: black;border-radius: 0.25em;background-color: #f0f8ff;}#sk-container-id-2 input.sk-toggleable__control:checked~div.sk-toggleable__content {max-height: 200px;max-width: 100%;overflow: auto;}#sk-container-id-2 input.sk-toggleable__control:checked~label.sk-toggleable__label-arrow:before {content: \"▾\";}#sk-container-id-2 div.sk-estimator input.sk-toggleable__control:checked~label.sk-toggleable__label {background-color: #d4ebff;}#sk-container-id-2 div.sk-label input.sk-toggleable__control:checked~label.sk-toggleable__label {background-color: #d4ebff;}#sk-container-id-2 input.sk-hidden--visually {border: 0;clip: rect(1px 1px 1px 1px);clip: rect(1px, 1px, 1px, 1px);height: 1px;margin: -1px;overflow: hidden;padding: 0;position: absolute;width: 1px;}#sk-container-id-2 div.sk-estimator {font-family: monospace;background-color: #f0f8ff;border: 1px dotted black;border-radius: 0.25em;box-sizing: border-box;margin-bottom: 0.5em;}#sk-container-id-2 div.sk-estimator:hover {background-color: #d4ebff;}#sk-container-id-2 div.sk-parallel-item::after {content: \"\";width: 100%;border-bottom: 1px solid gray;flex-grow: 1;}#sk-container-id-2 div.sk-label:hover label.sk-toggleable__label {background-color: #d4ebff;}#sk-container-id-2 div.sk-serial::before {content: \"\";position: absolute;border-left: 1px solid gray;box-sizing: border-box;top: 0;bottom: 0;left: 50%;z-index: 0;}#sk-container-id-2 div.sk-serial {display: flex;flex-direction: column;align-items: center;background-color: white;padding-right: 0.2em;padding-left: 0.2em;position: relative;}#sk-container-id-2 div.sk-item {position: relative;z-index: 1;}#sk-container-id-2 div.sk-parallel {display: flex;align-items: stretch;justify-content: center;background-color: white;position: relative;}#sk-container-id-2 div.sk-item::before, #sk-container-id-2 div.sk-parallel-item::before {content: \"\";position: absolute;border-left: 1px solid gray;box-sizing: border-box;top: 0;bottom: 0;left: 50%;z-index: -1;}#sk-container-id-2 div.sk-parallel-item {display: flex;flex-direction: column;z-index: 1;position: relative;background-color: white;}#sk-container-id-2 div.sk-parallel-item:first-child::after {align-self: flex-end;width: 50%;}#sk-container-id-2 div.sk-parallel-item:last-child::after {align-self: flex-start;width: 50%;}#sk-container-id-2 div.sk-parallel-item:only-child::after {width: 0;}#sk-container-id-2 div.sk-dashed-wrapped {border: 1px dashed gray;margin: 0 0.4em 0.5em 0.4em;box-sizing: border-box;padding-bottom: 0.4em;background-color: white;}#sk-container-id-2 div.sk-label label {font-family: monospace;font-weight: bold;display: inline-block;line-height: 1.2em;}#sk-container-id-2 div.sk-label-container {text-align: center;}#sk-container-id-2 div.sk-container {/* jupyter's `normalize.less` sets `[hidden] { display: none; }` but bootstrap.min.css set `[hidden] { display: none !important; }` so we also need the `!important` here to be able to override the default hidden behavior on the sphinx rendered scikit-learn.org. See: https://github.com/scikit-learn/scikit-learn/issues/21755 */display: inline-block !important;position: relative;}#sk-container-id-2 div.sk-text-repr-fallback {display: none;}</style><div id=\"sk-container-id-2\" class=\"sk-top-container\"><div class=\"sk-text-repr-fallback\"><pre>HistGradientBoostingClassifier()</pre><b>In a Jupyter environment, please rerun this cell to show the HTML representation or trust the notebook. <br />On GitHub, the HTML representation is unable to render, please try loading this page with nbviewer.org.</b></div><div class=\"sk-container\" hidden><div class=\"sk-item\"><div class=\"sk-estimator sk-toggleable\"><input class=\"sk-toggleable__control sk-hidden--visually\" id=\"sk-estimator-id-2\" type=\"checkbox\" checked><label for=\"sk-estimator-id-2\" class=\"sk-toggleable__label sk-toggleable__label-arrow\">HistGradientBoostingClassifier</label><div class=\"sk-toggleable__content\"><pre>HistGradientBoostingClassifier()</pre></div></div></div></div></div>"
      ],
      "text/plain": [
       "HistGradientBoostingClassifier()"
      ]
     },
     "execution_count": 423,
     "metadata": {},
     "output_type": "execute_result"
    }
   ],
   "source": [
    "from sklearn.ensemble import HistGradientBoostingClassifier\n",
    "\n",
    "model = HistGradientBoostingClassifier()\n",
    "model.fit(X_train, y_train)\n"
   ]
  },
  {
   "cell_type": "code",
   "execution_count": 425,
   "metadata": {},
   "outputs": [],
   "source": [
    "from sklearn.ensemble import HistGradientBoostingClassifier\n",
    "\n",
    "# Create the classifier\n",
    "model = HistGradientBoostingClassifier()\n",
    "\n",
    "# Fit the model to your training data\n",
    "model.fit(X_train, y_train)\n",
    "\n",
    "# Make predictions on your test data\n",
    "predictions = model.predict(X_test)\n"
   ]
  },
  {
   "cell_type": "code",
   "execution_count": 433,
   "metadata": {},
   "outputs": [
    {
     "name": "stdout",
     "output_type": "stream",
     "text": [
      "age                 0\n",
      "balance             3\n",
      "campaign            0\n",
      "pdays               0\n",
      "job_doctor          0\n",
      "job_engineer        0\n",
      "job_manager         0\n",
      "job_teacher         0\n",
      "housing_yes         0\n",
      "loan_yes            0\n",
      "contact_phone       0\n",
      "month_feb           0\n",
      "month_jan           0\n",
      "month_mar           0\n",
      "month_may           0\n",
      "poutcome_success    0\n",
      "poutcome_unknown    0\n",
      "age_group_2         0\n",
      "age_group_3         0\n",
      "age_group_4         0\n",
      "age_group_5         0\n",
      "age_group_6         0\n",
      "dtype: int64\n"
     ]
    }
   ],
   "source": [
    "print(X_train.isnull().sum())\n"
   ]
  },
  {
   "cell_type": "code",
   "execution_count": 434,
   "metadata": {},
   "outputs": [],
   "source": [
    "from sklearn.impute import SimpleImputer\n",
    "\n",
    "imputer = SimpleImputer(strategy='mean')  # You can choose 'mean', 'median', or 'most_frequent'\n",
    "X_train_imputed = imputer.fit_transform(X_train)\n"
   ]
  },
  {
   "cell_type": "code",
   "execution_count": 435,
   "metadata": {},
   "outputs": [],
   "source": [
    "X_train_cleaned = X_train.dropna(axis=0)  # To drop rows with NaN values\n",
    "# or\n",
    "X_train_cleaned = X_train.dropna(axis=1)  # To drop columns with NaN values\n"
   ]
  },
  {
   "cell_type": "markdown",
   "metadata": {},
   "source": [
    "Train a Model"
   ]
  },
  {
   "cell_type": "code",
   "execution_count": 436,
   "metadata": {},
   "outputs": [
    {
     "data": {
      "text/html": [
       "<style>#sk-container-id-4 {color: black;}#sk-container-id-4 pre{padding: 0;}#sk-container-id-4 div.sk-toggleable {background-color: white;}#sk-container-id-4 label.sk-toggleable__label {cursor: pointer;display: block;width: 100%;margin-bottom: 0;padding: 0.3em;box-sizing: border-box;text-align: center;}#sk-container-id-4 label.sk-toggleable__label-arrow:before {content: \"▸\";float: left;margin-right: 0.25em;color: #696969;}#sk-container-id-4 label.sk-toggleable__label-arrow:hover:before {color: black;}#sk-container-id-4 div.sk-estimator:hover label.sk-toggleable__label-arrow:before {color: black;}#sk-container-id-4 div.sk-toggleable__content {max-height: 0;max-width: 0;overflow: hidden;text-align: left;background-color: #f0f8ff;}#sk-container-id-4 div.sk-toggleable__content pre {margin: 0.2em;color: black;border-radius: 0.25em;background-color: #f0f8ff;}#sk-container-id-4 input.sk-toggleable__control:checked~div.sk-toggleable__content {max-height: 200px;max-width: 100%;overflow: auto;}#sk-container-id-4 input.sk-toggleable__control:checked~label.sk-toggleable__label-arrow:before {content: \"▾\";}#sk-container-id-4 div.sk-estimator input.sk-toggleable__control:checked~label.sk-toggleable__label {background-color: #d4ebff;}#sk-container-id-4 div.sk-label input.sk-toggleable__control:checked~label.sk-toggleable__label {background-color: #d4ebff;}#sk-container-id-4 input.sk-hidden--visually {border: 0;clip: rect(1px 1px 1px 1px);clip: rect(1px, 1px, 1px, 1px);height: 1px;margin: -1px;overflow: hidden;padding: 0;position: absolute;width: 1px;}#sk-container-id-4 div.sk-estimator {font-family: monospace;background-color: #f0f8ff;border: 1px dotted black;border-radius: 0.25em;box-sizing: border-box;margin-bottom: 0.5em;}#sk-container-id-4 div.sk-estimator:hover {background-color: #d4ebff;}#sk-container-id-4 div.sk-parallel-item::after {content: \"\";width: 100%;border-bottom: 1px solid gray;flex-grow: 1;}#sk-container-id-4 div.sk-label:hover label.sk-toggleable__label {background-color: #d4ebff;}#sk-container-id-4 div.sk-serial::before {content: \"\";position: absolute;border-left: 1px solid gray;box-sizing: border-box;top: 0;bottom: 0;left: 50%;z-index: 0;}#sk-container-id-4 div.sk-serial {display: flex;flex-direction: column;align-items: center;background-color: white;padding-right: 0.2em;padding-left: 0.2em;position: relative;}#sk-container-id-4 div.sk-item {position: relative;z-index: 1;}#sk-container-id-4 div.sk-parallel {display: flex;align-items: stretch;justify-content: center;background-color: white;position: relative;}#sk-container-id-4 div.sk-item::before, #sk-container-id-4 div.sk-parallel-item::before {content: \"\";position: absolute;border-left: 1px solid gray;box-sizing: border-box;top: 0;bottom: 0;left: 50%;z-index: -1;}#sk-container-id-4 div.sk-parallel-item {display: flex;flex-direction: column;z-index: 1;position: relative;background-color: white;}#sk-container-id-4 div.sk-parallel-item:first-child::after {align-self: flex-end;width: 50%;}#sk-container-id-4 div.sk-parallel-item:last-child::after {align-self: flex-start;width: 50%;}#sk-container-id-4 div.sk-parallel-item:only-child::after {width: 0;}#sk-container-id-4 div.sk-dashed-wrapped {border: 1px dashed gray;margin: 0 0.4em 0.5em 0.4em;box-sizing: border-box;padding-bottom: 0.4em;background-color: white;}#sk-container-id-4 div.sk-label label {font-family: monospace;font-weight: bold;display: inline-block;line-height: 1.2em;}#sk-container-id-4 div.sk-label-container {text-align: center;}#sk-container-id-4 div.sk-container {/* jupyter's `normalize.less` sets `[hidden] { display: none; }` but bootstrap.min.css set `[hidden] { display: none !important; }` so we also need the `!important` here to be able to override the default hidden behavior on the sphinx rendered scikit-learn.org. See: https://github.com/scikit-learn/scikit-learn/issues/21755 */display: inline-block !important;position: relative;}#sk-container-id-4 div.sk-text-repr-fallback {display: none;}</style><div id=\"sk-container-id-4\" class=\"sk-top-container\"><div class=\"sk-text-repr-fallback\"><pre>RandomForestClassifier()</pre><b>In a Jupyter environment, please rerun this cell to show the HTML representation or trust the notebook. <br />On GitHub, the HTML representation is unable to render, please try loading this page with nbviewer.org.</b></div><div class=\"sk-container\" hidden><div class=\"sk-item\"><div class=\"sk-estimator sk-toggleable\"><input class=\"sk-toggleable__control sk-hidden--visually\" id=\"sk-estimator-id-4\" type=\"checkbox\" checked><label for=\"sk-estimator-id-4\" class=\"sk-toggleable__label sk-toggleable__label-arrow\">RandomForestClassifier</label><div class=\"sk-toggleable__content\"><pre>RandomForestClassifier()</pre></div></div></div></div></div>"
      ],
      "text/plain": [
       "RandomForestClassifier()"
      ]
     },
     "execution_count": 436,
     "metadata": {},
     "output_type": "execute_result"
    }
   ],
   "source": [
    "from sklearn.ensemble import RandomForestClassifier\n",
    "\n",
    "model = RandomForestClassifier()\n",
    "model.fit(X_train_imputed, y_train)  # Use the cleaned data\n"
   ]
  },
  {
   "cell_type": "code",
   "execution_count": 438,
   "metadata": {},
   "outputs": [],
   "source": [
    "# Assuming you have X_test and y_test\n",
    "# Use the imputer fitted on the training data to transform the test data\n",
    "X_test_imputed = imputer.transform(X_test)\n"
   ]
  },
  {
   "cell_type": "code",
   "execution_count": 439,
   "metadata": {},
   "outputs": [],
   "source": [
    "y_pred = model.predict(X_test_imputed)\n"
   ]
  },
  {
   "cell_type": "markdown",
   "metadata": {},
   "source": [
    "Evaluate the Model"
   ]
  },
  {
   "cell_type": "code",
   "execution_count": 440,
   "metadata": {},
   "outputs": [
    {
     "name": "stdout",
     "output_type": "stream",
     "text": [
      "Accuracy: 0.0\n",
      "Classification Report:\n",
      "               precision    recall  f1-score   support\n",
      "\n",
      "          no       0.00      0.00      0.00       1.0\n",
      "         yes       0.00      0.00      0.00       0.0\n",
      "\n",
      "    accuracy                           0.00       1.0\n",
      "   macro avg       0.00      0.00      0.00       1.0\n",
      "weighted avg       0.00      0.00      0.00       1.0\n",
      "\n",
      "Confusion Matrix:\n",
      " [[0 1]\n",
      " [0 0]]\n"
     ]
    },
    {
     "name": "stderr",
     "output_type": "stream",
     "text": [
      "/Users/tambunanrmgtgmail.com/anaconda3/envs/myenv/lib/python3.10/site-packages/sklearn/metrics/_classification.py:1469: UndefinedMetricWarning: Precision and F-score are ill-defined and being set to 0.0 in labels with no predicted samples. Use `zero_division` parameter to control this behavior.\n",
      "  _warn_prf(average, modifier, msg_start, len(result))\n",
      "/Users/tambunanrmgtgmail.com/anaconda3/envs/myenv/lib/python3.10/site-packages/sklearn/metrics/_classification.py:1469: UndefinedMetricWarning: Recall and F-score are ill-defined and being set to 0.0 in labels with no true samples. Use `zero_division` parameter to control this behavior.\n",
      "  _warn_prf(average, modifier, msg_start, len(result))\n",
      "/Users/tambunanrmgtgmail.com/anaconda3/envs/myenv/lib/python3.10/site-packages/sklearn/metrics/_classification.py:1469: UndefinedMetricWarning: Precision and F-score are ill-defined and being set to 0.0 in labels with no predicted samples. Use `zero_division` parameter to control this behavior.\n",
      "  _warn_prf(average, modifier, msg_start, len(result))\n",
      "/Users/tambunanrmgtgmail.com/anaconda3/envs/myenv/lib/python3.10/site-packages/sklearn/metrics/_classification.py:1469: UndefinedMetricWarning: Recall and F-score are ill-defined and being set to 0.0 in labels with no true samples. Use `zero_division` parameter to control this behavior.\n",
      "  _warn_prf(average, modifier, msg_start, len(result))\n",
      "/Users/tambunanrmgtgmail.com/anaconda3/envs/myenv/lib/python3.10/site-packages/sklearn/metrics/_classification.py:1469: UndefinedMetricWarning: Precision and F-score are ill-defined and being set to 0.0 in labels with no predicted samples. Use `zero_division` parameter to control this behavior.\n",
      "  _warn_prf(average, modifier, msg_start, len(result))\n",
      "/Users/tambunanrmgtgmail.com/anaconda3/envs/myenv/lib/python3.10/site-packages/sklearn/metrics/_classification.py:1469: UndefinedMetricWarning: Recall and F-score are ill-defined and being set to 0.0 in labels with no true samples. Use `zero_division` parameter to control this behavior.\n",
      "  _warn_prf(average, modifier, msg_start, len(result))\n"
     ]
    }
   ],
   "source": [
    "from sklearn.metrics import accuracy_score, classification_report, confusion_matrix\n",
    "\n",
    "print(\"Accuracy:\", accuracy_score(y_test, y_pred))\n",
    "print(\"Classification Report:\\n\", classification_report(y_test, y_pred))\n",
    "print(\"Confusion Matrix:\\n\", confusion_matrix(y_test, y_pred))\n"
   ]
  },
  {
   "cell_type": "markdown",
   "metadata": {},
   "source": [
    "*Identifikasi Nilai yang Hilang*\n",
    "Pertama, identifikasi kolom dalam kumpulan data Anda yang berisi nilai yang hilang. Anda dapat menggunakan metode isnull() di panda untuk memeriksa nilai yang hilang:"
   ]
  },
  {
   "cell_type": "code",
   "execution_count": 441,
   "metadata": {},
   "outputs": [
    {
     "name": "stdout",
     "output_type": "stream",
     "text": [
      "age          0\n",
      "job          0\n",
      "balance      4\n",
      "housing      0\n",
      "loan         0\n",
      "contact      0\n",
      "month        0\n",
      "campaign     0\n",
      "pdays        0\n",
      "poutcome     0\n",
      "deposit      0\n",
      "age_group    0\n",
      "dtype: int64\n"
     ]
    }
   ],
   "source": [
    "missing_values = data.isnull().sum()\n",
    "print(missing_values)\n"
   ]
  },
  {
   "cell_type": "markdown",
   "metadata": {},
   "source": [
    "*Pilih Strategi Imputasi*\n",
    "Pilih strategi imputasi yang sesuai berdasarkan sifat data Anda. Strategi umum meliputi:\n",
    "-Imputasi Mean atau Median: Ganti nilai yang hilang dengan mean atau median kolom.\n",
    "-Imputasi Mode: Ganti nilai yang hilang dengan mode (nilai paling sering) pada kolom.\n",
    "-Imputasi Konstan: Ganti nilai yang hilang dengan konstanta.\n",
    "*Terapkan Imputasi*\n",
    "Gunakan kelas SimpleImputer scikit-learn untuk melakukan imputasi. Berikut ini contoh penggunaan imputasi mean:"
   ]
  },
  {
   "cell_type": "code",
   "execution_count": 442,
   "metadata": {},
   "outputs": [],
   "source": [
    "from sklearn.impute import SimpleImputer\n",
    "\n",
    "# Create an imputer with the chosen strategy\n",
    "imputer = SimpleImputer(strategy='mean')\n",
    "\n",
    "# Fit the imputer on the training data and transform both training and test data\n",
    "X_train_imputed = imputer.fit_transform(X_train)\n",
    "X_test_imputed = imputer.transform(X_test)\n"
   ]
  },
  {
   "cell_type": "markdown",
   "metadata": {},
   "source": [
    "Ganti 'mean' dengan 'median', 'most_frequent', atau nilai konstan untuk strategi imputasi yang berbeda.\n",
    "\n",
    "*Menangani Data Kategorikal*\n",
    "Jika kumpulan data Anda berisi kolom kategorikal, dan harus menanganinya secara berbeda. Kita dapat menentukan strategi dan nilai_isi untuk kolom kategorikal"
   ]
  },
  {
   "cell_type": "code",
   "execution_count": 443,
   "metadata": {},
   "outputs": [],
   "source": [
    "imputer = SimpleImputer(strategy='most_frequent', fill_value='missing')\n"
   ]
  },
  {
   "cell_type": "code",
   "execution_count": 445,
   "metadata": {},
   "outputs": [
    {
     "name": "stdout",
     "output_type": "stream",
     "text": [
      "Number of missing values: 0\n"
     ]
    }
   ],
   "source": [
    "import numpy as np\n",
    "\n",
    "# Check for missing values in the NumPy array\n",
    "missing_values = np.isnan(X_train_imputed)\n",
    "missing_values_count = np.sum(missing_values)\n",
    "\n",
    "print(f\"Number of missing values: {missing_values_count}\")\n"
   ]
  },
  {
   "cell_type": "code",
   "execution_count": 446,
   "metadata": {},
   "outputs": [
    {
     "name": "stdout",
     "output_type": "stream",
     "text": [
      "age                 0\n",
      "balance             0\n",
      "campaign            0\n",
      "pdays               0\n",
      "job_doctor          0\n",
      "job_engineer        0\n",
      "job_manager         0\n",
      "job_teacher         0\n",
      "housing_yes         0\n",
      "loan_yes            0\n",
      "contact_phone       0\n",
      "month_feb           0\n",
      "month_jan           0\n",
      "month_mar           0\n",
      "month_may           0\n",
      "poutcome_success    0\n",
      "poutcome_unknown    0\n",
      "age_group_2         0\n",
      "age_group_3         0\n",
      "age_group_4         0\n",
      "age_group_5         0\n",
      "age_group_6         0\n",
      "dtype: int64\n"
     ]
    }
   ],
   "source": [
    "import pandas as pd\n",
    "\n",
    "# Convert NumPy array back to DataFrame\n",
    "X_train_imputed_df = pd.DataFrame(X_train_imputed, columns=X_train.columns)\n",
    "\n",
    "# Check for missing values in the DataFrame\n",
    "remaining_missing_values = X_train_imputed_df.isnull().sum()\n",
    "print(remaining_missing_values)\n"
   ]
  },
  {
   "cell_type": "markdown",
   "metadata": {},
   "source": []
  },
  {
   "cell_type": "markdown",
   "metadata": {},
   "source": [
    "Create Age Groups"
   ]
  },
  {
   "cell_type": "markdown",
   "metadata": {},
   "source": [
    "Daripada menggunakan usia yang tepat, buatlah kelompok atau kelompok usia (misalnya, 20-30, 30-40, dll.). Hal ini dapat membantu menangkap potensi hubungan nonlinier."
   ]
  },
  {
   "cell_type": "code",
   "execution_count": null,
   "metadata": {},
   "outputs": [
    {
     "name": "stdout",
     "output_type": "stream",
     "text": [
      "  age;job;balance;housing;loan;contact;month;campaign;pdays;poutcome;deposit\n",
      "0  55;admin.;1662;no;no;cellular;jun;2;-1;unknown...                        \n",
      "1  39;self-employed;-3058;yes;yes;cellular;apr;3;...                        \n",
      "2  51;admin.;3025;no;no;cellular;may;1;352;other;yes                        \n",
      "3  38;services;-87;yes;no;cellular;may;1;-1;unkno...                        \n",
      "4  36;housemaid;205;yes;no;telephone;nov;4;-1;unk...                        \n"
     ]
    }
   ],
   "source": [
    "print(data.head())\n"
   ]
  },
  {
   "cell_type": "code",
   "execution_count": null,
   "metadata": {},
   "outputs": [
    {
     "name": "stdout",
     "output_type": "stream",
     "text": [
      "<class 'pandas.core.frame.DataFrame'>\n",
      "RangeIndex: 7813 entries, 0 to 7812\n",
      "Data columns (total 1 columns):\n",
      " #   Column                                                                      Non-Null Count  Dtype \n",
      "---  ------                                                                      --------------  ----- \n",
      " 0   age;job;balance;housing;loan;contact;month;campaign;pdays;poutcome;deposit  7813 non-null   object\n",
      "dtypes: object(1)\n",
      "memory usage: 61.2+ KB\n",
      "None\n"
     ]
    }
   ],
   "source": [
    "print(data.info())\n"
   ]
  },
  {
   "cell_type": "code",
   "execution_count": null,
   "metadata": {},
   "outputs": [
    {
     "name": "stdout",
     "output_type": "stream",
     "text": [
      "   age            job balance housing loan    contact month campaign pdays  \\\n",
      "0   55         admin.    1662      no   no   cellular   jun        2    -1   \n",
      "1   39  self-employed   -3058     yes  yes   cellular   apr        3    -1   \n",
      "2   51         admin.    3025      no   no   cellular   may        1   352   \n",
      "3   38       services     -87     yes   no   cellular   may        1    -1   \n",
      "4   36      housemaid     205     yes   no  telephone   nov        4    -1   \n",
      "\n",
      "  poutcome deposit age_group  \n",
      "0  unknown     yes     50-60  \n",
      "1  unknown     yes     30-40  \n",
      "2    other     yes     50-60  \n",
      "3  unknown      no     30-40  \n",
      "4  unknown      no     30-40  \n"
     ]
    }
   ],
   "source": [
    "# Assuming your data is in the 'age;job;balance;...' column\n",
    "data_split = data['age;job;balance;housing;loan;contact;month;campaign;pdays;poutcome;deposit'].str.split(';', expand=True)\n",
    "\n",
    "# Rename the columns appropriately\n",
    "data_split.columns = ['age', 'job', 'balance', 'housing', 'loan', 'contact', 'month', 'campaign', 'pdays', 'poutcome', 'deposit']\n",
    "\n",
    "# Convert 'age' column to numeric (if it's not already)\n",
    "data_split['age'] = pd.to_numeric(data_split['age'], errors='coerce')\n",
    "\n",
    "# Now, you can proceed with your age group creation\n",
    "bins = [20, 30, 40, 50, 60, 70, 80]\n",
    "labels = ['20-30', '30-40', '40-50', '50-60', '60-70', '70-80']\n",
    "data_split['age_group'] = pd.cut(data_split['age'], bins=bins, labels=labels, right=False)\n",
    "\n",
    "# Print the first few rows to verify\n",
    "print(data_split.head())\n"
   ]
  },
  {
   "cell_type": "markdown",
   "metadata": {},
   "source": [
    "Combine Job Categories"
   ]
  },
  {
   "cell_type": "code",
   "execution_count": null,
   "metadata": {},
   "outputs": [
    {
     "data": {
      "text/html": [
       "<div>\n",
       "<style scoped>\n",
       "    .dataframe tbody tr th:only-of-type {\n",
       "        vertical-align: middle;\n",
       "    }\n",
       "\n",
       "    .dataframe tbody tr th {\n",
       "        vertical-align: top;\n",
       "    }\n",
       "\n",
       "    .dataframe thead th {\n",
       "        text-align: right;\n",
       "    }\n",
       "</style>\n",
       "<table border=\"1\" class=\"dataframe\">\n",
       "  <thead>\n",
       "    <tr style=\"text-align: right;\">\n",
       "      <th></th>\n",
       "      <th>age;job;balance;housing;loan;contact;month;campaign;pdays;poutcome;deposit</th>\n",
       "    </tr>\n",
       "  </thead>\n",
       "  <tbody>\n",
       "    <tr>\n",
       "      <th>0</th>\n",
       "      <td>55;admin.;1662;no;no;cellular;jun;2;-1;unknown...</td>\n",
       "    </tr>\n",
       "    <tr>\n",
       "      <th>1</th>\n",
       "      <td>39;self-employed;-3058;yes;yes;cellular;apr;3;...</td>\n",
       "    </tr>\n",
       "    <tr>\n",
       "      <th>2</th>\n",
       "      <td>51;admin.;3025;no;no;cellular;may;1;352;other;yes</td>\n",
       "    </tr>\n",
       "    <tr>\n",
       "      <th>3</th>\n",
       "      <td>38;services;-87;yes;no;cellular;may;1;-1;unkno...</td>\n",
       "    </tr>\n",
       "    <tr>\n",
       "      <th>4</th>\n",
       "      <td>36;housemaid;205;yes;no;telephone;nov;4;-1;unk...</td>\n",
       "    </tr>\n",
       "  </tbody>\n",
       "</table>\n",
       "</div>"
      ],
      "text/plain": [
       "  age;job;balance;housing;loan;contact;month;campaign;pdays;poutcome;deposit\n",
       "0  55;admin.;1662;no;no;cellular;jun;2;-1;unknown...                        \n",
       "1  39;self-employed;-3058;yes;yes;cellular;apr;3;...                        \n",
       "2  51;admin.;3025;no;no;cellular;may;1;352;other;yes                        \n",
       "3  38;services;-87;yes;no;cellular;may;1;-1;unkno...                        \n",
       "4  36;housemaid;205;yes;no;telephone;nov;4;-1;unk...                        "
      ]
     },
     "execution_count": 307,
     "metadata": {},
     "output_type": "execute_result"
    }
   ],
   "source": [
    "df.head()"
   ]
  },
  {
   "cell_type": "markdown",
   "metadata": {},
   "source": [
    "### Data Splitting"
   ]
  },
  {
   "cell_type": "markdown",
   "metadata": {},
   "source": [
    "Rekayasa fitur melibatkan pembuatan fitur baru atau mengubah fitur yang sudah ada untuk meningkatkan performa model pembelajaran mesin. Mari jelajahi beberapa ide rekayasa fitur potensial untuk kumpulan data data_bank_marketing_campaign:\n",
    "\n",
    "Pengkodean Variabel Kategorikal:\n",
    "Enkode variabel kategori seperti 'pekerjaan', 'usia', 'kontak', 'default', 'perumahan', 'pinjaman', 'kontak', 'bulan', 'poutcome' menggunakan teknik seperti pengkodean one-hot atau pengkodean label.\n",
    "ular piton"
   ]
  },
  {
   "cell_type": "code",
   "execution_count": null,
   "metadata": {},
   "outputs": [
    {
     "name": "stdout",
     "output_type": "stream",
     "text": [
      "Index(['age;job;balance;housing;loan;contact;month;campaign;pdays;poutcome;deposit'], dtype='object')\n"
     ]
    }
   ],
   "source": [
    "print(df.columns)\n"
   ]
  },
  {
   "cell_type": "markdown",
   "metadata": {},
   "source": [
    "*Split Data into Features and Target*"
   ]
  },
  {
   "cell_type": "code",
   "execution_count": null,
   "metadata": {},
   "outputs": [],
   "source": [
    "X = data_bank_marketing_campaign.drop('deposit', axis=1)\n",
    "y = data_bank_marketing_campaign['deposit']\n"
   ]
  },
  {
   "cell_type": "markdown",
   "metadata": {},
   "source": [
    "*Split Data into Training and Testing Sets*"
   ]
  },
  {
   "cell_type": "code",
   "execution_count": null,
   "metadata": {},
   "outputs": [
    {
     "name": "stdout",
     "output_type": "stream",
     "text": [
      "Shape of X_test_scaled: (1563, 23)\n"
     ]
    }
   ],
   "source": [
    "print(\"Shape of X_test_scaled:\", X_test_scaled.shape)\n"
   ]
  },
  {
   "cell_type": "code",
   "execution_count": null,
   "metadata": {},
   "outputs": [],
   "source": [
    "from sklearn.compose import ColumnTransformer\n",
    "from sklearn.preprocessing import StandardScaler, OneHotEncoder\n",
    "\n",
    "# Assuming 'numeric_features' and 'categorical_features' are lists of column names\n",
    "# representing numeric and categorical features respectively\n",
    "\n",
    "# Create transformers\n",
    "numeric_transformer = StandardScaler()\n",
    "categorical_transformer = OneHotEncoder(handle_unknown='ignore')\n",
    "\n",
    "# Create the column transformer\n",
    "preprocessor = ColumnTransformer(\n",
    "    transformers=[\n",
    "        ('num', numeric_transformer, numeric_features),\n",
    "        ('cat', categorical_transformer, categorical_features)\n",
    "    ])\n",
    "\n",
    "# Fit and transform the training data\n",
    "X_train_scaled = preprocessor.fit_transform(X_train)\n",
    "\n",
    "# Transform the testing data\n",
    "X_test_scaled = preprocessor.transform(X_test)\n"
   ]
  },
  {
   "cell_type": "markdown",
   "metadata": {},
   "source": [
    "Import Necessary Libraries"
   ]
  },
  {
   "cell_type": "code",
   "execution_count": null,
   "metadata": {},
   "outputs": [],
   "source": [
    "from sklearn.model_selection import cross_val_score\n",
    "from sklearn.ensemble import RandomForestClassifier\n",
    "from sklearn.svm import SVC\n",
    "from sklearn.linear_model import LogisticRegression\n",
    "# Add other models as needed\n"
   ]
  },
  {
   "cell_type": "markdown",
   "metadata": {},
   "source": [
    "Define Models"
   ]
  },
  {
   "cell_type": "code",
   "execution_count": null,
   "metadata": {},
   "outputs": [],
   "source": [
    "models = [\n",
    "    ('Random Forest', RandomForestClassifier()),\n",
    "    ('SVM', SVC()),\n",
    "    ('Logistic Regression', LogisticRegression())\n",
    "    # Add other models as needed\n",
    "]\n"
   ]
  },
  {
   "cell_type": "markdown",
   "metadata": {},
   "source": [
    "Evaluate Models"
   ]
  },
  {
   "cell_type": "code",
   "execution_count": null,
   "metadata": {},
   "outputs": [],
   "source": [
    "from sklearn.impute import SimpleImputer\n",
    "\n",
    "# Assuming X_train contains both numeric and categorical columns\n",
    "numeric_cols = X_train.select_dtypes(include='number').columns\n",
    "categorical_cols = X_train.select_dtypes(exclude='number').columns\n",
    "\n",
    "# Impute numeric columns with mean\n",
    "numeric_imputer = SimpleImputer(strategy='mean')\n",
    "X_train[numeric_cols] = numeric_imputer.fit_transform(X_train[numeric_cols])\n",
    "\n",
    "# Impute categorical columns with most frequent value\n",
    "categorical_imputer = SimpleImputer(strategy='most_frequent')\n",
    "X_train[categorical_cols] = categorical_imputer.fit_transform(X_train[categorical_cols])\n"
   ]
  },
  {
   "cell_type": "code",
   "execution_count": 406,
   "metadata": {},
   "outputs": [],
   "source": [
    "X_train = X_train.dropna()\n",
    "y_train = y_train[X_train.index]  # Make sure to update your target variable accordingly\n"
   ]
  },
  {
   "cell_type": "code",
   "execution_count": null,
   "metadata": {},
   "outputs": [],
   "source": [
    "from sklearn.impute import SimpleImputer\n",
    "\n",
    "# Create an imputer instance\n",
    "imputer = SimpleImputer(strategy='mean')  # You can choose a different strategy based on your data\n",
    "\n",
    "# Fit and transform the imputer on your training data\n",
    "X_train_imputed = imputer.fit_transform(X_train_scaled)\n"
   ]
  },
  {
   "cell_type": "code",
   "execution_count": 24,
   "metadata": {},
   "outputs": [
    {
     "name": "stdout",
     "output_type": "stream",
     "text": [
      "Index(['age', 'job', 'balance', 'housing', 'loan', 'contact', 'month',\n",
      "       'campaign', 'pdays', 'poutcome', 'deposit'],\n",
      "      dtype='object')\n",
      "Index(['age', 'job', 'balance', 'housing', 'loan', 'contact', 'month',\n",
      "       'campaign', 'pdays', 'poutcome', 'deposit'],\n",
      "      dtype='object')\n"
     ]
    }
   ],
   "source": [
    "import os\n",
    "import pandas as pd  # Don't forget this line\n",
    "from sklearn.model_selection import train_test_split\n",
    "from sklearn.preprocessing import OneHotEncoder, StandardScaler\n",
    "from sklearn.compose import ColumnTransformer\n",
    "from sklearn.pipeline import Pipeline\n",
    "from sklearn.impute import SimpleImputer\n",
    "from sklearn.ensemble import RandomForestClassifier\n",
    "from sklearn.svm import SVC\n",
    "from sklearn.linear_model import LogisticRegression\n",
    "from sklearn.model_selection import cross_val_score\n",
    "\n",
    "# Print the column names\n",
    "print(my_data.columns)\n",
    "\n",
    "# Step 2: Split Data\n",
    "my_data = pd.read_csv('data_bank_marketing_campaign.csv', delimiter=';')\n",
    "\n",
    "# Print the column names\n",
    "print(my_data.columns)\n",
    "\n",
    "X = my_data.drop(\"deposit\", axis=1)\n",
    "y = my_data[\"deposit\"]\n",
    "\n",
    "\n",
    "X_train, X_test, y_train, y_test = train_test_split(X, y, test_size=0.2, random_state=42)\n",
    "\n",
    "# Step 3: Preprocess Data\n",
    "numeric_cols = X_train.select_dtypes(include='number').columns\n",
    "categorical_cols = X_train.select_dtypes(exclude='number').columns\n",
    "\n",
    "numeric_transformer = Pipeline(steps=[\n",
    "    ('imputer', SimpleImputer(strategy='mean')),\n",
    "    ('scaler', StandardScaler())\n",
    "])\n",
    "\n",
    "categorical_transformer = Pipeline(steps=[\n",
    "    ('imputer', SimpleImputer(strategy='most_frequent')),\n",
    "    ('onehot', OneHotEncoder(handle_unknown='ignore'))\n",
    "])\n",
    "\n",
    "preprocessor = ColumnTransformer(\n",
    "    transformers=[\n",
    "        ('num', numeric_transformer, numeric_cols),\n",
    "        ('cat', categorical_transformer, categorical_cols)\n",
    "    ])\n",
    "\n",
    "X_train_preprocessed = preprocessor.fit_transform(X_train)\n",
    "\n",
    "# Step 4: Save Split Data\n",
    "current_dir = os.getcwd()\n",
    "\n",
    "\n",
    "# Save training set\n",
    "train_file_name = 'train_data_split.csv'\n",
    "train_file_path = os.path.join(current_dir, train_file_name)\n",
    "X_train.to_csv(train_file_path, index=False)\n",
    "y_train.to_csv(train_file_path, index=False, header=False, mode='a')  # Append y_train to the same file\n",
    "\n",
    "# Save testing set\n",
    "test_file_name = 'test_data_split.csv'\n",
    "test_file_path = os.path.join(current_dir, test_file_name)\n",
    "X_test.to_csv(test_file_path, index=False)\n",
    "y_test.to_csv(test_file_path, index=False, header=False, mode='a')  # Append y_test to the same file\n",
    "\n",
    "\n",
    "# Continue with your modeling and evaluation steps...\n"
   ]
  },
  {
   "cell_type": "markdown",
   "metadata": {},
   "source": [
    "## Data Preprocessing"
   ]
  },
  {
   "cell_type": "code",
   "execution_count": 25,
   "metadata": {},
   "outputs": [],
   "source": [
    "from sklearn.compose import ColumnTransformer\n",
    "from sklearn.pipeline import Pipeline\n",
    "from sklearn.impute import SimpleImputer\n",
    "from sklearn.preprocessing import StandardScaler, OneHotEncoder\n",
    "\n",
    "# Define numerical and categorical features\n",
    "numeric_features = ['age', 'balance', 'campaign', 'pdays']\n",
    "categorical_features = ['job', 'housing', 'loan', 'contact', 'month', 'poutcome']\n",
    "\n",
    "# Create a preprocessing pipeline\n",
    "preprocessor = ColumnTransformer(\n",
    "    transformers=[\n",
    "        ('num', StandardScaler(), numeric_features),\n",
    "        ('cat', OneHotEncoder(), categorical_features)\n",
    "    ])\n",
    "\n",
    "# Example usage:\n",
    "# X_train_preprocessed = preprocessor.fit_transform(X_train)\n"
   ]
  },
  {
   "cell_type": "markdown",
   "metadata": {},
   "source": [
    "## Modeling & Evaluation"
   ]
  },
  {
   "cell_type": "code",
   "execution_count": 26,
   "metadata": {},
   "outputs": [
    {
     "name": "stdout",
     "output_type": "stream",
     "text": [
      "Accuracy: 0.7184900831733845\n"
     ]
    }
   ],
   "source": [
    "from sklearn.ensemble import RandomForestClassifier\n",
    "from sklearn.metrics import accuracy_score\n",
    "\n",
    "# Create a RandomForestClassifier\n",
    "classifier = RandomForestClassifier(n_estimators=100, random_state=42)\n",
    "\n",
    "# Create a pipeline with preprocessing and the classifier\n",
    "pipeline = Pipeline(steps=[('preprocessor', preprocessor),\n",
    "                             ('classifier', classifier)])\n",
    "\n",
    "# Train the model\n",
    "pipeline.fit(X_train, y_train)\n",
    "\n",
    "# Make predictions on the test set\n",
    "y_pred = pipeline.predict(X_test)\n",
    "\n",
    "# Evaluate the model\n",
    "accuracy = accuracy_score(y_test, y_pred)\n",
    "print(f\"Accuracy: {accuracy}\")\n"
   ]
  },
  {
   "cell_type": "markdown",
   "metadata": {},
   "source": [
    "Model Interpretation"
   ]
  },
  {
   "cell_type": "code",
   "execution_count": null,
   "metadata": {},
   "outputs": [],
   "source": [
    "# Replace 'your_data.csv' with the actual file path\n",
    "df = pd.read_csv('your_data.csv')\n",
    "\n",
    "# Now you can proceed with the rest of the code\n",
    "features = df.drop(\"target_column\", axis=1)\n",
    "target = df[\"target_column\"]"
   ]
  },
  {
   "cell_type": "markdown",
   "metadata": {},
   "source": [
    "1. Pipeline: Pipeline keseluruhan terdiri dari dua langkah utama: prapemrosesan (preprocessor) dan pengklasifikasi (RandomForestClassifier).\n",
    "2. Praprosesor (ColumnTransformer): Bagian bagan ini menangani fitur numerik dan kategorikal secara terpisah.\n",
    "Fitur \n",
    "- Numerik (angka): Ini adalah kolom dengan tipe data yang menyertakan angka. Langkah-langkah yang diterapkan adalah SimpleImputer (untuk mengisi nilai yang hilang) dan StandardScaler (untuk menskalakan fitur).\n",
    "- Fitur Kategorikal (cat): Ini adalah kolom dengan tipe data non-numerik. Langkah-langkah yang diterapkan adalah SimpleImputer (untuk mengisi nilai yang hilang) dan OneHotEncoder (untuk mengubah variabel kategori menjadi matriks biner).\n",
    "3. Pengklasifikasi (RandomForestClassifier): Ini adalah model pembelajaran mesin yang Anda pilih. Ini adalah RandomForestClassifier, yang merupakan metode pembelajaran ansambel untuk klasifikasi.\n",
    "Pipeline ini merangkum seluruh proses mulai dari prapemrosesan data hingga pelatihan model"
   ]
  },
  {
   "cell_type": "code",
   "execution_count": 162,
   "metadata": {},
   "outputs": [
    {
     "name": "stdout",
     "output_type": "stream",
     "text": [
      "   age            job  balance housing loan    contact month  campaign  pdays  \\\n",
      "0   55         admin.     1662      no   no   cellular   jun         2     -1   \n",
      "1   39  self-employed    -3058     yes  yes   cellular   apr         3     -1   \n",
      "2   51         admin.     3025      no   no   cellular   may         1    352   \n",
      "3   38       services      -87     yes   no   cellular   may         1     -1   \n",
      "4   36      housemaid      205     yes   no  telephone   nov         4     -1   \n",
      "\n",
      "  poutcome deposit age_group  \n",
      "0  unknown     yes     50-60  \n",
      "1  unknown     yes     30-40  \n",
      "2    other     yes     50-60  \n",
      "3  unknown      no     30-40  \n",
      "4  unknown      no     30-40  \n"
     ]
    }
   ],
   "source": [
    "import pandas as pd\n",
    "\n",
    "# Your sample data\n",
    "data = {'age': [55, 39, 51, 38, 36],\n",
    "        'job': ['admin.', 'self-employed', 'admin.', 'services', 'housemaid'],\n",
    "        'balance': [1662, -3058, 3025, -87, 205],\n",
    "        'housing': ['no', 'yes', 'no', 'yes', 'yes'],\n",
    "        'loan': ['no', 'yes', 'no', 'no', 'no'],\n",
    "        'contact': ['cellular', 'cellular', 'cellular', 'cellular', 'telephone'],\n",
    "        'month': ['jun', 'apr', 'may', 'may', 'nov'],\n",
    "        'campaign': [2, 3, 1, 1, 4],\n",
    "        'pdays': [-1, -1, 352, -1, -1],\n",
    "        'poutcome': ['unknown', 'unknown', 'other', 'unknown', 'unknown'],\n",
    "        'deposit': ['yes', 'yes', 'yes', 'no', 'no']}\n",
    "\n",
    "# Creating a DataFrame\n",
    "df = pd.DataFrame(data)\n",
    "\n",
    "# Adding an 'age_group' column\n",
    "bins = [30, 40, 50, 60, 70, 80]  # Define your age bins as needed\n",
    "labels = ['30-40', '40-50', '50-60', '60-70', '70-80']\n",
    "df['age_group'] = pd.cut(df['age'], bins=bins, labels=labels, right=False)\n",
    "\n",
    "# Display the DataFrame\n",
    "print(df)\n"
   ]
  },
  {
   "cell_type": "code",
   "execution_count": 163,
   "metadata": {},
   "outputs": [
    {
     "data": {
      "text/html": [
       "<style>#sk-container-id-6 {color: black;}#sk-container-id-6 pre{padding: 0;}#sk-container-id-6 div.sk-toggleable {background-color: white;}#sk-container-id-6 label.sk-toggleable__label {cursor: pointer;display: block;width: 100%;margin-bottom: 0;padding: 0.3em;box-sizing: border-box;text-align: center;}#sk-container-id-6 label.sk-toggleable__label-arrow:before {content: \"▸\";float: left;margin-right: 0.25em;color: #696969;}#sk-container-id-6 label.sk-toggleable__label-arrow:hover:before {color: black;}#sk-container-id-6 div.sk-estimator:hover label.sk-toggleable__label-arrow:before {color: black;}#sk-container-id-6 div.sk-toggleable__content {max-height: 0;max-width: 0;overflow: hidden;text-align: left;background-color: #f0f8ff;}#sk-container-id-6 div.sk-toggleable__content pre {margin: 0.2em;color: black;border-radius: 0.25em;background-color: #f0f8ff;}#sk-container-id-6 input.sk-toggleable__control:checked~div.sk-toggleable__content {max-height: 200px;max-width: 100%;overflow: auto;}#sk-container-id-6 input.sk-toggleable__control:checked~label.sk-toggleable__label-arrow:before {content: \"▾\";}#sk-container-id-6 div.sk-estimator input.sk-toggleable__control:checked~label.sk-toggleable__label {background-color: #d4ebff;}#sk-container-id-6 div.sk-label input.sk-toggleable__control:checked~label.sk-toggleable__label {background-color: #d4ebff;}#sk-container-id-6 input.sk-hidden--visually {border: 0;clip: rect(1px 1px 1px 1px);clip: rect(1px, 1px, 1px, 1px);height: 1px;margin: -1px;overflow: hidden;padding: 0;position: absolute;width: 1px;}#sk-container-id-6 div.sk-estimator {font-family: monospace;background-color: #f0f8ff;border: 1px dotted black;border-radius: 0.25em;box-sizing: border-box;margin-bottom: 0.5em;}#sk-container-id-6 div.sk-estimator:hover {background-color: #d4ebff;}#sk-container-id-6 div.sk-parallel-item::after {content: \"\";width: 100%;border-bottom: 1px solid gray;flex-grow: 1;}#sk-container-id-6 div.sk-label:hover label.sk-toggleable__label {background-color: #d4ebff;}#sk-container-id-6 div.sk-serial::before {content: \"\";position: absolute;border-left: 1px solid gray;box-sizing: border-box;top: 0;bottom: 0;left: 50%;z-index: 0;}#sk-container-id-6 div.sk-serial {display: flex;flex-direction: column;align-items: center;background-color: white;padding-right: 0.2em;padding-left: 0.2em;position: relative;}#sk-container-id-6 div.sk-item {position: relative;z-index: 1;}#sk-container-id-6 div.sk-parallel {display: flex;align-items: stretch;justify-content: center;background-color: white;position: relative;}#sk-container-id-6 div.sk-item::before, #sk-container-id-6 div.sk-parallel-item::before {content: \"\";position: absolute;border-left: 1px solid gray;box-sizing: border-box;top: 0;bottom: 0;left: 50%;z-index: -1;}#sk-container-id-6 div.sk-parallel-item {display: flex;flex-direction: column;z-index: 1;position: relative;background-color: white;}#sk-container-id-6 div.sk-parallel-item:first-child::after {align-self: flex-end;width: 50%;}#sk-container-id-6 div.sk-parallel-item:last-child::after {align-self: flex-start;width: 50%;}#sk-container-id-6 div.sk-parallel-item:only-child::after {width: 0;}#sk-container-id-6 div.sk-dashed-wrapped {border: 1px dashed gray;margin: 0 0.4em 0.5em 0.4em;box-sizing: border-box;padding-bottom: 0.4em;background-color: white;}#sk-container-id-6 div.sk-label label {font-family: monospace;font-weight: bold;display: inline-block;line-height: 1.2em;}#sk-container-id-6 div.sk-label-container {text-align: center;}#sk-container-id-6 div.sk-container {/* jupyter's `normalize.less` sets `[hidden] { display: none; }` but bootstrap.min.css set `[hidden] { display: none !important; }` so we also need the `!important` here to be able to override the default hidden behavior on the sphinx rendered scikit-learn.org. See: https://github.com/scikit-learn/scikit-learn/issues/21755 */display: inline-block !important;position: relative;}#sk-container-id-6 div.sk-text-repr-fallback {display: none;}</style><div id=\"sk-container-id-6\" class=\"sk-top-container\"><div class=\"sk-text-repr-fallback\"><pre>Pipeline(steps=[(&#x27;preprocessor&#x27;,\n",
       "                 ColumnTransformer(transformers=[(&#x27;num&#x27;,\n",
       "                                                  Pipeline(steps=[(&#x27;imputer&#x27;,\n",
       "                                                                   SimpleImputer()),\n",
       "                                                                  (&#x27;scaler&#x27;,\n",
       "                                                                   StandardScaler())]),\n",
       "                                                  Index([], dtype=&#x27;object&#x27;)),\n",
       "                                                 (&#x27;cat&#x27;,\n",
       "                                                  Pipeline(steps=[(&#x27;imputer&#x27;,\n",
       "                                                                   SimpleImputer(strategy=&#x27;most_frequent&#x27;)),\n",
       "                                                                  (&#x27;onehot&#x27;,\n",
       "                                                                   OneHotEncoder(handle_unknown=&#x27;ignore&#x27;))]),\n",
       "                                                  Index([&#x27;features&#x27;], dtype=&#x27;object&#x27;))])),\n",
       "                (&#x27;classifier&#x27;, RandomForestClassifier())])</pre><b>In a Jupyter environment, please rerun this cell to show the HTML representation or trust the notebook. <br />On GitHub, the HTML representation is unable to render, please try loading this page with nbviewer.org.</b></div><div class=\"sk-container\" hidden><div class=\"sk-item sk-dashed-wrapped\"><div class=\"sk-label-container\"><div class=\"sk-label sk-toggleable\"><input class=\"sk-toggleable__control sk-hidden--visually\" id=\"sk-estimator-id-46\" type=\"checkbox\" ><label for=\"sk-estimator-id-46\" class=\"sk-toggleable__label sk-toggleable__label-arrow\">Pipeline</label><div class=\"sk-toggleable__content\"><pre>Pipeline(steps=[(&#x27;preprocessor&#x27;,\n",
       "                 ColumnTransformer(transformers=[(&#x27;num&#x27;,\n",
       "                                                  Pipeline(steps=[(&#x27;imputer&#x27;,\n",
       "                                                                   SimpleImputer()),\n",
       "                                                                  (&#x27;scaler&#x27;,\n",
       "                                                                   StandardScaler())]),\n",
       "                                                  Index([], dtype=&#x27;object&#x27;)),\n",
       "                                                 (&#x27;cat&#x27;,\n",
       "                                                  Pipeline(steps=[(&#x27;imputer&#x27;,\n",
       "                                                                   SimpleImputer(strategy=&#x27;most_frequent&#x27;)),\n",
       "                                                                  (&#x27;onehot&#x27;,\n",
       "                                                                   OneHotEncoder(handle_unknown=&#x27;ignore&#x27;))]),\n",
       "                                                  Index([&#x27;features&#x27;], dtype=&#x27;object&#x27;))])),\n",
       "                (&#x27;classifier&#x27;, RandomForestClassifier())])</pre></div></div></div><div class=\"sk-serial\"><div class=\"sk-item sk-dashed-wrapped\"><div class=\"sk-label-container\"><div class=\"sk-label sk-toggleable\"><input class=\"sk-toggleable__control sk-hidden--visually\" id=\"sk-estimator-id-47\" type=\"checkbox\" ><label for=\"sk-estimator-id-47\" class=\"sk-toggleable__label sk-toggleable__label-arrow\">preprocessor: ColumnTransformer</label><div class=\"sk-toggleable__content\"><pre>ColumnTransformer(transformers=[(&#x27;num&#x27;,\n",
       "                                 Pipeline(steps=[(&#x27;imputer&#x27;, SimpleImputer()),\n",
       "                                                 (&#x27;scaler&#x27;, StandardScaler())]),\n",
       "                                 Index([], dtype=&#x27;object&#x27;)),\n",
       "                                (&#x27;cat&#x27;,\n",
       "                                 Pipeline(steps=[(&#x27;imputer&#x27;,\n",
       "                                                  SimpleImputer(strategy=&#x27;most_frequent&#x27;)),\n",
       "                                                 (&#x27;onehot&#x27;,\n",
       "                                                  OneHotEncoder(handle_unknown=&#x27;ignore&#x27;))]),\n",
       "                                 Index([&#x27;features&#x27;], dtype=&#x27;object&#x27;))])</pre></div></div></div><div class=\"sk-parallel\"><div class=\"sk-parallel-item\"><div class=\"sk-item\"><div class=\"sk-label-container\"><div class=\"sk-label sk-toggleable\"><input class=\"sk-toggleable__control sk-hidden--visually\" id=\"sk-estimator-id-48\" type=\"checkbox\" ><label for=\"sk-estimator-id-48\" class=\"sk-toggleable__label sk-toggleable__label-arrow\">num</label><div class=\"sk-toggleable__content\"><pre>Index([], dtype=&#x27;object&#x27;)</pre></div></div></div><div class=\"sk-serial\"><div class=\"sk-item\"><div class=\"sk-serial\"><div class=\"sk-item\"><div class=\"sk-estimator sk-toggleable\"><input class=\"sk-toggleable__control sk-hidden--visually\" id=\"sk-estimator-id-49\" type=\"checkbox\" ><label for=\"sk-estimator-id-49\" class=\"sk-toggleable__label sk-toggleable__label-arrow\">SimpleImputer</label><div class=\"sk-toggleable__content\"><pre>SimpleImputer()</pre></div></div></div><div class=\"sk-item\"><div class=\"sk-estimator sk-toggleable\"><input class=\"sk-toggleable__control sk-hidden--visually\" id=\"sk-estimator-id-50\" type=\"checkbox\" ><label for=\"sk-estimator-id-50\" class=\"sk-toggleable__label sk-toggleable__label-arrow\">StandardScaler</label><div class=\"sk-toggleable__content\"><pre>StandardScaler()</pre></div></div></div></div></div></div></div></div><div class=\"sk-parallel-item\"><div class=\"sk-item\"><div class=\"sk-label-container\"><div class=\"sk-label sk-toggleable\"><input class=\"sk-toggleable__control sk-hidden--visually\" id=\"sk-estimator-id-51\" type=\"checkbox\" ><label for=\"sk-estimator-id-51\" class=\"sk-toggleable__label sk-toggleable__label-arrow\">cat</label><div class=\"sk-toggleable__content\"><pre>Index([&#x27;features&#x27;], dtype=&#x27;object&#x27;)</pre></div></div></div><div class=\"sk-serial\"><div class=\"sk-item\"><div class=\"sk-serial\"><div class=\"sk-item\"><div class=\"sk-estimator sk-toggleable\"><input class=\"sk-toggleable__control sk-hidden--visually\" id=\"sk-estimator-id-52\" type=\"checkbox\" ><label for=\"sk-estimator-id-52\" class=\"sk-toggleable__label sk-toggleable__label-arrow\">SimpleImputer</label><div class=\"sk-toggleable__content\"><pre>SimpleImputer(strategy=&#x27;most_frequent&#x27;)</pre></div></div></div><div class=\"sk-item\"><div class=\"sk-estimator sk-toggleable\"><input class=\"sk-toggleable__control sk-hidden--visually\" id=\"sk-estimator-id-53\" type=\"checkbox\" ><label for=\"sk-estimator-id-53\" class=\"sk-toggleable__label sk-toggleable__label-arrow\">OneHotEncoder</label><div class=\"sk-toggleable__content\"><pre>OneHotEncoder(handle_unknown=&#x27;ignore&#x27;)</pre></div></div></div></div></div></div></div></div></div></div><div class=\"sk-item\"><div class=\"sk-estimator sk-toggleable\"><input class=\"sk-toggleable__control sk-hidden--visually\" id=\"sk-estimator-id-54\" type=\"checkbox\" ><label for=\"sk-estimator-id-54\" class=\"sk-toggleable__label sk-toggleable__label-arrow\">RandomForestClassifier</label><div class=\"sk-toggleable__content\"><pre>RandomForestClassifier()</pre></div></div></div></div></div></div></div>"
      ],
      "text/plain": [
       "Pipeline(steps=[('preprocessor',\n",
       "                 ColumnTransformer(transformers=[('num',\n",
       "                                                  Pipeline(steps=[('imputer',\n",
       "                                                                   SimpleImputer()),\n",
       "                                                                  ('scaler',\n",
       "                                                                   StandardScaler())]),\n",
       "                                                  Index([], dtype='object')),\n",
       "                                                 ('cat',\n",
       "                                                  Pipeline(steps=[('imputer',\n",
       "                                                                   SimpleImputer(strategy='most_frequent')),\n",
       "                                                                  ('onehot',\n",
       "                                                                   OneHotEncoder(handle_unknown='ignore'))]),\n",
       "                                                  Index(['features'], dtype='object'))])),\n",
       "                ('classifier', RandomForestClassifier())])"
      ]
     },
     "execution_count": 163,
     "metadata": {},
     "output_type": "execute_result"
    }
   ],
   "source": [
    "from sklearn.compose import ColumnTransformer\n",
    "from sklearn.pipeline import Pipeline\n",
    "from sklearn.impute import SimpleImputer\n",
    "from sklearn.preprocessing import StandardScaler, OneHotEncoder\n",
    "from sklearn.ensemble import RandomForestClassifier\n",
    "\n",
    "# Assuming X_train has both numeric and categorical columns\n",
    "numeric_cols = X_train.select_dtypes(include='number').columns\n",
    "categorical_cols = X_train.select_dtypes(exclude='number').columns\n",
    "\n",
    "# Preprocessing for numerical data\n",
    "numeric_transformer = Pipeline(steps=[\n",
    "    ('imputer', SimpleImputer(strategy='mean')),\n",
    "    ('scaler', StandardScaler())\n",
    "])\n",
    "\n",
    "# Preprocessing for categorical data\n",
    "categorical_transformer = Pipeline(steps=[\n",
    "    ('imputer', SimpleImputer(strategy='most_frequent')),\n",
    "    ('onehot', OneHotEncoder(handle_unknown='ignore'))\n",
    "])\n",
    "\n",
    "# Bundle preprocessing for numerical and categorical data\n",
    "preprocessor = ColumnTransformer(\n",
    "    transformers=[\n",
    "        ('num', numeric_transformer, numeric_cols),\n",
    "        ('cat', categorical_transformer, categorical_cols)\n",
    "    ])\n",
    "\n",
    "# Define the model\n",
    "model = RandomForestClassifier()\n",
    "\n",
    "# Bundle preprocessing and modeling code in a pipeline\n",
    "clf = Pipeline(steps=[('preprocessor', preprocessor),\n",
    "                      ('classifier', model)])\n",
    "\n",
    "# Now you can fit the model using the combined pipeline\n",
    "clf.fit(X_train, y_train)\n"
   ]
  },
  {
   "cell_type": "code",
   "execution_count": 164,
   "metadata": {},
   "outputs": [
    {
     "name": "stdout",
     "output_type": "stream",
     "text": [
      "Index(['age', 'job', 'balance', 'housing', 'loan', 'contact', 'month',\n",
      "       'campaign', 'pdays', 'poutcome', 'deposit', 'age_group'],\n",
      "      dtype='object')\n"
     ]
    }
   ],
   "source": [
    "print(df.columns)\n"
   ]
  },
  {
   "cell_type": "markdown",
   "metadata": {},
   "source": [
    "*Bar Chart*"
   ]
  },
  {
   "cell_type": "code",
   "execution_count": 165,
   "metadata": {},
   "outputs": [
    {
     "data": {
      "image/png": "[encoded data removed]",
      "text/plain": [
       "<Figure size 1800x800 with 1 Axes>"
      ]
     },
     "metadata": {},
     "output_type": "display_data"
    }
   ],
   "source": [
    "import matplotlib.pyplot as plt\n",
    "\n",
    "# Assuming 'features' is the column you want to visualize\n",
    "# and 'deposit' is the column for the target variable\n",
    "plt.figure(figsize=(18, 8))\n",
    "\n",
    "# Replace 'your_actual_column_name_for_features' with the actual column name\n",
    "# that contains the features in your DataFrame\n",
    "plt.bar(df['age_group'], df['deposit'])\n",
    "\n",
    "plt.xlabel('Age Group')\n",
    "plt.ylabel('Deposit')\n",
    "plt.title('Deposit Distribution by Age Group')\n",
    "\n",
    "plt.show()\n"
   ]
  },
  {
   "cell_type": "markdown",
   "metadata": {},
   "source": [
    "*Scatter Plot*"
   ]
  },
  {
   "cell_type": "code",
   "execution_count": 167,
   "metadata": {},
   "outputs": [
    {
     "data": {
      "image/png": "[encoded data removed]",
      "text/plain": [
       "<Figure size 3000x1000 with 1 Axes>"
      ]
     },
     "metadata": {},
     "output_type": "display_data"
    },
    {
     "data": {
      "text/plain": [
       "Text(0.5, 1.0, 'Features Histogram')"
      ]
     },
     "execution_count": 167,
     "metadata": {},
     "output_type": "execute_result"
    },
    {
     "data": {
      "image/png": "[encoded data removed]",
      "text/plain": [
       "<Figure size 640x480 with 1 Axes>"
      ]
     },
     "metadata": {},
     "output_type": "display_data"
    }
   ],
   "source": [
    "\n",
    "import matplotlib.pyplot as plt\n",
    "plt.figure(figsize=(30, 10))\n",
    "plt.scatter(df['age'], df['balance'])\n",
    "plt.xlabel('Age')\n",
    "plt.ylabel('Balance')\n",
    "plt.title('Scatter Plot of Age vs. Balance')\n",
    "plt.show()\n",
    "\n",
    "plt.title('Features Histogram', fontsize=8)\n"
   ]
  },
  {
   "cell_type": "markdown",
   "metadata": {},
   "source": [
    "*Line Chart*"
   ]
  },
  {
   "cell_type": "code",
   "execution_count": 169,
   "metadata": {},
   "outputs": [
    {
     "data": {
      "image/png": "[encoded data removed]",
      "text/plain": [
       "<Figure size 2000x1000 with 1 Axes>"
      ]
     },
     "metadata": {},
     "output_type": "display_data"
    }
   ],
   "source": [
    "import matplotlib.pyplot as plt\n",
    "\n",
    "plt.figure(figsize=(20, 10))\n",
    "plt.plot(df['age'], df['balance'])\n",
    "plt.xlabel('Age')\n",
    "plt.ylabel('Balance')\n",
    "plt.title('Line Plot of Age vs. Balance')\n",
    "plt.show()\n",
    "\n"
   ]
  },
  {
   "cell_type": "markdown",
   "metadata": {},
   "source": [
    "*Histogram*"
   ]
  },
  {
   "cell_type": "code",
   "execution_count": 171,
   "metadata": {},
   "outputs": [
    {
     "data": {
      "image/png": "[encoded data removed]",
      "text/plain": [
       "<Figure size 2000x1000 with 1 Axes>"
      ]
     },
     "metadata": {},
     "output_type": "display_data"
    }
   ],
   "source": [
    "import matplotlib.pyplot as plt\n",
    "\n",
    "plt.figure(figsize=(20, 10))\n",
    "plt.hist(df['age'], bins=30, color='skyblue', edgecolor='black')\n",
    "plt.xlabel('Age')\n",
    "plt.ylabel('Frequency')\n",
    "plt.title('Histogram of Age Distribution')\n",
    "plt.show()\n"
   ]
  },
  {
   "cell_type": "markdown",
   "metadata": {},
   "source": [
    "*Pie Chart*"
   ]
  },
  {
   "cell_type": "code",
   "execution_count": 172,
   "metadata": {},
   "outputs": [
    {
     "data": {
      "image/png": "[encoded data removed]",
      "text/plain": [
       "<Figure size 800x800 with 1 Axes>"
      ]
     },
     "metadata": {},
     "output_type": "display_data"
    }
   ],
   "source": [
    "import matplotlib.pyplot as plt\n",
    "\n",
    "# Count the occurrences of each job\n",
    "job_counts = df['job'].value_counts()\n",
    "\n",
    "# Plotting a pie chart\n",
    "plt.figure(figsize=(8, 8))\n",
    "plt.pie(job_counts, labels=job_counts.index, autopct='%1.1f%%', startangle=140, colors=plt.cm.Paired.colors)\n",
    "plt.title('Distribution of Jobs')\n",
    "plt.show()\n"
   ]
  },
  {
   "cell_type": "markdown",
   "metadata": {},
   "source": []
  },
  {
   "cell_type": "code",
   "execution_count": 175,
   "metadata": {},
   "outputs": [
    {
     "name": "stdout",
     "output_type": "stream",
     "text": [
      "Index(['age', 'job', 'balance', 'housing', 'loan', 'contact', 'month',\n",
      "       'campaign', 'pdays', 'poutcome', 'deposit', 'age_group'],\n",
      "      dtype='object')\n"
     ]
    }
   ],
   "source": [
    "print(df.columns)\n"
   ]
  },
  {
   "cell_type": "code",
   "execution_count": 176,
   "metadata": {},
   "outputs": [
    {
     "data": {
      "text/plain": [
       "['age',\n",
       " 'job',\n",
       " 'balance',\n",
       " 'housing',\n",
       " 'loan',\n",
       " 'contact',\n",
       " 'month',\n",
       " 'campaign',\n",
       " 'pdays',\n",
       " 'poutcome',\n",
       " 'deposit',\n",
       " 'age_group']"
      ]
     },
     "execution_count": 176,
     "metadata": {},
     "output_type": "execute_result"
    }
   ],
   "source": [
    "['age', 'job', 'balance', 'housing', 'loan', 'contact', 'month', 'campaign', 'pdays', 'poutcome', 'deposit', 'age_group']\n"
   ]
  },
  {
   "cell_type": "code",
   "execution_count": 177,
   "metadata": {},
   "outputs": [],
   "source": [
    "# Impute missing values for the 'balance' column\n",
    "df['balance'].fillna(df['balance'].mean(), inplace=True)\n"
   ]
  },
  {
   "cell_type": "markdown",
   "metadata": {},
   "source": [
    "Handling Categorical Data"
   ]
  },
  {
   "cell_type": "code",
   "execution_count": 178,
   "metadata": {},
   "outputs": [],
   "source": [
    "# One-hot encoding categorical columns\n",
    "df_encoded = pd.get_dummies(df, columns=['job', 'housing', 'loan', 'contact', 'month', 'poutcome'])\n"
   ]
  },
  {
   "cell_type": "markdown",
   "metadata": {},
   "source": [
    "Feature Scaling"
   ]
  },
  {
   "cell_type": "code",
   "execution_count": 179,
   "metadata": {},
   "outputs": [],
   "source": [
    "from sklearn.preprocessing import StandardScaler\n",
    "\n",
    "# Standardize numerical columns\n",
    "scaler = StandardScaler()\n",
    "df_encoded[['age', 'balance', 'campaign', 'pdays']] = scaler.fit_transform(df_encoded[['age', 'balance', 'campaign', 'pdays']])\n"
   ]
  },
  {
   "cell_type": "markdown",
   "metadata": {},
   "source": [
    "Creating Derived Features"
   ]
  },
  {
   "cell_type": "code",
   "execution_count": 180,
   "metadata": {},
   "outputs": [],
   "source": [
    "# Example: creating a new feature based on existing ones\n",
    "df_encoded['age_balance_ratio'] = df_encoded['age'] / df_encoded['balance']\n"
   ]
  },
  {
   "cell_type": "markdown",
   "metadata": {},
   "source": [
    "Handling Outliers:"
   ]
  },
  {
   "cell_type": "code",
   "execution_count": 184,
   "metadata": {},
   "outputs": [],
   "source": [
    "# Removing outliers from the 'balance' column\n",
    "lower_threshold = df_encoded['balance'].quantile(0.05)\n",
    "upper_threshold = df_encoded['balance'].quantile(0.95)\n",
    "\n",
    "df_encoded = df_encoded[(df_encoded['balance'] > lower_threshold) & (df_encoded['balance'] < upper_threshold)]\n"
   ]
  },
  {
   "cell_type": "markdown",
   "metadata": {},
   "source": [
    "Data Exploration and Visualization"
   ]
  },
  {
   "cell_type": "code",
   "execution_count": 182,
   "metadata": {},
   "outputs": [
    {
     "name": "stdout",
     "output_type": "stream",
     "text": [
      "                age       balance      campaign     pdays  job_admin.  \\\n",
      "count  5.000000e+00  5.000000e+00  5.000000e+00  5.000000    5.000000   \n",
      "mean   3.552714e-16 -6.661338e-17 -1.776357e-16  0.000000    0.400000   \n",
      "std    1.118034e+00  1.118034e+00  1.118034e+00  1.118034    0.547723   \n",
      "min   -1.015818e+00 -1.674507e+00 -1.028992e+00 -0.500000    0.000000   \n",
      "25%   -7.553518e-01 -2.144612e-01 -1.028992e+00 -0.500000    0.000000   \n",
      "50%   -6.251187e-01 -7.096286e-02 -1.714986e-01 -0.500000    0.000000   \n",
      "75%    9.376781e-01  6.450543e-01  6.859943e-01 -0.500000    1.000000   \n",
      "max    1.458610e+00  1.314877e+00  1.543487e+00  2.000000    1.000000   \n",
      "\n",
      "       job_housemaid  job_self-employed  job_services  housing_no  \\\n",
      "count       5.000000           5.000000      5.000000    5.000000   \n",
      "mean        0.200000           0.200000      0.200000    0.400000   \n",
      "std         0.447214           0.447214      0.447214    0.547723   \n",
      "min         0.000000           0.000000      0.000000    0.000000   \n",
      "25%         0.000000           0.000000      0.000000    0.000000   \n",
      "50%         0.000000           0.000000      0.000000    0.000000   \n",
      "75%         0.000000           0.000000      0.000000    1.000000   \n",
      "max         1.000000           1.000000      1.000000    1.000000   \n",
      "\n",
      "       housing_yes  ...  loan_yes  contact_cellular  contact_telephone  \\\n",
      "count     5.000000  ...  5.000000          5.000000           5.000000   \n",
      "mean      0.600000  ...  0.200000          0.800000           0.200000   \n",
      "std       0.547723  ...  0.447214          0.447214           0.447214   \n",
      "min       0.000000  ...  0.000000          0.000000           0.000000   \n",
      "25%       0.000000  ...  0.000000          1.000000           0.000000   \n",
      "50%       1.000000  ...  0.000000          1.000000           0.000000   \n",
      "75%       1.000000  ...  0.000000          1.000000           0.000000   \n",
      "max       1.000000  ...  1.000000          1.000000           1.000000   \n",
      "\n",
      "       month_apr  month_jun  month_may  month_nov  poutcome_other  \\\n",
      "count   5.000000   5.000000   5.000000   5.000000        5.000000   \n",
      "mean    0.200000   0.200000   0.400000   0.200000        0.200000   \n",
      "std     0.447214   0.447214   0.547723   0.447214        0.447214   \n",
      "min     0.000000   0.000000   0.000000   0.000000        0.000000   \n",
      "25%     0.000000   0.000000   0.000000   0.000000        0.000000   \n",
      "50%     0.000000   0.000000   0.000000   0.000000        0.000000   \n",
      "75%     0.000000   0.000000   1.000000   0.000000        0.000000   \n",
      "max     1.000000   1.000000   1.000000   1.000000        1.000000   \n",
      "\n",
      "       poutcome_unknown  age_balance_ratio  \n",
      "count          5.000000           5.000000  \n",
      "mean           0.800000           4.236908  \n",
      "std            0.447214           5.773262  \n",
      "min            0.000000           0.373315  \n",
      "25%            1.000000           0.713130  \n",
      "50%            1.000000           2.261221  \n",
      "75%            1.000000           3.522091  \n",
      "max            1.000000          14.314783  \n",
      "\n",
      "[8 rows x 21 columns]\n"
     ]
    }
   ],
   "source": [
    "# Summary statistics\n",
    "print(df_encoded.describe())\n",
    "\n",
    "# Correlation matrix\n",
    "correlation_matrix = df_encoded.corr()\n"
   ]
  },
  {
   "cell_type": "markdown",
   "metadata": {},
   "source": [
    "### Model Benchmarking : Test Data"
   ]
  },
  {
   "cell_type": "markdown",
   "metadata": {},
   "source": [
    "Prepare the Test Data\n",
    "Memastikan bahwa set data pengujian Anda memiliki langkah-langkah pra-pemrosesan yang sama seperti yang diterapkan pada set data pelatihan. Ini termasuk menangani nilai yang hilang, mengkodekan variabel kategori, menskalakan fitur numerik, dan transformasi lainnya"
   ]
  },
  {
   "cell_type": "markdown",
   "metadata": {},
   "source": [
    "Load the Test Data\n",
    "Anda harus memiliki CSV atau DataFrame terpisah yang berisi data pengujian Anda. Jika Anda tidak memiliki file terpisah, Anda dapat membagi data yang ada menjadi set pelatihan dan pengujian menggunakan perpustakaan seperti scikit-learn."
   ]
  },
  {
   "cell_type": "code",
   "execution_count": 186,
   "metadata": {},
   "outputs": [],
   "source": [
    "from sklearn.model_selection import train_test_split\n",
    "\n",
    "# Assuming your original DataFrame is 'df'\n",
    "train_data, test_data = train_test_split(df, test_size=0.2, random_state=42)\n"
   ]
  },
  {
   "cell_type": "markdown",
   "metadata": {},
   "source": [
    "Apply Preprocessing to Test Data\n",
    "Gunakan langkah prapemrosesan yang sama dengan yang Anda terapkan pada data pelatihan pada data pengujian."
   ]
  },
  {
   "cell_type": "code",
   "execution_count": 187,
   "metadata": {},
   "outputs": [],
   "source": [
    "# Assuming you have already defined 'scaler' and 'encoder' for preprocessing\n",
    "test_data_encoded = pd.get_dummies(test_data, columns=['job', 'housing', 'loan', 'contact', 'month', 'poutcome'])\n",
    "test_data_encoded[['age', 'balance', 'campaign', 'pdays']] = scaler.transform(test_data_encoded[['age', 'balance', 'campaign', 'pdays']])\n"
   ]
  },
  {
   "cell_type": "code",
   "execution_count": 189,
   "metadata": {},
   "outputs": [],
   "source": [
    "from sklearn.compose import ColumnTransformer\n",
    "from sklearn.preprocessing import OneHotEncoder\n",
    "\n",
    "# Assuming your DataFrame is df\n",
    "categorical_columns = ['job', 'housing', 'loan', 'contact', 'month', 'poutcome']\n",
    "column_transformer = ColumnTransformer(\n",
    "    transformers=[('encoder', OneHotEncoder(), categorical_columns)],\n",
    "    remainder='passthrough'\n",
    ")\n",
    "\n",
    "df_encoded = column_transformer.fit_transform(df)\n",
    "df_encoded_df = pd.DataFrame(df_encoded, columns=column_transformer.get_feature_names_out(df.columns))\n"
   ]
  },
  {
   "cell_type": "code",
   "execution_count": 191,
   "metadata": {},
   "outputs": [
    {
     "name": "stdout",
     "output_type": "stream",
     "text": [
      "Index(['encoder__job_admin.', 'encoder__job_housemaid',\n",
      "       'encoder__job_self-employed', 'encoder__job_services',\n",
      "       'encoder__housing_no', 'encoder__housing_yes', 'encoder__loan_no',\n",
      "       'encoder__loan_yes', 'encoder__contact_cellular',\n",
      "       'encoder__contact_telephone', 'encoder__month_apr',\n",
      "       'encoder__month_jun', 'encoder__month_may', 'encoder__month_nov',\n",
      "       'encoder__poutcome_other', 'encoder__poutcome_unknown',\n",
      "       'remainder__age', 'remainder__balance', 'remainder__campaign',\n",
      "       'remainder__pdays', 'remainder__deposit', 'remainder__age_group'],\n",
      "      dtype='object')\n"
     ]
    }
   ],
   "source": [
    "print(df_encoded_df.columns)\n"
   ]
  },
  {
   "cell_type": "code",
   "execution_count": 218,
   "metadata": {},
   "outputs": [],
   "source": [
    "def handle_age_range(age_range):\n",
    "    if '-' in age_range:\n",
    "        start, end = map(int, age_range.split('-'))\n",
    "        return (start + end) // 2\n",
    "    return int(age_range)\n"
   ]
  },
  {
   "cell_type": "code",
   "execution_count": 220,
   "metadata": {},
   "outputs": [
    {
     "data": {
      "text/plain": [
       "array([1, 0])"
      ]
     },
     "execution_count": 220,
     "metadata": {},
     "output_type": "execute_result"
    }
   ],
   "source": [
    "df_encoded_df['remainder__deposit'].unique()\n",
    "\n"
   ]
  },
  {
   "cell_type": "markdown",
   "metadata": {},
   "source": [
    "Evaluate the Model\n",
    "Sekarang, saya menggunakan model terlatih untuk membuat prediksi pada data pengujian dan mengevaluasi performanya"
   ]
  },
  {
   "cell_type": "code",
   "execution_count": 7,
   "metadata": {},
   "outputs": [],
   "source": [
    "from sklearn.preprocessing import OneHotEncoder\n"
   ]
  },
  {
   "cell_type": "code",
   "execution_count": 10,
   "metadata": {},
   "outputs": [
    {
     "name": "stdout",
     "output_type": "stream",
     "text": [
      "Accuracy: 0.0\n",
      "Classification Report:\n",
      "               precision    recall  f1-score   support\n",
      "\n",
      "           0       0.00      0.00      0.00       1.0\n",
      "           1       0.00      0.00      0.00       0.0\n",
      "\n",
      "    accuracy                           0.00       1.0\n",
      "   macro avg       0.00      0.00      0.00       1.0\n",
      "weighted avg       0.00      0.00      0.00       1.0\n",
      "\n"
     ]
    },
    {
     "name": "stderr",
     "output_type": "stream",
     "text": [
      "/Users/tambunanrmgtgmail.com/anaconda3/envs/myenv/lib/python3.10/site-packages/sklearn/metrics/_classification.py:1469: UndefinedMetricWarning: Precision and F-score are ill-defined and being set to 0.0 in labels with no predicted samples. Use `zero_division` parameter to control this behavior.\n",
      "  _warn_prf(average, modifier, msg_start, len(result))\n",
      "/Users/tambunanrmgtgmail.com/anaconda3/envs/myenv/lib/python3.10/site-packages/sklearn/metrics/_classification.py:1469: UndefinedMetricWarning: Recall and F-score are ill-defined and being set to 0.0 in labels with no true samples. Use `zero_division` parameter to control this behavior.\n",
      "  _warn_prf(average, modifier, msg_start, len(result))\n",
      "/Users/tambunanrmgtgmail.com/anaconda3/envs/myenv/lib/python3.10/site-packages/sklearn/metrics/_classification.py:1469: UndefinedMetricWarning: Precision and F-score are ill-defined and being set to 0.0 in labels with no predicted samples. Use `zero_division` parameter to control this behavior.\n",
      "  _warn_prf(average, modifier, msg_start, len(result))\n",
      "/Users/tambunanrmgtgmail.com/anaconda3/envs/myenv/lib/python3.10/site-packages/sklearn/metrics/_classification.py:1469: UndefinedMetricWarning: Recall and F-score are ill-defined and being set to 0.0 in labels with no true samples. Use `zero_division` parameter to control this behavior.\n",
      "  _warn_prf(average, modifier, msg_start, len(result))\n",
      "/Users/tambunanrmgtgmail.com/anaconda3/envs/myenv/lib/python3.10/site-packages/sklearn/metrics/_classification.py:1469: UndefinedMetricWarning: Precision and F-score are ill-defined and being set to 0.0 in labels with no predicted samples. Use `zero_division` parameter to control this behavior.\n",
      "  _warn_prf(average, modifier, msg_start, len(result))\n",
      "/Users/tambunanrmgtgmail.com/anaconda3/envs/myenv/lib/python3.10/site-packages/sklearn/metrics/_classification.py:1469: UndefinedMetricWarning: Recall and F-score are ill-defined and being set to 0.0 in labels with no true samples. Use `zero_division` parameter to control this behavior.\n",
      "  _warn_prf(average, modifier, msg_start, len(result))\n"
     ]
    }
   ],
   "source": [
    "import pandas as pd\n",
    "from sklearn.ensemble import RandomForestClassifier\n",
    "from sklearn.model_selection import train_test_split\n",
    "from sklearn.metrics import accuracy_score, classification_report\n",
    "from sklearn.preprocessing import OneHotEncoder\n",
    "\n",
    "# Generate synthetic data\n",
    "data = {\n",
    "    'job': ['admin.', 'blue-collar', 'admin.', 'blue-collar', 'admin.'],\n",
    "    'housing': ['yes', 'no', 'yes', 'yes', 'no'],\n",
    "    'loan': ['no', 'yes', 'no', 'no', 'yes'],\n",
    "    'age': [25, 30, 35, 40, 45],\n",
    "    'deposit': [1, 0, 1, 0, 1]  # Target variable (1 for yes, 0 for no)\n",
    "}\n",
    "\n",
    "df = pd.DataFrame(data)\n",
    "\n",
    "# Assuming 'deposit' is your target variable\n",
    "X = df.drop('deposit', axis=1)\n",
    "y = df['deposit']\n",
    "\n",
    "# One-hot encode categorical features\n",
    "encoder = OneHotEncoder()\n",
    "X_encoded = encoder.fit_transform(X)\n",
    "\n",
    "# Split the data into training and testing sets\n",
    "X_train, X_test, y_train, y_test = train_test_split(X_encoded, y, test_size=0.2, random_state=42)\n",
    "\n",
    "# Train a RandomForestClassifier\n",
    "model = RandomForestClassifier()\n",
    "model.fit(X_train, y_train)\n",
    "\n",
    "# Make predictions on the test set\n",
    "y_pred = model.predict(X_test)\n",
    "\n",
    "# Evaluate the model\n",
    "accuracy = accuracy_score(y_test, y_pred)\n",
    "report = classification_report(y_test, y_pred)\n",
    "\n",
    "print(f\"Accuracy: {accuracy}\")\n",
    "print(\"Classification Report:\\n\", report)\n"
   ]
  },
  {
   "cell_type": "code",
   "execution_count": 12,
   "metadata": {},
   "outputs": [],
   "source": [
    "# Assuming df is your DataFrame with features and target\n",
    "X = df.drop('deposit', axis=1)\n",
    "y = df['deposit']\n",
    "# Now you can proceed with the train-test split as shown in the previous example.\n"
   ]
  },
  {
   "cell_type": "code",
   "execution_count": 13,
   "metadata": {},
   "outputs": [
    {
     "name": "stderr",
     "output_type": "stream",
     "text": [
      "/Users/tambunanrmgtgmail.com/anaconda3/envs/myenv/lib/python3.10/site-packages/sklearn/model_selection/_split.py:725: UserWarning: The least populated class in y has only 1 members, which is less than n_splits=3.\n",
      "  warnings.warn(\n"
     ]
    }
   ],
   "source": [
    "from sklearn.model_selection import GridSearchCV\n",
    "from sklearn.ensemble import RandomForestClassifier\n",
    "\n",
    "# Define the parameter grid\n",
    "param_grid = {\n",
    "    'n_estimators': [50, 100, 200],\n",
    "    'max_depth': [None, 10, 20],\n",
    "    'min_samples_split': [2, 5, 10],\n",
    "    'min_samples_leaf': [1, 2, 4]\n",
    "}\n",
    "\n",
    "# Create the model\n",
    "rf_model = RandomForestClassifier()\n",
    "\n",
    "# Set up GridSearchCV with a smaller number of folds\n",
    "grid_search = GridSearchCV(estimator=rf_model, param_grid=param_grid, cv=3, scoring='accuracy')\n",
    "\n",
    "# Fit the model to the training data\n",
    "grid_search.fit(X_train, y_train)\n",
    "\n",
    "# Get the best hyperparameters\n",
    "best_params = grid_search.best_params_\n"
   ]
  },
  {
   "cell_type": "markdown",
   "metadata": {},
   "source": [
    "Assuming df_encoded_df is your training data after encodinga"
   ]
  },
  {
   "cell_type": "markdown",
   "metadata": {},
   "source": [
    "Assuming test_data_encoded is your test data after encoding"
   ]
  },
  {
   "cell_type": "code",
   "execution_count": 16,
   "metadata": {},
   "outputs": [
    {
     "data": {
      "text/plain": [
       "Index(['job', 'housing', 'loan', 'age', 'deposit'], dtype='object')"
      ]
     },
     "execution_count": 16,
     "metadata": {},
     "output_type": "execute_result"
    }
   ],
   "source": [
    "df.columns"
   ]
  },
  {
   "cell_type": "code",
   "execution_count": 19,
   "metadata": {},
   "outputs": [],
   "source": [
    "from sklearn.preprocessing import StandardScaler, OneHotEncoder\n",
    "from sklearn.compose import ColumnTransformer\n",
    "from sklearn.pipeline import Pipeline\n",
    "from sklearn.impute import SimpleImputer\n",
    "from scipy.sparse import issparse\n",
    "import pandas as pd\n",
    "from sklearn.model_selection import train_test_split\n",
    "\n",
    "# Assuming df is your DataFrame and 'actual_target_column' is the name of your target variable column\n",
    "# Assuming df is your DataFrame and 'deposit' is the name of your target variable column\n",
    "X = df.drop('deposit', axis=1)\n",
    "y = df['deposit']\n",
    "\n",
    "\n",
    "# Split the data into training and testing sets\n",
    "X_train, X_test, y_train, y_test = train_test_split(X, y, test_size=0.2, random_state=42)\n",
    "\n",
    "# Assuming X_train is your training data\n",
    "num_columns = X_train.select_dtypes(include=['float64', 'int64']).columns\n",
    "\n",
    "# Rest of the code remains the same...\n"
   ]
  },
  {
   "cell_type": "markdown",
   "metadata": {},
   "source": [
    "Predict using the trained model"
   ]
  },
  {
   "cell_type": "code",
   "execution_count": 36,
   "metadata": {},
   "outputs": [],
   "source": [
    "from sklearn.preprocessing import StandardScaler\n",
    "\n",
    "# Assuming you have a scaler defined\n",
    "scaler = StandardScaler()\n",
    "\n",
    "# Create transformers\n",
    "numeric_transformer = Pipeline(steps=[('numeric', scaler)])  # Assuming you have a scaler defined\n",
    "categorical_transformer = Pipeline(steps=[('onehot', OneHotEncoder())])\n",
    "\n",
    "# Create a column transformer\n",
    "preprocessor = ColumnTransformer(\n",
    "    transformers=[\n",
    "        ('num', numeric_transformer, numeric_columns),\n",
    "        ('cat', categorical_transformer, categorical_columns)\n",
    "    ])\n"
   ]
  },
  {
   "cell_type": "code",
   "execution_count": 39,
   "metadata": {},
   "outputs": [
    {
     "data": {
      "text/html": [
       "<style>#sk-container-id-1 {color: black;}#sk-container-id-1 pre{padding: 0;}#sk-container-id-1 div.sk-toggleable {background-color: white;}#sk-container-id-1 label.sk-toggleable__label {cursor: pointer;display: block;width: 100%;margin-bottom: 0;padding: 0.3em;box-sizing: border-box;text-align: center;}#sk-container-id-1 label.sk-toggleable__label-arrow:before {content: \"▸\";float: left;margin-right: 0.25em;color: #696969;}#sk-container-id-1 label.sk-toggleable__label-arrow:hover:before {color: black;}#sk-container-id-1 div.sk-estimator:hover label.sk-toggleable__label-arrow:before {color: black;}#sk-container-id-1 div.sk-toggleable__content {max-height: 0;max-width: 0;overflow: hidden;text-align: left;background-color: #f0f8ff;}#sk-container-id-1 div.sk-toggleable__content pre {margin: 0.2em;color: black;border-radius: 0.25em;background-color: #f0f8ff;}#sk-container-id-1 input.sk-toggleable__control:checked~div.sk-toggleable__content {max-height: 200px;max-width: 100%;overflow: auto;}#sk-container-id-1 input.sk-toggleable__control:checked~label.sk-toggleable__label-arrow:before {content: \"▾\";}#sk-container-id-1 div.sk-estimator input.sk-toggleable__control:checked~label.sk-toggleable__label {background-color: #d4ebff;}#sk-container-id-1 div.sk-label input.sk-toggleable__control:checked~label.sk-toggleable__label {background-color: #d4ebff;}#sk-container-id-1 input.sk-hidden--visually {border: 0;clip: rect(1px 1px 1px 1px);clip: rect(1px, 1px, 1px, 1px);height: 1px;margin: -1px;overflow: hidden;padding: 0;position: absolute;width: 1px;}#sk-container-id-1 div.sk-estimator {font-family: monospace;background-color: #f0f8ff;border: 1px dotted black;border-radius: 0.25em;box-sizing: border-box;margin-bottom: 0.5em;}#sk-container-id-1 div.sk-estimator:hover {background-color: #d4ebff;}#sk-container-id-1 div.sk-parallel-item::after {content: \"\";width: 100%;border-bottom: 1px solid gray;flex-grow: 1;}#sk-container-id-1 div.sk-label:hover label.sk-toggleable__label {background-color: #d4ebff;}#sk-container-id-1 div.sk-serial::before {content: \"\";position: absolute;border-left: 1px solid gray;box-sizing: border-box;top: 0;bottom: 0;left: 50%;z-index: 0;}#sk-container-id-1 div.sk-serial {display: flex;flex-direction: column;align-items: center;background-color: white;padding-right: 0.2em;padding-left: 0.2em;position: relative;}#sk-container-id-1 div.sk-item {position: relative;z-index: 1;}#sk-container-id-1 div.sk-parallel {display: flex;align-items: stretch;justify-content: center;background-color: white;position: relative;}#sk-container-id-1 div.sk-item::before, #sk-container-id-1 div.sk-parallel-item::before {content: \"\";position: absolute;border-left: 1px solid gray;box-sizing: border-box;top: 0;bottom: 0;left: 50%;z-index: -1;}#sk-container-id-1 div.sk-parallel-item {display: flex;flex-direction: column;z-index: 1;position: relative;background-color: white;}#sk-container-id-1 div.sk-parallel-item:first-child::after {align-self: flex-end;width: 50%;}#sk-container-id-1 div.sk-parallel-item:last-child::after {align-self: flex-start;width: 50%;}#sk-container-id-1 div.sk-parallel-item:only-child::after {width: 0;}#sk-container-id-1 div.sk-dashed-wrapped {border: 1px dashed gray;margin: 0 0.4em 0.5em 0.4em;box-sizing: border-box;padding-bottom: 0.4em;background-color: white;}#sk-container-id-1 div.sk-label label {font-family: monospace;font-weight: bold;display: inline-block;line-height: 1.2em;}#sk-container-id-1 div.sk-label-container {text-align: center;}#sk-container-id-1 div.sk-container {/* jupyter's `normalize.less` sets `[hidden] { display: none; }` but bootstrap.min.css set `[hidden] { display: none !important; }` so we also need the `!important` here to be able to override the default hidden behavior on the sphinx rendered scikit-learn.org. See: https://github.com/scikit-learn/scikit-learn/issues/21755 */display: inline-block !important;position: relative;}#sk-container-id-1 div.sk-text-repr-fallback {display: none;}</style><div id=\"sk-container-id-1\" class=\"sk-top-container\"><div class=\"sk-text-repr-fallback\"><pre>Pipeline(steps=[(&#x27;preprocessor&#x27;,\n",
       "                 ColumnTransformer(transformers=[(&#x27;num&#x27;,\n",
       "                                                  Pipeline(steps=[(&#x27;imputer&#x27;,\n",
       "                                                                   SimpleImputer()),\n",
       "                                                                  (&#x27;scaler&#x27;,\n",
       "                                                                   StandardScaler())]),\n",
       "                                                  [&#x27;age&#x27;, &#x27;balance&#x27;, &#x27;campaign&#x27;,\n",
       "                                                   &#x27;pdays&#x27;]),\n",
       "                                                 (&#x27;cat&#x27;,\n",
       "                                                  Pipeline(steps=[(&#x27;onehot&#x27;,\n",
       "                                                                   OneHotEncoder())]),\n",
       "                                                  [&#x27;job&#x27;, &#x27;housing&#x27;, &#x27;loan&#x27;,\n",
       "                                                   &#x27;contact&#x27;, &#x27;month&#x27;,\n",
       "                                                   &#x27;poutcome&#x27;])])),\n",
       "                (&#x27;classifier&#x27;, RandomForestClassifier())])</pre><b>In a Jupyter environment, please rerun this cell to show the HTML representation or trust the notebook. <br />On GitHub, the HTML representation is unable to render, please try loading this page with nbviewer.org.</b></div><div class=\"sk-container\" hidden><div class=\"sk-item sk-dashed-wrapped\"><div class=\"sk-label-container\"><div class=\"sk-label sk-toggleable\"><input class=\"sk-toggleable__control sk-hidden--visually\" id=\"sk-estimator-id-1\" type=\"checkbox\" ><label for=\"sk-estimator-id-1\" class=\"sk-toggleable__label sk-toggleable__label-arrow\">Pipeline</label><div class=\"sk-toggleable__content\"><pre>Pipeline(steps=[(&#x27;preprocessor&#x27;,\n",
       "                 ColumnTransformer(transformers=[(&#x27;num&#x27;,\n",
       "                                                  Pipeline(steps=[(&#x27;imputer&#x27;,\n",
       "                                                                   SimpleImputer()),\n",
       "                                                                  (&#x27;scaler&#x27;,\n",
       "                                                                   StandardScaler())]),\n",
       "                                                  [&#x27;age&#x27;, &#x27;balance&#x27;, &#x27;campaign&#x27;,\n",
       "                                                   &#x27;pdays&#x27;]),\n",
       "                                                 (&#x27;cat&#x27;,\n",
       "                                                  Pipeline(steps=[(&#x27;onehot&#x27;,\n",
       "                                                                   OneHotEncoder())]),\n",
       "                                                  [&#x27;job&#x27;, &#x27;housing&#x27;, &#x27;loan&#x27;,\n",
       "                                                   &#x27;contact&#x27;, &#x27;month&#x27;,\n",
       "                                                   &#x27;poutcome&#x27;])])),\n",
       "                (&#x27;classifier&#x27;, RandomForestClassifier())])</pre></div></div></div><div class=\"sk-serial\"><div class=\"sk-item sk-dashed-wrapped\"><div class=\"sk-label-container\"><div class=\"sk-label sk-toggleable\"><input class=\"sk-toggleable__control sk-hidden--visually\" id=\"sk-estimator-id-2\" type=\"checkbox\" ><label for=\"sk-estimator-id-2\" class=\"sk-toggleable__label sk-toggleable__label-arrow\">preprocessor: ColumnTransformer</label><div class=\"sk-toggleable__content\"><pre>ColumnTransformer(transformers=[(&#x27;num&#x27;,\n",
       "                                 Pipeline(steps=[(&#x27;imputer&#x27;, SimpleImputer()),\n",
       "                                                 (&#x27;scaler&#x27;, StandardScaler())]),\n",
       "                                 [&#x27;age&#x27;, &#x27;balance&#x27;, &#x27;campaign&#x27;, &#x27;pdays&#x27;]),\n",
       "                                (&#x27;cat&#x27;,\n",
       "                                 Pipeline(steps=[(&#x27;onehot&#x27;, OneHotEncoder())]),\n",
       "                                 [&#x27;job&#x27;, &#x27;housing&#x27;, &#x27;loan&#x27;, &#x27;contact&#x27;, &#x27;month&#x27;,\n",
       "                                  &#x27;poutcome&#x27;])])</pre></div></div></div><div class=\"sk-parallel\"><div class=\"sk-parallel-item\"><div class=\"sk-item\"><div class=\"sk-label-container\"><div class=\"sk-label sk-toggleable\"><input class=\"sk-toggleable__control sk-hidden--visually\" id=\"sk-estimator-id-3\" type=\"checkbox\" ><label for=\"sk-estimator-id-3\" class=\"sk-toggleable__label sk-toggleable__label-arrow\">num</label><div class=\"sk-toggleable__content\"><pre>[&#x27;age&#x27;, &#x27;balance&#x27;, &#x27;campaign&#x27;, &#x27;pdays&#x27;]</pre></div></div></div><div class=\"sk-serial\"><div class=\"sk-item\"><div class=\"sk-serial\"><div class=\"sk-item\"><div class=\"sk-estimator sk-toggleable\"><input class=\"sk-toggleable__control sk-hidden--visually\" id=\"sk-estimator-id-4\" type=\"checkbox\" ><label for=\"sk-estimator-id-4\" class=\"sk-toggleable__label sk-toggleable__label-arrow\">SimpleImputer</label><div class=\"sk-toggleable__content\"><pre>SimpleImputer()</pre></div></div></div><div class=\"sk-item\"><div class=\"sk-estimator sk-toggleable\"><input class=\"sk-toggleable__control sk-hidden--visually\" id=\"sk-estimator-id-5\" type=\"checkbox\" ><label for=\"sk-estimator-id-5\" class=\"sk-toggleable__label sk-toggleable__label-arrow\">StandardScaler</label><div class=\"sk-toggleable__content\"><pre>StandardScaler()</pre></div></div></div></div></div></div></div></div><div class=\"sk-parallel-item\"><div class=\"sk-item\"><div class=\"sk-label-container\"><div class=\"sk-label sk-toggleable\"><input class=\"sk-toggleable__control sk-hidden--visually\" id=\"sk-estimator-id-6\" type=\"checkbox\" ><label for=\"sk-estimator-id-6\" class=\"sk-toggleable__label sk-toggleable__label-arrow\">cat</label><div class=\"sk-toggleable__content\"><pre>[&#x27;job&#x27;, &#x27;housing&#x27;, &#x27;loan&#x27;, &#x27;contact&#x27;, &#x27;month&#x27;, &#x27;poutcome&#x27;]</pre></div></div></div><div class=\"sk-serial\"><div class=\"sk-item\"><div class=\"sk-serial\"><div class=\"sk-item\"><div class=\"sk-estimator sk-toggleable\"><input class=\"sk-toggleable__control sk-hidden--visually\" id=\"sk-estimator-id-7\" type=\"checkbox\" ><label for=\"sk-estimator-id-7\" class=\"sk-toggleable__label sk-toggleable__label-arrow\">OneHotEncoder</label><div class=\"sk-toggleable__content\"><pre>OneHotEncoder()</pre></div></div></div></div></div></div></div></div></div></div><div class=\"sk-item\"><div class=\"sk-estimator sk-toggleable\"><input class=\"sk-toggleable__control sk-hidden--visually\" id=\"sk-estimator-id-8\" type=\"checkbox\" ><label for=\"sk-estimator-id-8\" class=\"sk-toggleable__label sk-toggleable__label-arrow\">RandomForestClassifier</label><div class=\"sk-toggleable__content\"><pre>RandomForestClassifier()</pre></div></div></div></div></div></div></div>"
      ],
      "text/plain": [
       "Pipeline(steps=[('preprocessor',\n",
       "                 ColumnTransformer(transformers=[('num',\n",
       "                                                  Pipeline(steps=[('imputer',\n",
       "                                                                   SimpleImputer()),\n",
       "                                                                  ('scaler',\n",
       "                                                                   StandardScaler())]),\n",
       "                                                  ['age', 'balance', 'campaign',\n",
       "                                                   'pdays']),\n",
       "                                                 ('cat',\n",
       "                                                  Pipeline(steps=[('onehot',\n",
       "                                                                   OneHotEncoder())]),\n",
       "                                                  ['job', 'housing', 'loan',\n",
       "                                                   'contact', 'month',\n",
       "                                                   'poutcome'])])),\n",
       "                ('classifier', RandomForestClassifier())])"
      ]
     },
     "execution_count": 39,
     "metadata": {},
     "output_type": "execute_result"
    }
   ],
   "source": [
    "from sklearn.impute import SimpleImputer\n",
    "\n",
    "# Assuming you have your data loaded into 'data_bank_marketing_campaign'\n",
    "# Replace this with your actual dataset or variable name\n",
    "X = data_bank_marketing_campaign.drop('deposit', axis=1)\n",
    "y = data_bank_marketing_campaign['deposit']\n",
    "\n",
    "# Assuming you have defined your numeric and categorical columns\n",
    "numeric_columns = ['age', 'balance', 'campaign', 'pdays']\n",
    "categorical_columns = ['job', 'housing', 'loan', 'contact', 'month', 'poutcome']\n",
    "\n",
    "# Assuming you have defined your transformers\n",
    "numeric_transformer = Pipeline(steps=[\n",
    "    ('imputer', SimpleImputer(strategy='mean')),  # Use 'mean' or 'median' based on your preference\n",
    "    ('scaler', StandardScaler())\n",
    "])\n",
    "categorical_transformer = Pipeline(steps=[('onehot', OneHotEncoder())])\n",
    "\n",
    "# Create a column transformer\n",
    "preprocessor = ColumnTransformer(\n",
    "    transformers=[\n",
    "        ('num', numeric_transformer, numeric_columns),\n",
    "        ('cat', categorical_transformer, categorical_columns)\n",
    "    ])\n",
    "\n",
    "# Split the data into training and testing sets\n",
    "X_train, X_test, y_train, y_test = train_test_split(X, y, test_size=0.2, random_state=42)\n",
    "\n",
    "# Create and train the model\n",
    "model = Pipeline(steps=[('preprocessor', preprocessor),\n",
    "                         ('classifier', RandomForestClassifier())])\n",
    "\n",
    "model.fit(X_train, y_train)\n"
   ]
  },
  {
   "cell_type": "code",
   "execution_count": 40,
   "metadata": {},
   "outputs": [],
   "source": [
    "# Drop rows with missing values\n",
    "data_bank_marketing_campaign = data_bank_marketing_campaign.dropna()\n",
    "\n",
    "# Continue with your existing code\n"
   ]
  },
  {
   "cell_type": "code",
   "execution_count": 44,
   "metadata": {},
   "outputs": [],
   "source": [
    "# Assuming you have your data loaded into 'data_bank_marketing_campaign'\n",
    "# Replace this with your actual dataset or variable name\n",
    "X = data_bank_marketing_campaign.drop('deposit', axis=1)\n",
    "y = data_bank_marketing_campaign['deposit']\n"
   ]
  },
  {
   "cell_type": "code",
   "execution_count": 45,
   "metadata": {},
   "outputs": [
    {
     "name": "stdout",
     "output_type": "stream",
     "text": [
      "    age      job  balance housing loan contact month  campaign  pdays poutcome\n",
      "2  35.0  teacher  12000.0     yes  yes   phone   mar         3   30.0  success\n",
      "2    yes\n",
      "Name: deposit, dtype: object\n"
     ]
    }
   ],
   "source": [
    "print(X.head())  # Check the first few rows of features\n",
    "print(y.head())  # Check the first few rows of the target variable\n"
   ]
  },
  {
   "cell_type": "code",
   "execution_count": 56,
   "metadata": {},
   "outputs": [
    {
     "name": "stdout",
     "output_type": "stream",
     "text": [
      "Test Score: 1.0\n"
     ]
    }
   ],
   "source": [
    "from sklearn.ensemble import RandomForestClassifier\n",
    "from sklearn.pipeline import Pipeline\n",
    "\n",
    "# Assuming you have a preprocessor and a classifier defined\n",
    "model = Pipeline(steps=[('preprocessor', preprocessor), ('classifier', RandomForestClassifier())])\n",
    "\n",
    "# Assuming X and y are your features and target variable\n",
    "model.fit(X, y)\n",
    "\n",
    "# Evaluate on the same data\n",
    "test_score = model.score(X, y)\n",
    "print(\"Test Score:\", test_score)\n"
   ]
  },
  {
   "cell_type": "markdown",
   "metadata": {},
   "source": [
    "Skor pengujian 1,0 (atau 100%) berarti model ini memprediksi dengan sempurna variabel target pada data tempat model dilatih. Meskipun hal ini mungkin tampak bagus pada pandangan pertama, penting untuk diingat bahwa mengevaluasi data yang sama yang digunakan untuk pelatihan tidak memberikan perkiraan realistis tentang seberapa baik kinerja model ini pada data baru yang belum terlihat.\n",
    "\n",
    "Dalam pembelajaran mesin, tujuan utamanya adalah membangun model yang dapat digeneralisasikan dengan baik pada data baru yang belum terlihat. Untuk menilai performa model ini yang sebenarnya, sebaiknya gunakan kumpulan data terpisah untuk pengujian yang belum pernah dilihat model tersebut sebelumnya. Hal ini biasanya dilakukan dengan menggunakan teknik seperti pemisahan uji kereta atau validasi silang.\n",
    "\n",
    "Jika sulit mendapatkan data baru, kita masih dapat menggunakan teknik validasi silang dengan data yang sudah ada, namun perlu diingat bahwa hasilnya mungkin optimis karena kumpulan data yang kecil. Selain itu, pertimbangkan strategi seperti augmentasi data atau memperoleh sampel yang lebih beragam untuk meningkatkan kemampuan generalisasi model ini."
   ]
  },
  {
   "cell_type": "code",
   "execution_count": 72,
   "metadata": {},
   "outputs": [],
   "source": [
    "numerical_features = ['StandardScaler']  # Replace 'age' with the actual numerical feature column name(s)\n",
    "categorical_features = ['balance']  # Replace 'balance' with the actual categorical feature column name(s)\n"
   ]
  },
  {
   "cell_type": "code",
   "execution_count": 75,
   "metadata": {},
   "outputs": [],
   "source": [
    "from sklearn.compose import ColumnTransformer\n",
    "from sklearn.preprocessing import StandardScaler, OneHotEncoder\n",
    "\n",
    "# Assuming X_train_val is your training data\n",
    "# You may need to customize this based on your actual data\n",
    "# For example, if you have categorical features, use OneHotEncoder on those features\n",
    "\n",
    "# Identify numerical and categorical columns\n",
    "numerical_features = ['age']  # List of numerical feature column names\n",
    "categorical_features = ['contact']  # List of categorical feature column names\n",
    "\n",
    "# Create a column transformer with preprocessing steps for numerical and categorical features\n",
    "transformer = ColumnTransformer(\n",
    "    transformers=[\n",
    "        ('num', StandardScaler(), numerical_features),  # Standardize numerical features\n",
    "        ('cat', OneHotEncoder(), categorical_features)   # One-hot encode categorical features\n",
    "    ],\n",
    "    remainder='passthrough'  # Pass through any other columns as they are\n",
    ")\n"
   ]
  },
  {
   "cell_type": "code",
   "execution_count": 79,
   "metadata": {},
   "outputs": [],
   "source": [
    "# Assuming you already have a ColumnTransformer named 'transformer'\n",
    "transformer.fit(X_train)\n",
    "\n",
    "# Now, you can transform both the training and test datasets\n",
    "X_train_transformed = transformer.transform(X_train)\n",
    "X_test_transformed = transformer.transform(X_test)\n"
   ]
  },
  {
   "cell_type": "code",
   "execution_count": 94,
   "metadata": {},
   "outputs": [],
   "source": [
    "X_train_transformed = X_train_transformed[:len(y_train)]"
   ]
  },
  {
   "cell_type": "code",
   "execution_count": 96,
   "metadata": {},
   "outputs": [],
   "source": [
    "grid_search = GridSearchCV(pipeline, param_grid, cv=2, scoring='accuracy')\n"
   ]
  },
  {
   "cell_type": "code",
   "execution_count": 97,
   "metadata": {},
   "outputs": [],
   "source": [
    "from sklearn.model_selection import StratifiedKFold\n",
    "\n",
    "grid_search = GridSearchCV(pipeline, param_grid, cv=StratifiedKFold(n_splits=3), scoring='accuracy')\n"
   ]
  },
  {
   "cell_type": "code",
   "execution_count": 102,
   "metadata": {},
   "outputs": [],
   "source": [
    "# Create a GridSearchCV object with non-stratified cross-validation\n",
    "grid_search = GridSearchCV(pipeline, param_grid, scoring='accuracy')\n"
   ]
  },
  {
   "cell_type": "code",
   "execution_count": 105,
   "metadata": {},
   "outputs": [
    {
     "name": "stdout",
     "output_type": "stream",
     "text": [
      "Class Distribution:\n",
      "yes    2\n",
      "no     1\n",
      "Name: deposit, dtype: int64\n"
     ]
    }
   ],
   "source": [
    "import pandas as pd\n",
    "\n",
    "# Assuming your dataset is a Pandas DataFrame with a 'target' column representing class labels\n",
    "class_distribution = pd.value_counts(y_train)  # y_train is your target variable\n",
    "\n",
    "print(\"Class Distribution:\")\n",
    "print(class_distribution)\n"
   ]
  },
  {
   "cell_type": "code",
   "execution_count": 108,
   "metadata": {},
   "outputs": [],
   "source": [
    "from sklearn.model_selection import KFold\n",
    "\n",
    "# Example with 5 splits, shuffling, and a random seed of 42\n",
    "kf = KFold(n_splits=5, shuffle=True, random_state=42)\n"
   ]
  },
  {
   "cell_type": "code",
   "execution_count": 109,
   "metadata": {},
   "outputs": [],
   "source": [
    "from sklearn.model_selection import KFold\n",
    "\n",
    "# Assuming X_train_transformed is your feature matrix and y_train is your target variable\n",
    "kf = KFold(n_splits=3, shuffle=True, random_state=42)\n",
    "\n",
    "for train_index, test_index in kf.split(X_train_transformed, y_train):\n",
    "    X_train_fold, X_test_fold = X_train_transformed[train_index], X_train_transformed[test_index]\n",
    "    y_train_fold, y_test_fold = y_train.iloc[train_index], y_train.iloc[test_index]\n",
    "\n",
    "    # Your training and testing logic here\n",
    "    # For example, you can train your model on X_train_fold and y_train_fold\n",
    "    # Then, test your model on X_test_fold and evaluate its performance\n"
   ]
  },
  {
   "cell_type": "code",
   "execution_count": 113,
   "metadata": {},
   "outputs": [
    {
     "name": "stdout",
     "output_type": "stream",
     "text": [
      "Number of samples in the dataset: 1\n"
     ]
    }
   ],
   "source": [
    "print(\"Number of samples in the dataset:\", len(X))\n"
   ]
  },
  {
   "cell_type": "code",
   "execution_count": 114,
   "metadata": {},
   "outputs": [
    {
     "name": "stdout",
     "output_type": "stream",
     "text": [
      "Class Distribution:\n",
      " yes    1\n",
      "Name: deposit, dtype: int64\n"
     ]
    }
   ],
   "source": [
    "print(\"Class Distribution:\\n\", y.value_counts())\n"
   ]
  },
  {
   "cell_type": "code",
   "execution_count": 120,
   "metadata": {},
   "outputs": [],
   "source": [
    "import pandas as pd\n",
    "\n",
    "# Replace 'cleaned_dataset.csv' with the actual path to your data file\n",
    "df = pd.read_csv('cleaned_dataset.csv')\n"
   ]
  },
  {
   "cell_type": "code",
   "execution_count": 121,
   "metadata": {},
   "outputs": [
    {
     "name": "stdout",
     "output_type": "stream",
     "text": [
      "Class Distribution:\n",
      "yes    3\n",
      "no     2\n",
      "Name: deposit, dtype: int64\n",
      "\n",
      "Number of samples in the dataset: 5\n"
     ]
    }
   ],
   "source": [
    "print(\"Class Distribution:\")\n",
    "print(df['deposit'].value_counts())\n",
    "\n",
    "print(\"\\nNumber of samples in the dataset:\", len(df))\n"
   ]
  },
  {
   "cell_type": "code",
   "execution_count": 122,
   "metadata": {},
   "outputs": [],
   "source": [
    "from sklearn.model_selection import StratifiedKFold\n",
    "\n",
    "# Assuming 'X' is your feature matrix and 'y' is your target variable\n",
    "X = df.drop('deposit', axis=1)  # Adjust this if needed\n",
    "y = df['deposit']\n",
    "\n",
    "skf = StratifiedKFold(n_splits=2, shuffle=True, random_state=42)\n",
    "\n",
    "for train_index, test_index in skf.split(X, y):\n",
    "    X_train, X_test = X.iloc[train_index], X.iloc[test_index]\n",
    "    y_train, y_test = y.iloc[train_index], y.iloc[test_index]\n",
    "\n",
    "    # Your model training and evaluation logic here\n",
    "    # For example:\n",
    "    # model.fit(X_train, y_train)\n",
    "    # accuracy = model.score(X_test, y_test)\n",
    "    # print(f'Accuracy: {accuracy}')\n"
   ]
  },
  {
   "cell_type": "code",
   "execution_count": 123,
   "metadata": {},
   "outputs": [],
   "source": [
    "from sklearn.model_selection import StratifiedKFold\n",
    "\n",
    "# Assuming 'X' is your feature matrix and 'y' is your target variable\n",
    "X = df.drop('deposit', axis=1)  # Adjust this if needed\n",
    "y = df['deposit']\n",
    "\n",
    "skf = StratifiedKFold(n_splits=2, shuffle=True, random_state=42)\n",
    "\n",
    "for train_index, test_index in skf.split(X, y):\n",
    "    X_train, X_test = X.iloc[train_index], X.iloc[test_index]\n",
    "    y_train, y_test = y.iloc[train_index], y.iloc[test_index]\n",
    "\n",
    "    # Your model training and evaluation logic here\n",
    "    # For example:\n",
    "    # model.fit(X_train, y_train)\n",
    "    # accuracy = model.score(X_test, y_test)\n",
    "    # print(f'Accuracy: {accuracy}')\n"
   ]
  },
  {
   "cell_type": "code",
   "execution_count": 126,
   "metadata": {},
   "outputs": [
    {
     "name": "stderr",
     "output_type": "stream",
     "text": [
      "/Users/tambunanrmgtgmail.com/anaconda3/envs/myenv/lib/python3.10/site-packages/sklearn/impute/_base.py:555: UserWarning: Skipping features without any observed values: ['balance']. At least one non-missing value is needed for imputation with strategy='mean'.\n",
      "  warnings.warn(\n"
     ]
    }
   ],
   "source": [
    "from sklearn.impute import SimpleImputer\n",
    "\n",
    "# Instantiate the imputer with a strategy (e.g., 'mean', 'median', 'most_frequent')\n",
    "imputer = SimpleImputer(strategy='mean')\n",
    "\n",
    "# Fit and transform the imputer on your training data\n",
    "X_train_imputed = imputer.fit_transform(X_train)\n",
    "\n",
    "# Now use X_train_imputed for training your model\n"
   ]
  },
  {
   "cell_type": "code",
   "execution_count": 127,
   "metadata": {},
   "outputs": [
    {
     "name": "stderr",
     "output_type": "stream",
     "text": [
      "/var/folders/dg/1t9c6vm1173b_9sgsw2bt26c0000gn/T/ipykernel_25318/335538605.py:1: SettingWithCopyWarning: \n",
      "A value is trying to be set on a copy of a slice from a DataFrame\n",
      "\n",
      "See the caveats in the documentation: https://pandas.pydata.org/pandas-docs/stable/user_guide/indexing.html#returning-a-view-versus-a-copy\n",
      "  X_train.dropna(inplace=True)\n"
     ]
    }
   ],
   "source": [
    "X_train.dropna(inplace=True)\n",
    "y_train = y_train[X_train.index]  # Adjust y_train accordingly\n"
   ]
  },
  {
   "cell_type": "code",
   "execution_count": 128,
   "metadata": {},
   "outputs": [],
   "source": [
    "X_train = X_train.dropna()\n",
    "y_train = y_train[X_train.index]  # Adjust y_train accordingly\n"
   ]
  },
  {
   "cell_type": "code",
   "execution_count": 135,
   "metadata": {},
   "outputs": [],
   "source": [
    "# Assuming 'X' is your feature matrix\n",
    "X_encoded = pd.get_dummies(X, columns=['job', 'age', 'balance', 'poutcome', 'contact'])\n"
   ]
  },
  {
   "cell_type": "code",
   "execution_count": 140,
   "metadata": {},
   "outputs": [
    {
     "data": {
      "text/html": [
       "<style>#sk-container-id-2 {color: black;}#sk-container-id-2 pre{padding: 0;}#sk-container-id-2 div.sk-toggleable {background-color: white;}#sk-container-id-2 label.sk-toggleable__label {cursor: pointer;display: block;width: 100%;margin-bottom: 0;padding: 0.3em;box-sizing: border-box;text-align: center;}#sk-container-id-2 label.sk-toggleable__label-arrow:before {content: \"▸\";float: left;margin-right: 0.25em;color: #696969;}#sk-container-id-2 label.sk-toggleable__label-arrow:hover:before {color: black;}#sk-container-id-2 div.sk-estimator:hover label.sk-toggleable__label-arrow:before {color: black;}#sk-container-id-2 div.sk-toggleable__content {max-height: 0;max-width: 0;overflow: hidden;text-align: left;background-color: #f0f8ff;}#sk-container-id-2 div.sk-toggleable__content pre {margin: 0.2em;color: black;border-radius: 0.25em;background-color: #f0f8ff;}#sk-container-id-2 input.sk-toggleable__control:checked~div.sk-toggleable__content {max-height: 200px;max-width: 100%;overflow: auto;}#sk-container-id-2 input.sk-toggleable__control:checked~label.sk-toggleable__label-arrow:before {content: \"▾\";}#sk-container-id-2 div.sk-estimator input.sk-toggleable__control:checked~label.sk-toggleable__label {background-color: #d4ebff;}#sk-container-id-2 div.sk-label input.sk-toggleable__control:checked~label.sk-toggleable__label {background-color: #d4ebff;}#sk-container-id-2 input.sk-hidden--visually {border: 0;clip: rect(1px 1px 1px 1px);clip: rect(1px, 1px, 1px, 1px);height: 1px;margin: -1px;overflow: hidden;padding: 0;position: absolute;width: 1px;}#sk-container-id-2 div.sk-estimator {font-family: monospace;background-color: #f0f8ff;border: 1px dotted black;border-radius: 0.25em;box-sizing: border-box;margin-bottom: 0.5em;}#sk-container-id-2 div.sk-estimator:hover {background-color: #d4ebff;}#sk-container-id-2 div.sk-parallel-item::after {content: \"\";width: 100%;border-bottom: 1px solid gray;flex-grow: 1;}#sk-container-id-2 div.sk-label:hover label.sk-toggleable__label {background-color: #d4ebff;}#sk-container-id-2 div.sk-serial::before {content: \"\";position: absolute;border-left: 1px solid gray;box-sizing: border-box;top: 0;bottom: 0;left: 50%;z-index: 0;}#sk-container-id-2 div.sk-serial {display: flex;flex-direction: column;align-items: center;background-color: white;padding-right: 0.2em;padding-left: 0.2em;position: relative;}#sk-container-id-2 div.sk-item {position: relative;z-index: 1;}#sk-container-id-2 div.sk-parallel {display: flex;align-items: stretch;justify-content: center;background-color: white;position: relative;}#sk-container-id-2 div.sk-item::before, #sk-container-id-2 div.sk-parallel-item::before {content: \"\";position: absolute;border-left: 1px solid gray;box-sizing: border-box;top: 0;bottom: 0;left: 50%;z-index: -1;}#sk-container-id-2 div.sk-parallel-item {display: flex;flex-direction: column;z-index: 1;position: relative;background-color: white;}#sk-container-id-2 div.sk-parallel-item:first-child::after {align-self: flex-end;width: 50%;}#sk-container-id-2 div.sk-parallel-item:last-child::after {align-self: flex-start;width: 50%;}#sk-container-id-2 div.sk-parallel-item:only-child::after {width: 0;}#sk-container-id-2 div.sk-dashed-wrapped {border: 1px dashed gray;margin: 0 0.4em 0.5em 0.4em;box-sizing: border-box;padding-bottom: 0.4em;background-color: white;}#sk-container-id-2 div.sk-label label {font-family: monospace;font-weight: bold;display: inline-block;line-height: 1.2em;}#sk-container-id-2 div.sk-label-container {text-align: center;}#sk-container-id-2 div.sk-container {/* jupyter's `normalize.less` sets `[hidden] { display: none; }` but bootstrap.min.css set `[hidden] { display: none !important; }` so we also need the `!important` here to be able to override the default hidden behavior on the sphinx rendered scikit-learn.org. See: https://github.com/scikit-learn/scikit-learn/issues/21755 */display: inline-block !important;position: relative;}#sk-container-id-2 div.sk-text-repr-fallback {display: none;}</style><div id=\"sk-container-id-2\" class=\"sk-top-container\"><div class=\"sk-text-repr-fallback\"><pre>RandomForestClassifier(random_state=42)</pre><b>In a Jupyter environment, please rerun this cell to show the HTML representation or trust the notebook. <br />On GitHub, the HTML representation is unable to render, please try loading this page with nbviewer.org.</b></div><div class=\"sk-container\" hidden><div class=\"sk-item\"><div class=\"sk-estimator sk-toggleable\"><input class=\"sk-toggleable__control sk-hidden--visually\" id=\"sk-estimator-id-9\" type=\"checkbox\" checked><label for=\"sk-estimator-id-9\" class=\"sk-toggleable__label sk-toggleable__label-arrow\">RandomForestClassifier</label><div class=\"sk-toggleable__content\"><pre>RandomForestClassifier(random_state=42)</pre></div></div></div></div></div>"
      ],
      "text/plain": [
       "RandomForestClassifier(random_state=42)"
      ]
     },
     "execution_count": 140,
     "metadata": {},
     "output_type": "execute_result"
    }
   ],
   "source": [
    "from sklearn.impute import SimpleImputer\n",
    "\n",
    "# Create an imputer with a strategy (e.g., mean, median, etc.)\n",
    "imputer = SimpleImputer(strategy='mean')\n",
    "\n",
    "# Fit and transform the imputer on your training data\n",
    "X_train_imputed = imputer.fit_transform(X_train)\n",
    "\n",
    "# Transform the imputer on your test data\n",
    "X_test_imputed = imputer.transform(X_test)\n",
    "\n",
    "# Now, train your RandomForestClassifier on the imputed data\n",
    "rf_model.fit(X_train_imputed, y_train)\n"
   ]
  },
  {
   "cell_type": "code",
   "execution_count": 142,
   "metadata": {},
   "outputs": [
    {
     "data": {
      "text/html": [
       "<style>#sk-container-id-4 {color: black;}#sk-container-id-4 pre{padding: 0;}#sk-container-id-4 div.sk-toggleable {background-color: white;}#sk-container-id-4 label.sk-toggleable__label {cursor: pointer;display: block;width: 100%;margin-bottom: 0;padding: 0.3em;box-sizing: border-box;text-align: center;}#sk-container-id-4 label.sk-toggleable__label-arrow:before {content: \"▸\";float: left;margin-right: 0.25em;color: #696969;}#sk-container-id-4 label.sk-toggleable__label-arrow:hover:before {color: black;}#sk-container-id-4 div.sk-estimator:hover label.sk-toggleable__label-arrow:before {color: black;}#sk-container-id-4 div.sk-toggleable__content {max-height: 0;max-width: 0;overflow: hidden;text-align: left;background-color: #f0f8ff;}#sk-container-id-4 div.sk-toggleable__content pre {margin: 0.2em;color: black;border-radius: 0.25em;background-color: #f0f8ff;}#sk-container-id-4 input.sk-toggleable__control:checked~div.sk-toggleable__content {max-height: 200px;max-width: 100%;overflow: auto;}#sk-container-id-4 input.sk-toggleable__control:checked~label.sk-toggleable__label-arrow:before {content: \"▾\";}#sk-container-id-4 div.sk-estimator input.sk-toggleable__control:checked~label.sk-toggleable__label {background-color: #d4ebff;}#sk-container-id-4 div.sk-label input.sk-toggleable__control:checked~label.sk-toggleable__label {background-color: #d4ebff;}#sk-container-id-4 input.sk-hidden--visually {border: 0;clip: rect(1px 1px 1px 1px);clip: rect(1px, 1px, 1px, 1px);height: 1px;margin: -1px;overflow: hidden;padding: 0;position: absolute;width: 1px;}#sk-container-id-4 div.sk-estimator {font-family: monospace;background-color: #f0f8ff;border: 1px dotted black;border-radius: 0.25em;box-sizing: border-box;margin-bottom: 0.5em;}#sk-container-id-4 div.sk-estimator:hover {background-color: #d4ebff;}#sk-container-id-4 div.sk-parallel-item::after {content: \"\";width: 100%;border-bottom: 1px solid gray;flex-grow: 1;}#sk-container-id-4 div.sk-label:hover label.sk-toggleable__label {background-color: #d4ebff;}#sk-container-id-4 div.sk-serial::before {content: \"\";position: absolute;border-left: 1px solid gray;box-sizing: border-box;top: 0;bottom: 0;left: 50%;z-index: 0;}#sk-container-id-4 div.sk-serial {display: flex;flex-direction: column;align-items: center;background-color: white;padding-right: 0.2em;padding-left: 0.2em;position: relative;}#sk-container-id-4 div.sk-item {position: relative;z-index: 1;}#sk-container-id-4 div.sk-parallel {display: flex;align-items: stretch;justify-content: center;background-color: white;position: relative;}#sk-container-id-4 div.sk-item::before, #sk-container-id-4 div.sk-parallel-item::before {content: \"\";position: absolute;border-left: 1px solid gray;box-sizing: border-box;top: 0;bottom: 0;left: 50%;z-index: -1;}#sk-container-id-4 div.sk-parallel-item {display: flex;flex-direction: column;z-index: 1;position: relative;background-color: white;}#sk-container-id-4 div.sk-parallel-item:first-child::after {align-self: flex-end;width: 50%;}#sk-container-id-4 div.sk-parallel-item:last-child::after {align-self: flex-start;width: 50%;}#sk-container-id-4 div.sk-parallel-item:only-child::after {width: 0;}#sk-container-id-4 div.sk-dashed-wrapped {border: 1px dashed gray;margin: 0 0.4em 0.5em 0.4em;box-sizing: border-box;padding-bottom: 0.4em;background-color: white;}#sk-container-id-4 div.sk-label label {font-family: monospace;font-weight: bold;display: inline-block;line-height: 1.2em;}#sk-container-id-4 div.sk-label-container {text-align: center;}#sk-container-id-4 div.sk-container {/* jupyter's `normalize.less` sets `[hidden] { display: none; }` but bootstrap.min.css set `[hidden] { display: none !important; }` so we also need the `!important` here to be able to override the default hidden behavior on the sphinx rendered scikit-learn.org. See: https://github.com/scikit-learn/scikit-learn/issues/21755 */display: inline-block !important;position: relative;}#sk-container-id-4 div.sk-text-repr-fallback {display: none;}</style><div id=\"sk-container-id-4\" class=\"sk-top-container\"><div class=\"sk-text-repr-fallback\"><pre>RandomForestClassifier(random_state=42)</pre><b>In a Jupyter environment, please rerun this cell to show the HTML representation or trust the notebook. <br />On GitHub, the HTML representation is unable to render, please try loading this page with nbviewer.org.</b></div><div class=\"sk-container\" hidden><div class=\"sk-item\"><div class=\"sk-estimator sk-toggleable\"><input class=\"sk-toggleable__control sk-hidden--visually\" id=\"sk-estimator-id-11\" type=\"checkbox\" checked><label for=\"sk-estimator-id-11\" class=\"sk-toggleable__label sk-toggleable__label-arrow\">RandomForestClassifier</label><div class=\"sk-toggleable__content\"><pre>RandomForestClassifier(random_state=42)</pre></div></div></div></div></div>"
      ],
      "text/plain": [
       "RandomForestClassifier(random_state=42)"
      ]
     },
     "execution_count": 142,
     "metadata": {},
     "output_type": "execute_result"
    }
   ],
   "source": [
    "# Drop rows with missing values from both X and y\n",
    "X_train_no_missing = X_train.dropna()\n",
    "y_train_no_missing = y_train[X_train_no_missing.index]\n",
    "\n",
    "X_test_no_missing = X_test.dropna()\n",
    "y_test_no_missing = y_test[X_test_no_missing.index]\n",
    "\n",
    "# Train your RandomForestClassifier on the data without missing values\n",
    "rf_model.fit(X_train_no_missing, y_train_no_missing)\n"
   ]
  },
  {
   "cell_type": "code",
   "execution_count": 145,
   "metadata": {},
   "outputs": [],
   "source": [
    "from sklearn.impute import SimpleImputer\n",
    "\n",
    "imputer = SimpleImputer(strategy='mean')\n",
    "X_train_imputed = imputer.fit_transform(X_train)\n",
    "X_test_imputed = imputer.transform(X_test)\n"
   ]
  },
  {
   "cell_type": "code",
   "execution_count": 147,
   "metadata": {},
   "outputs": [],
   "source": [
    "X_train_no_missing = X_train.dropna(axis=0)  # Drop rows with missing values\n",
    "y_train_no_missing = y_train[X_train_no_missing.index]\n",
    "\n",
    "X_test_no_missing = X_test.dropna(axis=0)\n",
    "y_test_no_missing = y_test[X_test_no_missing.index]\n"
   ]
  },
  {
   "cell_type": "code",
   "execution_count": 148,
   "metadata": {},
   "outputs": [],
   "source": [
    "X_train_no_missing = X_train.dropna(axis=0)  # Drop rows with missing values\n",
    "y_train_no_missing = y_train[X_train_no_missing.index]\n",
    "\n",
    "X_test_no_missing = X_test.dropna(axis=0)\n",
    "y_test_no_missing = y_test[X_test_no_missing.index]\n"
   ]
  },
  {
   "cell_type": "code",
   "execution_count": 151,
   "metadata": {},
   "outputs": [],
   "source": [
    "X_train_no_missing = X_train.dropna(axis=0)  # Drop rows with missing values\n",
    "y_train_no_missing = y_train[X_train_no_missing.index]\n",
    "\n",
    "X_test_no_missing = X_test.dropna(axis=0)\n",
    "y_test_no_missing = y_test[X_test_no_missing.index]\n"
   ]
  },
  {
   "cell_type": "code",
   "execution_count": 153,
   "metadata": {},
   "outputs": [],
   "source": [
    "X_train_no_missing = X_train.dropna(axis=0)  # Drop rows with missing values\n",
    "y_train_no_missing = y_train[X_train_no_missing.index]\n",
    "\n",
    "X_test_no_missing = X_test.dropna(axis=0)\n",
    "y_test_no_missing = y_test[X_test_no_missing.index]\n"
   ]
  },
  {
   "cell_type": "code",
   "execution_count": 154,
   "metadata": {},
   "outputs": [],
   "source": [
    "rf_model.fit(X_train_imputed, y_train)\n",
    "rf_predictions = rf_model.predict(X_test_imputed)\n"
   ]
  },
  {
   "cell_type": "code",
   "execution_count": 155,
   "metadata": {},
   "outputs": [
    {
     "name": "stdout",
     "output_type": "stream",
     "text": [
      "Accuracy: 0.0\n",
      "Classification Report:\n",
      "               precision    recall  f1-score   support\n",
      "\n",
      "           0       0.00      0.00      0.00       1.0\n",
      "           1       0.00      0.00      0.00       0.0\n",
      "\n",
      "    accuracy                           0.00       1.0\n",
      "   macro avg       0.00      0.00      0.00       1.0\n",
      "weighted avg       0.00      0.00      0.00       1.0\n",
      "\n"
     ]
    },
    {
     "name": "stderr",
     "output_type": "stream",
     "text": [
      "/Users/tambunanrmgtgmail.com/anaconda3/envs/myenv/lib/python3.10/site-packages/sklearn/metrics/_classification.py:1469: UndefinedMetricWarning: Precision and F-score are ill-defined and being set to 0.0 in labels with no predicted samples. Use `zero_division` parameter to control this behavior.\n",
      "  _warn_prf(average, modifier, msg_start, len(result))\n",
      "/Users/tambunanrmgtgmail.com/anaconda3/envs/myenv/lib/python3.10/site-packages/sklearn/metrics/_classification.py:1469: UndefinedMetricWarning: Recall and F-score are ill-defined and being set to 0.0 in labels with no true samples. Use `zero_division` parameter to control this behavior.\n",
      "  _warn_prf(average, modifier, msg_start, len(result))\n",
      "/Users/tambunanrmgtgmail.com/anaconda3/envs/myenv/lib/python3.10/site-packages/sklearn/metrics/_classification.py:1469: UndefinedMetricWarning: Precision and F-score are ill-defined and being set to 0.0 in labels with no predicted samples. Use `zero_division` parameter to control this behavior.\n",
      "  _warn_prf(average, modifier, msg_start, len(result))\n",
      "/Users/tambunanrmgtgmail.com/anaconda3/envs/myenv/lib/python3.10/site-packages/sklearn/metrics/_classification.py:1469: UndefinedMetricWarning: Recall and F-score are ill-defined and being set to 0.0 in labels with no true samples. Use `zero_division` parameter to control this behavior.\n",
      "  _warn_prf(average, modifier, msg_start, len(result))\n",
      "/Users/tambunanrmgtgmail.com/anaconda3/envs/myenv/lib/python3.10/site-packages/sklearn/metrics/_classification.py:1469: UndefinedMetricWarning: Precision and F-score are ill-defined and being set to 0.0 in labels with no predicted samples. Use `zero_division` parameter to control this behavior.\n",
      "  _warn_prf(average, modifier, msg_start, len(result))\n",
      "/Users/tambunanrmgtgmail.com/anaconda3/envs/myenv/lib/python3.10/site-packages/sklearn/metrics/_classification.py:1469: UndefinedMetricWarning: Recall and F-score are ill-defined and being set to 0.0 in labels with no true samples. Use `zero_division` parameter to control this behavior.\n",
      "  _warn_prf(average, modifier, msg_start, len(result))\n"
     ]
    }
   ],
   "source": [
    "from sklearn.metrics import accuracy_score, classification_report\n",
    "\n",
    "print(\"Accuracy:\", accuracy_score(y_test, rf_predictions))\n",
    "print(\"Classification Report:\\n\", classification_report(y_test, rf_predictions))\n"
   ]
  },
  {
   "cell_type": "markdown",
   "metadata": {},
   "source": [
    "Sepertinya ada masalah dengan metrik evaluasi karena sifat set data ini yang tidak seimbang. Pesan peringatan menunjukkan bahwa presisi, perolehan, dan skor F tidak jelas untuk beberapa kelas karena tidak ada sampel yang diprediksi atau benar untuk kelas tersebut.\n",
    "\n",
    "Dalam hal ini, model ini tidak membuat prediksi positif apa pun (semua prediksi ditujukan untuk kelas negatif). Hal ini menghasilkan nol presisi, recall, dan F-score untuk kelas positif.\n",
    "\n",
    "Berikut beberapa hal yang dapat di pertimbangkan:\n",
    "\n",
    "Periksa distribusi kelas dalam kumpulan data Anda: Pastikan kumpulan data ini memiliki distribusi sampel positif dan negatif yang wajar.\n",
    "\n",
    "Jika kelas positif kurang terwakili, model mungkin mengalami kesulitan belajar memprediksinya.\n",
    "Menangani ketidakseimbangan kelas: Jika ada ketidakseimbangan kelas, pertimbangkan teknik seperti pengambilan sampel yang berlebihan pada kelas minoritas, pengambilan sampel yang terlalu kecil pada kelas mayoritas, atau penggunaan bobot kelas selama dijalankan.\n",
    "\n",
    "Gunakan metrik evaluasi yang berbeda: Dalam kumpulan data yang tidak seimbang, akurasi mungkin bukan metrik yang baik. Pertimbangkan untuk menggunakan metrik seperti :\n",
    "1. Precision/presisi, \n",
    "2. Recall/perolehan, \n",
    "3. F1-score/skor F1, atau \n",
    "4. ROC curve (AUC-ROC)/area di bawah kurva ROC (AUC-ROC) yang lebih informatif untuk kumpulan data yang tidak seimbang.\n",
    "Sesuaikan parameter model: Bergantung pada jenis model yang Anda gunakan, mungkin ada parameter yang mengontrol bobot kelas atau penanganan kumpulan data yang tidak seimbang.\n"
   ]
  },
  {
   "cell_type": "code",
   "execution_count": 159,
   "metadata": {},
   "outputs": [],
   "source": [
    "from sklearn.impute import SimpleImputer\n",
    "\n",
    "# Create an imputer\n",
    "imputer = SimpleImputer(strategy='mean')  # You can choose a different strategy based on your data\n",
    "\n",
    "# Fit and transform the imputer on your training data\n",
    "X_train_imputed = imputer.fit_transform(X_train)\n",
    "\n",
    "# Transform the imputer on your testing data\n",
    "X_test_imputed = imputer.transform(X_test)\n"
   ]
  },
  {
   "cell_type": "code",
   "execution_count": 161,
   "metadata": {},
   "outputs": [],
   "source": [
    "X_train_no_missing = X_train.dropna(axis=0)  # Drop rows with missing values\n",
    "y_train_no_missing = y_train[X_train_no_missing.index]\n",
    "\n",
    "X_test_no_missing = X_test.dropna(axis=0)\n",
    "y_test_no_missing = y_test[X_test_no_missing.index]\n"
   ]
  },
  {
   "cell_type": "markdown",
   "metadata": {},
   "source": [
    "Imputation"
   ]
  },
  {
   "cell_type": "code",
   "execution_count": 163,
   "metadata": {},
   "outputs": [],
   "source": [
    "from sklearn.impute import SimpleImputer\n",
    "\n",
    "# Create an imputer\n",
    "imputer = SimpleImputer(strategy='mean')  # You can choose a different strategy based on your data\n",
    "\n",
    "# Fit and transform the imputer on your training data\n",
    "X_train_imputed = imputer.fit_transform(X_train)\n",
    "\n",
    "# Transform the imputer on your testing data\n",
    "X_test_imputed = imputer.transform(X_test)\n"
   ]
  },
  {
   "cell_type": "markdown",
   "metadata": {},
   "source": [
    "Dropping Missing Values"
   ]
  },
  {
   "cell_type": "code",
   "execution_count": 165,
   "metadata": {},
   "outputs": [],
   "source": [
    "y_train_no_missing = y_train[X_train_no_missing.index]\n",
    "y_test_no_missing = y_test[X_test_no_missing.index]\n"
   ]
  },
  {
   "cell_type": "code",
   "execution_count": 168,
   "metadata": {},
   "outputs": [],
   "source": [
    "from sklearn.preprocessing import StandardScaler\n",
    "\n",
    "# Create a StandardScaler object\n",
    "scaler = StandardScaler()\n",
    "\n",
    "# Fit the scaler on the training data and transform both training and testing data\n",
    "X_train_scaled = scaler.fit_transform(X_train_imputed)\n",
    "X_test_scaled = scaler.transform(X_test_imputed)\n",
    "\n",
    "# Continue with model training using scaled data\n"
   ]
  },
  {
   "cell_type": "code",
   "execution_count": 169,
   "metadata": {},
   "outputs": [
    {
     "name": "stdout",
     "output_type": "stream",
     "text": [
      "Accuracy: 0.0\n",
      "Classification Report:\n",
      "              precision    recall  f1-score   support\n",
      "\n",
      "           0       0.00      0.00      0.00       1.0\n",
      "           1       0.00      0.00      0.00       0.0\n",
      "\n",
      "    accuracy                           0.00       1.0\n",
      "   macro avg       0.00      0.00      0.00       1.0\n",
      "weighted avg       0.00      0.00      0.00       1.0\n",
      "\n"
     ]
    },
    {
     "name": "stderr",
     "output_type": "stream",
     "text": [
      "/Users/tambunanrmgtgmail.com/anaconda3/envs/myenv/lib/python3.10/site-packages/sklearn/metrics/_classification.py:1469: UndefinedMetricWarning: Precision and F-score are ill-defined and being set to 0.0 in labels with no predicted samples. Use `zero_division` parameter to control this behavior.\n",
      "  _warn_prf(average, modifier, msg_start, len(result))\n",
      "/Users/tambunanrmgtgmail.com/anaconda3/envs/myenv/lib/python3.10/site-packages/sklearn/metrics/_classification.py:1469: UndefinedMetricWarning: Recall and F-score are ill-defined and being set to 0.0 in labels with no true samples. Use `zero_division` parameter to control this behavior.\n",
      "  _warn_prf(average, modifier, msg_start, len(result))\n",
      "/Users/tambunanrmgtgmail.com/anaconda3/envs/myenv/lib/python3.10/site-packages/sklearn/metrics/_classification.py:1469: UndefinedMetricWarning: Precision and F-score are ill-defined and being set to 0.0 in labels with no predicted samples. Use `zero_division` parameter to control this behavior.\n",
      "  _warn_prf(average, modifier, msg_start, len(result))\n",
      "/Users/tambunanrmgtgmail.com/anaconda3/envs/myenv/lib/python3.10/site-packages/sklearn/metrics/_classification.py:1469: UndefinedMetricWarning: Recall and F-score are ill-defined and being set to 0.0 in labels with no true samples. Use `zero_division` parameter to control this behavior.\n",
      "  _warn_prf(average, modifier, msg_start, len(result))\n",
      "/Users/tambunanrmgtgmail.com/anaconda3/envs/myenv/lib/python3.10/site-packages/sklearn/metrics/_classification.py:1469: UndefinedMetricWarning: Precision and F-score are ill-defined and being set to 0.0 in labels with no predicted samples. Use `zero_division` parameter to control this behavior.\n",
      "  _warn_prf(average, modifier, msg_start, len(result))\n",
      "/Users/tambunanrmgtgmail.com/anaconda3/envs/myenv/lib/python3.10/site-packages/sklearn/metrics/_classification.py:1469: UndefinedMetricWarning: Recall and F-score are ill-defined and being set to 0.0 in labels with no true samples. Use `zero_division` parameter to control this behavior.\n",
      "  _warn_prf(average, modifier, msg_start, len(result))\n"
     ]
    }
   ],
   "source": [
    "from sklearn.svm import SVC\n",
    "from sklearn.metrics import accuracy_score, classification_report\n",
    "\n",
    "# Create an SVM model\n",
    "svm_model = SVC(kernel='linear', random_state=42)  # You can choose different kernels like 'rbf', 'poly', etc.\n",
    "\n",
    "# Train the model\n",
    "svm_model.fit(X_train_imputed, y_train)  # Use X_train_no_missing if you chose the dropping method\n",
    "\n",
    "# Make predictions\n",
    "svm_predictions = svm_model.predict(X_test_imputed)  # Use X_test_no_missing if you chose the dropping method\n",
    "\n",
    "# Evaluate model performance\n",
    "accuracy = accuracy_score(y_test, svm_predictions)\n",
    "classification_rep = classification_report(y_test, svm_predictions)\n",
    "\n",
    "print(f\"Accuracy: {accuracy}\")\n",
    "print(\"Classification Report:\")\n",
    "print(classification_rep)\n"
   ]
  },
  {
   "cell_type": "markdown",
   "metadata": {},
   "source": [
    "### Feature Importances"
   ]
  },
  {
   "cell_type": "code",
   "execution_count": 170,
   "metadata": {},
   "outputs": [
    {
     "name": "stdout",
     "output_type": "stream",
     "text": [
      "pdays: -0.2118791921218067\n",
      "age: 0.16297557562511894\n",
      "job_doctor: -0.08692273895765286\n",
      "housing_no: -0.08692273895765286\n",
      "contact_email: -0.08692273895765286\n",
      "month_apr: -0.08692273895765286\n",
      "poutcome_unknown: -0.08692273895765286\n",
      "housing_yes: 0.08692273895765283\n",
      "contact_phone: 0.08692273895765283\n",
      "poutcome_success: 0.08692273895765283\n",
      "job_artist: 0.0597589270413384\n",
      "month_may: 0.0597589270413384\n",
      "campaign: 0.032595115125023874\n",
      "loan_no: -0.027163811916314458\n",
      "job_teacher: 0.027163811916314434\n",
      "loan_yes: 0.027163811916314434\n",
      "month_mar: 0.027163811916314434\n",
      "balance: -3.502753642692369e-13\n",
      "job_engineer: 0.0\n",
      "job_manager: 0.0\n",
      "month_feb: 0.0\n",
      "month_jan: 0.0\n",
      "poutcome_failure: 0.0\n"
     ]
    }
   ],
   "source": [
    "# Get the coefficients (weights) of the features\n",
    "coefficients = svm_model.coef_\n",
    "\n",
    "# Create a dictionary mapping feature names to their corresponding coefficients\n",
    "feature_importance = dict(zip(X_train.columns, coefficients[0]))\n",
    "\n",
    "# Sort the features based on their importance\n",
    "sorted_feature_importance = sorted(feature_importance.items(), key=lambda x: abs(x[1]), reverse=True)\n",
    "\n",
    "# Display the sorted feature importance\n",
    "for feature, importance in sorted_feature_importance:\n",
    "    print(f\"{feature}: {importance}\")\n"
   ]
  },
  {
   "cell_type": "markdown",
   "metadata": {},
   "source": [
    "Perlu diingat bahwa pendekatan ini mengasumsikan SVM linier. Jika kita menggunakan kernel non-linier, penafsiran pentingnya fitur menjadi lebih rumit. Dalam kasus seperti ini, kita dapat mempertimbangkan untuk menggunakan teknik khusus untuk jenis kernel, atau Anda dapat menjelajahi metode model-agnostik untuk kepentingan fitur, seperti kepentingan permutasi atau nilai SHAP."
   ]
  },
  {
   "cell_type": "markdown",
   "metadata": {},
   "source": [
    "## Feature Importance"
   ]
  },
  {
   "cell_type": "code",
   "execution_count": 171,
   "metadata": {},
   "outputs": [
    {
     "data": {
      "image/png": "[encoded data removed]",
      "text/plain": [
       "<Figure size 1200x800 with 1 Axes>"
      ]
     },
     "metadata": {},
     "output_type": "display_data"
    }
   ],
   "source": [
    "import matplotlib.pyplot as plt\n",
    "import seaborn as sns\n",
    "\n",
    "# Extract feature names and coefficients\n",
    "features = list(feature_importance.keys())\n",
    "coefficients = list(feature_importance.values())\n",
    "\n",
    "# Create a bar plot\n",
    "plt.figure(figsize=(12, 8))\n",
    "sns.barplot(x=coefficients, y=features, orient='h', palette='viridis')\n",
    "plt.title('Feature Importance in Predicting Term Deposit Purchase')\n",
    "plt.xlabel('Coefficient')\n",
    "plt.ylabel('Features')\n",
    "plt.show()\n"
   ]
  },
  {
   "cell_type": "markdown",
   "metadata": {},
   "source": [
    "Plot ini akan membantu kita menafsirkan secara visual pentingnya setiap fitur. Fitur dengan koefisien positif yang lebih besar berkontribusi lebih positif terhadap kemungkinan pembelian deposito, sedangkan fitur dengan koefisien negatif yang lebih besar memiliki dampak negatif yang lebih kuat.\n",
    "\n",
    "Sekarang, mari kita analisis hasilnya:\n",
    "\n",
    "1. Pdays: Koefisien negatif menunjukkan bahwa semakin banyak hari sejak kontak terakhir mengurangi kemungkinan pembelian deposito berjangka.\n",
    "usia: Koefisien positif menunjukkan bahwa usia yang lebih tua meningkatkan kemungkinan pembelian deposito berjangka.\n",
    "2. Job_Doctor, housing_no, contact_email, moon_apr, poutcome_unknown: Fitur-fitur ini memiliki koefisien negatif, *sehingga menunjukkan dampak negatif terhadap kemungkinan pembelian deposito berjangka.*\n",
    "3. Housing_yes, contact_phone, poutcome_success, job_artist, Month_may, campaign, loan_no, job_teacher, loan_yes, Month_mar: Fitur-fitur ini memiliki koefisien positif, yang menunjukkan dampak positif terhadap kemungkinan pembelian deposito berjangka.\n",
    "4. Balance, job_engineer, job_manager, Month_feb, Month_jan, poutcome_failure: Fitur-fitur ini memiliki koefisien mendekati nol, yang menunjukkan dampak lemah terhadap kemungkinan pembelian deposito berjangka.\n",
    "\n",
    "\n",
    "## Rekomendasi\n",
    "Berdasarkan analisis tersebut, bank atau lembaga keuangan dapat mempertimbangkan rekomendasi berikut:\n",
    "\n",
    "1. Fokus pada kelompok usia yang lebih tua: Karena usia mempunyai dampak positif, menargetkan individu yang lebih tua dapat meningkatkan kemungkinan pembelian deposito berjangka.\n",
    "2. Tinjau strategi kontak: Analisis dampak metode kontak (email, telepon) dan waktu (bulan) terhadap keputusan pelanggan. Sesuaikan strategi berdasarkan koefisien negatif dan positif.\n",
    "3. Pertimbangkan efektivitas kampanye: Evaluasi dampak positif dari jumlah kontak (kampanye) dan sesuaikan strategi pemasaran.\n",
    "Menilai saldo pelanggan: Fitur saldo memiliki koefisien kecil, yang menunjukkan dampak lemah. Namun, perlu ditelusuri apakah rentang keseimbangan tertentu mempunyai pengaruh yang lebih signifikan.\n",
    "\n",
    "*Note* : Penting untuk diperhatikan bahwa interpretasi didasarkan pada asumsi bahwa model menangkap hubungan dalam data dengan benar. Evaluasi dan validasi model secara berkala sangat penting untuk memastikan keandalan dan efektivitas model dalam membuat prediksi. Selain itu, eksplorasi lebih lanjut dan pengetahuan domain dapat memberikan wawasan yang lebih mendalam tentang perilaku pelanggan."
   ]
  },
  {
   "cell_type": "markdown",
   "metadata": {},
   "source": []
  }
 ],
 "metadata": {
  "kernelspec": {
   "display_name": "base",
   "language": "python",
   "name": "python3"
  },
  "language_info": {
   "codemirror_mode": {
    "name": "ipython",
    "version": 3
   },
   "file_extension": ".py",
   "mimetype": "text/x-python",
   "name": "python",
   "nbconvert_exporter": "python",
   "pygments_lexer": "ipython3",
   "version": "3.10.12"
  }
 },
 "nbformat": 4,
 "nbformat_minor": 2
}
